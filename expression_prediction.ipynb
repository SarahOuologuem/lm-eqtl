{
 "cells": [
  {
   "cell_type": "code",
   "execution_count": 1,
   "metadata": {},
   "outputs": [],
   "source": [
    "import numpy as np\n",
    "import pandas as pd\n",
    "\n",
    "from sklearn.model_selection import train_test_split\n",
    "from sklearn.linear_model import LinearRegression, Ridge, Lasso, ElasticNet\n",
    "from sklearn.metrics import explained_variance_score, r2_score\n",
    "from sklearn.svm import SVR\n",
    "from sklearn.pipeline import make_pipeline\n",
    "from sklearn.preprocessing import StandardScaler\n",
    "\n",
    "from scipy.stats import pearsonr"
   ]
  },
  {
   "cell_type": "markdown",
   "metadata": {},
   "source": [
    "# 1 Preparation"
   ]
  },
  {
   "cell_type": "markdown",
   "metadata": {},
   "source": [
    "## 1.1 Embeddings"
   ]
  },
  {
   "cell_type": "code",
   "execution_count": 111,
   "metadata": {},
   "outputs": [
    {
     "data": {
      "text/plain": [
       "10060"
      ]
     },
     "execution_count": 111,
     "metadata": {},
     "output_type": "execute_result"
    }
   ],
   "source": [
    "embeddings = pd.read_pickle('test/embeddings_complete.pickle')\n",
    "len(embeddings)"
   ]
  },
  {
   "cell_type": "code",
   "execution_count": 112,
   "metadata": {},
   "outputs": [],
   "source": [
    "# combine 2 embeddings of father and mother for each individual\n",
    "sample_id = []\n",
    "gene_id = []\n",
    "embedding = []\n",
    "for i in range(0, len(embeddings), 2):\n",
    "    sid = embeddings[i][0].split(':')[1]\n",
    "    gid = embeddings[i][0].split(':')[2]\n",
    "    sample_id.append(sid)\n",
    "    gene_id.append(gid)\n",
    "    combined_embedding = embeddings[i][1] + embeddings[i+1][1]    # sum embedding\n",
    "    # combined_embedding = (embeddings[i][1] + embeddings[i+1][1])/2    # mean embedding\n",
    "    # combined_embedding = np.concatenate([embeddings[i][1], embeddings[i+1][1]]) # concatenate 2 embeddings.\n",
    "    embedding.append(combined_embedding)\n",
    "    # order of mother and father should in theory not matter # TODO: does it make sense?\n",
    "    # embedding.append(np.concatenate([embeddings[i+1][1], embeddings[i][1]]))\n",
    "    # sample_id.append(sid)\n",
    "    # gene_id.append(gid)\n",
    "df = pd.DataFrame({\"sample_id\": sample_id, \"gene_id\": gene_id, \"embedding\": embedding})"
   ]
  },
  {
   "cell_type": "code",
   "execution_count": 113,
   "metadata": {},
   "outputs": [
    {
     "data": {
      "text/html": [
       "<div>\n",
       "<style scoped>\n",
       "    .dataframe tbody tr th:only-of-type {\n",
       "        vertical-align: middle;\n",
       "    }\n",
       "\n",
       "    .dataframe tbody tr th {\n",
       "        vertical-align: top;\n",
       "    }\n",
       "\n",
       "    .dataframe thead th {\n",
       "        text-align: right;\n",
       "    }\n",
       "</style>\n",
       "<table border=\"1\" class=\"dataframe\">\n",
       "  <thead>\n",
       "    <tr style=\"text-align: right;\">\n",
       "      <th></th>\n",
       "      <th>sample_id</th>\n",
       "      <th>gene_id</th>\n",
       "      <th>embedding</th>\n",
       "    </tr>\n",
       "  </thead>\n",
       "  <tbody>\n",
       "    <tr>\n",
       "      <th>0</th>\n",
       "      <td>NA20795</td>\n",
       "      <td>ENSG00000198502.5</td>\n",
       "      <td>[0.020763932, -0.0043599964, 0.018072195, -0.0...</td>\n",
       "    </tr>\n",
       "    <tr>\n",
       "      <th>1</th>\n",
       "      <td>HG00260</td>\n",
       "      <td>ENSG00000214425.1</td>\n",
       "      <td>[0.034569502, 0.024124226, -0.06553179, -0.017...</td>\n",
       "    </tr>\n",
       "    <tr>\n",
       "      <th>2</th>\n",
       "      <td>HG01632</td>\n",
       "      <td>ENSG00000176681.9</td>\n",
       "      <td>[-0.0912664, 0.07260499, -0.07260455, 0.113591...</td>\n",
       "    </tr>\n",
       "    <tr>\n",
       "      <th>3</th>\n",
       "      <td>HG00173</td>\n",
       "      <td>ENSG00000238083.3</td>\n",
       "      <td>[0.08705197, 0.056551743, 0.033424325, -0.0829...</td>\n",
       "    </tr>\n",
       "    <tr>\n",
       "      <th>4</th>\n",
       "      <td>HG00178</td>\n",
       "      <td>ENSG00000229450.2</td>\n",
       "      <td>[0.14517619, -0.016366798, -0.0096497275, -0.0...</td>\n",
       "    </tr>\n",
       "  </tbody>\n",
       "</table>\n",
       "</div>"
      ],
      "text/plain": [
       "  sample_id            gene_id  \\\n",
       "0   NA20795  ENSG00000198502.5   \n",
       "1   HG00260  ENSG00000214425.1   \n",
       "2   HG01632  ENSG00000176681.9   \n",
       "3   HG00173  ENSG00000238083.3   \n",
       "4   HG00178  ENSG00000229450.2   \n",
       "\n",
       "                                           embedding  \n",
       "0  [0.020763932, -0.0043599964, 0.018072195, -0.0...  \n",
       "1  [0.034569502, 0.024124226, -0.06553179, -0.017...  \n",
       "2  [-0.0912664, 0.07260499, -0.07260455, 0.113591...  \n",
       "3  [0.08705197, 0.056551743, 0.033424325, -0.0829...  \n",
       "4  [0.14517619, -0.016366798, -0.0096497275, -0.0...  "
      ]
     },
     "execution_count": 113,
     "metadata": {},
     "output_type": "execute_result"
    }
   ],
   "source": [
    "df.head()"
   ]
  },
  {
   "cell_type": "markdown",
   "metadata": {},
   "source": [
    "## 1.2 Expression Data"
   ]
  },
  {
   "cell_type": "code",
   "execution_count": 6,
   "metadata": {},
   "outputs": [
    {
     "data": {
      "text/html": [
       "<div>\n",
       "<style scoped>\n",
       "    .dataframe tbody tr th:only-of-type {\n",
       "        vertical-align: middle;\n",
       "    }\n",
       "\n",
       "    .dataframe tbody tr th {\n",
       "        vertical-align: top;\n",
       "    }\n",
       "\n",
       "    .dataframe thead th {\n",
       "        text-align: right;\n",
       "    }\n",
       "</style>\n",
       "<table border=\"1\" class=\"dataframe\">\n",
       "  <thead>\n",
       "    <tr style=\"text-align: right;\">\n",
       "      <th></th>\n",
       "      <th>TargetID</th>\n",
       "      <th>Gene_Symbol</th>\n",
       "      <th>Chr</th>\n",
       "      <th>Coord</th>\n",
       "      <th>HG00096.1.M_111124_6</th>\n",
       "      <th>HG00097.7.M_120219_2</th>\n",
       "      <th>HG00099.1.M_120209_6</th>\n",
       "      <th>HG00099.5.M_120131_3</th>\n",
       "      <th>HG00100.2.M_111215_8</th>\n",
       "      <th>HG00101.1.M_111124_4</th>\n",
       "      <th>...</th>\n",
       "      <th>NA20810.2.M_111215_7</th>\n",
       "      <th>NA20811.1.M_111124_5</th>\n",
       "      <th>NA20812.2.M_111216_6</th>\n",
       "      <th>NA20813.5.M_120131_1</th>\n",
       "      <th>NA20814.2.M_111215_6</th>\n",
       "      <th>NA20815.5.M_120131_5</th>\n",
       "      <th>NA20816.3.M_120202_7</th>\n",
       "      <th>NA20819.3.M_120202_2</th>\n",
       "      <th>NA20826.1.M_111124_1</th>\n",
       "      <th>NA20828.2.M_111216_8</th>\n",
       "    </tr>\n",
       "  </thead>\n",
       "  <tbody>\n",
       "    <tr>\n",
       "      <th>0</th>\n",
       "      <td>ENSG00000225538.1</td>\n",
       "      <td>ENSG00000225538.1</td>\n",
       "      <td>11</td>\n",
       "      <td>55850277</td>\n",
       "      <td>0.00000</td>\n",
       "      <td>0.00000</td>\n",
       "      <td>0.00000</td>\n",
       "      <td>0.00000</td>\n",
       "      <td>0.00000</td>\n",
       "      <td>0.00000</td>\n",
       "      <td>...</td>\n",
       "      <td>0.00000</td>\n",
       "      <td>0.0000</td>\n",
       "      <td>0.00000</td>\n",
       "      <td>0.00000</td>\n",
       "      <td>0.00000</td>\n",
       "      <td>0.0000</td>\n",
       "      <td>0.00000</td>\n",
       "      <td>0.00000</td>\n",
       "      <td>0.03876</td>\n",
       "      <td>0.00000</td>\n",
       "    </tr>\n",
       "    <tr>\n",
       "      <th>1</th>\n",
       "      <td>ENSG00000237851.1</td>\n",
       "      <td>ENSG00000237851.1</td>\n",
       "      <td>6</td>\n",
       "      <td>143109260</td>\n",
       "      <td>0.00000</td>\n",
       "      <td>0.00000</td>\n",
       "      <td>0.00000</td>\n",
       "      <td>0.00000</td>\n",
       "      <td>0.00000</td>\n",
       "      <td>0.00000</td>\n",
       "      <td>...</td>\n",
       "      <td>0.00000</td>\n",
       "      <td>0.0000</td>\n",
       "      <td>0.00000</td>\n",
       "      <td>0.00000</td>\n",
       "      <td>0.00000</td>\n",
       "      <td>0.0000</td>\n",
       "      <td>0.00000</td>\n",
       "      <td>0.00000</td>\n",
       "      <td>0.00000</td>\n",
       "      <td>0.00000</td>\n",
       "    </tr>\n",
       "    <tr>\n",
       "      <th>2</th>\n",
       "      <td>ENSG00000243765.1</td>\n",
       "      <td>ENSG00000243765.1</td>\n",
       "      <td>15</td>\n",
       "      <td>58442766</td>\n",
       "      <td>0.00000</td>\n",
       "      <td>0.00000</td>\n",
       "      <td>0.00000</td>\n",
       "      <td>0.00000</td>\n",
       "      <td>0.00000</td>\n",
       "      <td>0.00000</td>\n",
       "      <td>...</td>\n",
       "      <td>0.00000</td>\n",
       "      <td>0.0000</td>\n",
       "      <td>0.00000</td>\n",
       "      <td>0.00000</td>\n",
       "      <td>0.00000</td>\n",
       "      <td>0.0000</td>\n",
       "      <td>0.00000</td>\n",
       "      <td>0.00000</td>\n",
       "      <td>0.00000</td>\n",
       "      <td>0.00000</td>\n",
       "    </tr>\n",
       "    <tr>\n",
       "      <th>3</th>\n",
       "      <td>ENSG00000257527.1</td>\n",
       "      <td>ENSG00000257527.1</td>\n",
       "      <td>16</td>\n",
       "      <td>18505708</td>\n",
       "      <td>0.70561</td>\n",
       "      <td>0.66697</td>\n",
       "      <td>0.64004</td>\n",
       "      <td>0.26195</td>\n",
       "      <td>0.34695</td>\n",
       "      <td>1.49208</td>\n",
       "      <td>...</td>\n",
       "      <td>0.87085</td>\n",
       "      <td>0.9495</td>\n",
       "      <td>0.95837</td>\n",
       "      <td>0.51002</td>\n",
       "      <td>0.29422</td>\n",
       "      <td>0.2296</td>\n",
       "      <td>0.58671</td>\n",
       "      <td>0.27674</td>\n",
       "      <td>0.53630</td>\n",
       "      <td>0.17139</td>\n",
       "    </tr>\n",
       "    <tr>\n",
       "      <th>4</th>\n",
       "      <td>ENSG00000212855.5</td>\n",
       "      <td>ENSG00000212855.5</td>\n",
       "      <td>Y</td>\n",
       "      <td>9578193</td>\n",
       "      <td>0.00000</td>\n",
       "      <td>0.00000</td>\n",
       "      <td>0.00000</td>\n",
       "      <td>0.00000</td>\n",
       "      <td>0.00000</td>\n",
       "      <td>0.00000</td>\n",
       "      <td>...</td>\n",
       "      <td>0.00000</td>\n",
       "      <td>0.0000</td>\n",
       "      <td>0.00000</td>\n",
       "      <td>0.00000</td>\n",
       "      <td>0.00000</td>\n",
       "      <td>0.0000</td>\n",
       "      <td>0.00000</td>\n",
       "      <td>0.00000</td>\n",
       "      <td>0.00000</td>\n",
       "      <td>0.00000</td>\n",
       "    </tr>\n",
       "  </tbody>\n",
       "</table>\n",
       "<p>5 rows × 664 columns</p>\n",
       "</div>"
      ],
      "text/plain": [
       "            TargetID        Gene_Symbol Chr      Coord  HG00096.1.M_111124_6  \\\n",
       "0  ENSG00000225538.1  ENSG00000225538.1  11   55850277               0.00000   \n",
       "1  ENSG00000237851.1  ENSG00000237851.1   6  143109260               0.00000   \n",
       "2  ENSG00000243765.1  ENSG00000243765.1  15   58442766               0.00000   \n",
       "3  ENSG00000257527.1  ENSG00000257527.1  16   18505708               0.70561   \n",
       "4  ENSG00000212855.5  ENSG00000212855.5   Y    9578193               0.00000   \n",
       "\n",
       "   HG00097.7.M_120219_2  HG00099.1.M_120209_6  HG00099.5.M_120131_3  \\\n",
       "0               0.00000               0.00000               0.00000   \n",
       "1               0.00000               0.00000               0.00000   \n",
       "2               0.00000               0.00000               0.00000   \n",
       "3               0.66697               0.64004               0.26195   \n",
       "4               0.00000               0.00000               0.00000   \n",
       "\n",
       "   HG00100.2.M_111215_8  HG00101.1.M_111124_4  ...  NA20810.2.M_111215_7  \\\n",
       "0               0.00000               0.00000  ...               0.00000   \n",
       "1               0.00000               0.00000  ...               0.00000   \n",
       "2               0.00000               0.00000  ...               0.00000   \n",
       "3               0.34695               1.49208  ...               0.87085   \n",
       "4               0.00000               0.00000  ...               0.00000   \n",
       "\n",
       "   NA20811.1.M_111124_5  NA20812.2.M_111216_6  NA20813.5.M_120131_1  \\\n",
       "0                0.0000               0.00000               0.00000   \n",
       "1                0.0000               0.00000               0.00000   \n",
       "2                0.0000               0.00000               0.00000   \n",
       "3                0.9495               0.95837               0.51002   \n",
       "4                0.0000               0.00000               0.00000   \n",
       "\n",
       "   NA20814.2.M_111215_6  NA20815.5.M_120131_5  NA20816.3.M_120202_7  \\\n",
       "0               0.00000                0.0000               0.00000   \n",
       "1               0.00000                0.0000               0.00000   \n",
       "2               0.00000                0.0000               0.00000   \n",
       "3               0.29422                0.2296               0.58671   \n",
       "4               0.00000                0.0000               0.00000   \n",
       "\n",
       "   NA20819.3.M_120202_2  NA20826.1.M_111124_1  NA20828.2.M_111216_8  \n",
       "0               0.00000               0.03876               0.00000  \n",
       "1               0.00000               0.00000               0.00000  \n",
       "2               0.00000               0.00000               0.00000  \n",
       "3               0.27674               0.53630               0.17139  \n",
       "4               0.00000               0.00000               0.00000  \n",
       "\n",
       "[5 rows x 664 columns]"
      ]
     },
     "execution_count": 6,
     "metadata": {},
     "output_type": "execute_result"
    }
   ],
   "source": [
    "expression = pd.read_csv(\"datasets/GD660.GeneQuantRPKM.txt.gz\", sep=\"\\t\")\n",
    "expression.head()"
   ]
  },
  {
   "cell_type": "code",
   "execution_count": 7,
   "metadata": {},
   "outputs": [
    {
     "data": {
      "text/html": [
       "<div>\n",
       "<style scoped>\n",
       "    .dataframe tbody tr th:only-of-type {\n",
       "        vertical-align: middle;\n",
       "    }\n",
       "\n",
       "    .dataframe tbody tr th {\n",
       "        vertical-align: top;\n",
       "    }\n",
       "\n",
       "    .dataframe thead th {\n",
       "        text-align: right;\n",
       "    }\n",
       "</style>\n",
       "<table border=\"1\" class=\"dataframe\">\n",
       "  <thead>\n",
       "    <tr style=\"text-align: right;\">\n",
       "      <th></th>\n",
       "      <th>TargetID</th>\n",
       "      <th>Gene_Symbol</th>\n",
       "      <th>Chr</th>\n",
       "      <th>Coord</th>\n",
       "      <th>sample_id</th>\n",
       "      <th>expression</th>\n",
       "    </tr>\n",
       "  </thead>\n",
       "  <tbody>\n",
       "    <tr>\n",
       "      <th>0</th>\n",
       "      <td>ENSG00000232629.4</td>\n",
       "      <td>ENSG00000232629.4</td>\n",
       "      <td>6</td>\n",
       "      <td>32731311</td>\n",
       "      <td>HG00096</td>\n",
       "      <td>9.96245</td>\n",
       "    </tr>\n",
       "    <tr>\n",
       "      <th>1</th>\n",
       "      <td>ENSG00000179344.11</td>\n",
       "      <td>ENSG00000179344.11</td>\n",
       "      <td>6</td>\n",
       "      <td>32636160</td>\n",
       "      <td>HG00096</td>\n",
       "      <td>43.78876</td>\n",
       "    </tr>\n",
       "    <tr>\n",
       "      <th>2</th>\n",
       "      <td>ENSG00000176681.9</td>\n",
       "      <td>ENSG00000176681.9</td>\n",
       "      <td>17</td>\n",
       "      <td>44370099</td>\n",
       "      <td>HG00096</td>\n",
       "      <td>6.34823</td>\n",
       "    </tr>\n",
       "    <tr>\n",
       "      <th>3</th>\n",
       "      <td>ENSG00000214425.1</td>\n",
       "      <td>ENSG00000214425.1</td>\n",
       "      <td>17</td>\n",
       "      <td>43595264</td>\n",
       "      <td>HG00096</td>\n",
       "      <td>0.40868</td>\n",
       "    </tr>\n",
       "    <tr>\n",
       "      <th>4</th>\n",
       "      <td>ENSG00000237541.3</td>\n",
       "      <td>ENSG00000237541.3</td>\n",
       "      <td>6</td>\n",
       "      <td>32709119</td>\n",
       "      <td>HG00096</td>\n",
       "      <td>51.03589</td>\n",
       "    </tr>\n",
       "  </tbody>\n",
       "</table>\n",
       "</div>"
      ],
      "text/plain": [
       "             TargetID         Gene_Symbol Chr     Coord sample_id  expression\n",
       "0   ENSG00000232629.4   ENSG00000232629.4   6  32731311   HG00096     9.96245\n",
       "1  ENSG00000179344.11  ENSG00000179344.11   6  32636160   HG00096    43.78876\n",
       "2   ENSG00000176681.9   ENSG00000176681.9  17  44370099   HG00096     6.34823\n",
       "3   ENSG00000214425.1   ENSG00000214425.1  17  43595264   HG00096     0.40868\n",
       "4   ENSG00000237541.3   ENSG00000237541.3   6  32709119   HG00096    51.03589"
      ]
     },
     "execution_count": 7,
     "metadata": {},
     "output_type": "execute_result"
    }
   ],
   "source": [
    "expression = expression[expression[\"Gene_Symbol\"].isin(df[\"gene_id\"].values)]\n",
    "expression = pd.melt(expression, id_vars=[\"TargetID\", \"Gene_Symbol\", \"Chr\", \"Coord\"], var_name=\"sample_id\", value_name=\"expression\")\n",
    "expression[\"sample_id\"] = expression[\"sample_id\"].str.split(\".\", expand=True)[0]\n",
    "expression.head()"
   ]
  },
  {
   "cell_type": "markdown",
   "metadata": {},
   "source": [
    "Prepare data for Expression prediction.\n",
    "\n",
    "y = expression values for (sample, gene) pairs.\n",
    "\n",
    "X = matrix containing the embeddings for each (sample, gene) pair."
   ]
  },
  {
   "cell_type": "code",
   "execution_count": 114,
   "metadata": {},
   "outputs": [
    {
     "name": "stdout",
     "output_type": "stream",
     "text": [
      "Number of samples for prediction expression: 4830\n"
     ]
    }
   ],
   "source": [
    "df = pd.merge(df, expression, left_on=[\"sample_id\", \"gene_id\"], right_on=[\"sample_id\", \"Gene_Symbol\"])\n",
    "print(f\"Number of samples for prediction expression: {len(df)}\")"
   ]
  },
  {
   "cell_type": "code",
   "execution_count": 115,
   "metadata": {},
   "outputs": [
    {
     "name": "stdout",
     "output_type": "stream",
     "text": [
      "Number of genes: 10\n"
     ]
    }
   ],
   "source": [
    "genes = df.gene_id.unique()\n",
    "print(f\"Number of genes: {len(genes)}\")"
   ]
  },
  {
   "cell_type": "code",
   "execution_count": 153,
   "metadata": {},
   "outputs": [],
   "source": [
    "gene = genes[9]\n",
    "y = df[df.gene_id==gene].expression.values\n",
    "X = np.stack(df[df.gene_id==gene].embedding.values)"
   ]
  },
  {
   "cell_type": "code",
   "execution_count": 129,
   "metadata": {},
   "outputs": [],
   "source": [
    "# y = df[\"expression\"].values\n",
    "# X = np.stack(df[\"embedding\"].values)"
   ]
  },
  {
   "cell_type": "code",
   "execution_count": 156,
   "metadata": {},
   "outputs": [],
   "source": [
    "X_train, X_test, y_train, y_test = train_test_split(X, y, test_size=0.1, random_state=42)"
   ]
  },
  {
   "cell_type": "markdown",
   "metadata": {},
   "source": [
    "# 2 Prediction of Expression"
   ]
  },
  {
   "cell_type": "markdown",
   "metadata": {},
   "source": [
    "## 2.1 Linear Regression"
   ]
  },
  {
   "cell_type": "code",
   "execution_count": 157,
   "metadata": {},
   "outputs": [],
   "source": [
    "linear_regression_model = LinearRegression().fit(X_train, y_train)"
   ]
  },
  {
   "cell_type": "code",
   "execution_count": 158,
   "metadata": {},
   "outputs": [
    {
     "name": "stdout",
     "output_type": "stream",
     "text": [
      "R² of test set: -1.5831126804131839\n",
      "Explained variance score on test set: -1.3257274957999572\n",
      "R value (Pearson correlation coefficient): 0.32652405054016787\n"
     ]
    }
   ],
   "source": [
    "predicted = linear_regression_model.predict(X_test)\n",
    "print(f\"R² of test set: {r2_score(y_test, predicted)}\")\n",
    "print(f\"Explained variance score on test set: {explained_variance_score(y_test, predicted)}\")\n",
    "print(f\"R value (Pearson correlation coefficient): {pearsonr(y_test, predicted)[0]}\")"
   ]
  },
  {
   "cell_type": "markdown",
   "metadata": {},
   "source": [
    "## 2.2 Ridge Regression"
   ]
  },
  {
   "cell_type": "code",
   "execution_count": 55,
   "metadata": {},
   "outputs": [],
   "source": [
    "ridge_regression_model = Ridge(alpha=1.0).fit(X_train, y_train)"
   ]
  },
  {
   "cell_type": "code",
   "execution_count": 56,
   "metadata": {},
   "outputs": [
    {
     "name": "stdout",
     "output_type": "stream",
     "text": [
      "R² of test set: 0.20036904113714638\n",
      "Explained variance score on test set: 0.21356514640780466\n",
      "R value (Pearson correlation coefficient): 0.4712295321529268\n"
     ]
    }
   ],
   "source": [
    "predicted = ridge_regression_model.predict(X_test)\n",
    "print(f\"R² of test set: {r2_score(y_test, predicted)}\")\n",
    "print(f\"Explained variance score on test set: {explained_variance_score(y_test, predicted)}\")\n",
    "print(f\"R value (Pearson correlation coefficient): {pearsonr(y_test, predicted)[0]}\")"
   ]
  },
  {
   "cell_type": "markdown",
   "metadata": {},
   "source": [
    "## 2.3 Lasso Regression"
   ]
  },
  {
   "cell_type": "code",
   "execution_count": 57,
   "metadata": {},
   "outputs": [],
   "source": [
    "lasso_regression_model = Lasso(alpha=1.0).fit(X_train, y_train)"
   ]
  },
  {
   "cell_type": "code",
   "execution_count": 58,
   "metadata": {},
   "outputs": [
    {
     "name": "stdout",
     "output_type": "stream",
     "text": [
      "R² of test set: -0.015638000638453553\n",
      "Explained variance score on test set: 2.220446049250313e-16\n",
      "R value (Pearson correlation coefficient): nan\n"
     ]
    },
    {
     "name": "stderr",
     "output_type": "stream",
     "text": [
      "/home/stockhaus/miniconda3/envs/sysgen/lib/python3.10/site-packages/scipy/stats/_stats_py.py:4781: ConstantInputWarning: An input array is constant; the correlation coefficient is not defined.\n",
      "  warnings.warn(stats.ConstantInputWarning(msg))\n"
     ]
    }
   ],
   "source": [
    "predicted = lasso_regression_model.predict(X_test)\n",
    "print(f\"R² of test set: {r2_score(y_test, predicted)}\")\n",
    "print(f\"Explained variance score on test set: {explained_variance_score(y_test, predicted)}\")\n",
    "print(f\"R value (Pearson correlation coefficient): {pearsonr(y_test, predicted)[0]}\")"
   ]
  },
  {
   "cell_type": "markdown",
   "metadata": {},
   "source": [
    "## 2.4 Elastic Net Regression"
   ]
  },
  {
   "cell_type": "code",
   "execution_count": 61,
   "metadata": {},
   "outputs": [],
   "source": [
    "elasticnet_regression_model = ElasticNet(random_state=53).fit(X_train, y_train)"
   ]
  },
  {
   "cell_type": "code",
   "execution_count": 62,
   "metadata": {},
   "outputs": [
    {
     "name": "stdout",
     "output_type": "stream",
     "text": [
      "R² of test set: -0.015638000638453553\n",
      "Explained variance score on test set: 2.220446049250313e-16\n",
      "R value (Pearson correlation coefficient): nan\n"
     ]
    },
    {
     "name": "stderr",
     "output_type": "stream",
     "text": [
      "/home/stockhaus/miniconda3/envs/sysgen/lib/python3.10/site-packages/scipy/stats/_stats_py.py:4781: ConstantInputWarning: An input array is constant; the correlation coefficient is not defined.\n",
      "  warnings.warn(stats.ConstantInputWarning(msg))\n"
     ]
    }
   ],
   "source": [
    "predicted = elasticnet_regression_model.predict(X_test)\n",
    "print(f\"R² of test set: {r2_score(y_test, predicted)}\")\n",
    "print(f\"Explained variance score on test set: {explained_variance_score(y_test, predicted)}\")\n",
    "print(f\"R value (Pearson correlation coefficient): {pearsonr(y_test, predicted)[0]}\")"
   ]
  },
  {
   "cell_type": "markdown",
   "metadata": {},
   "source": [
    "## 2.5 Support Vector Machine"
   ]
  },
  {
   "cell_type": "code",
   "execution_count": 63,
   "metadata": {},
   "outputs": [],
   "source": [
    "svr = make_pipeline(StandardScaler(), SVR(C=1.0, epsilon=0.2)).fit(X_train, y_train)"
   ]
  },
  {
   "cell_type": "code",
   "execution_count": 64,
   "metadata": {},
   "outputs": [
    {
     "name": "stdout",
     "output_type": "stream",
     "text": [
      "R² of test set: 0.09475847920011782\n",
      "Explained variance score on test set: 0.21356630610002958\n",
      "R value (Pearson correlation coefficient): 0.49284726089483377\n"
     ]
    }
   ],
   "source": [
    "predicted = svr.predict(X_test)\n",
    "print(f\"R² of test set: {r2_score(y_test, predicted)}\")\n",
    "print(f\"Explained variance score on test set: {explained_variance_score(y_test, predicted)}\")\n",
    "print(f\"R value (Pearson correlation coefficient): {pearsonr(y_test, predicted)[0]}\")"
   ]
  },
  {
   "cell_type": "markdown",
   "metadata": {},
   "source": [
    "# Comparison to prediction based on single SNPs"
   ]
  },
  {
   "cell_type": "code",
   "execution_count": 17,
   "metadata": {},
   "outputs": [
    {
     "data": {
      "text/html": [
       "<div>\n",
       "<style scoped>\n",
       "    .dataframe tbody tr th:only-of-type {\n",
       "        vertical-align: middle;\n",
       "    }\n",
       "\n",
       "    .dataframe tbody tr th {\n",
       "        vertical-align: top;\n",
       "    }\n",
       "\n",
       "    .dataframe thead th {\n",
       "        text-align: right;\n",
       "    }\n",
       "</style>\n",
       "<table border=\"1\" class=\"dataframe\">\n",
       "  <thead>\n",
       "    <tr style=\"text-align: right;\">\n",
       "      <th></th>\n",
       "      <th>SNP_ID</th>\n",
       "      <th>ID</th>\n",
       "      <th>GENE_ID</th>\n",
       "      <th>PROBE_ID</th>\n",
       "      <th>CHR_SNP</th>\n",
       "      <th>CHR_GENE</th>\n",
       "      <th>SNPpos</th>\n",
       "      <th>TSSpos</th>\n",
       "      <th>distance</th>\n",
       "      <th>rvalue</th>\n",
       "      <th>pvalue</th>\n",
       "      <th>log10pvalue</th>\n",
       "    </tr>\n",
       "  </thead>\n",
       "  <tbody>\n",
       "    <tr>\n",
       "      <th>0</th>\n",
       "      <td>rs1566523</td>\n",
       "      <td>-</td>\n",
       "      <td>ENSG00000142794.11</td>\n",
       "      <td>ENSG00000142794.11</td>\n",
       "      <td>1</td>\n",
       "      <td>1</td>\n",
       "      <td>21766663.0</td>\n",
       "      <td>21766621</td>\n",
       "      <td>42.0</td>\n",
       "      <td>-0.782786</td>\n",
       "      <td>3.883913e-78</td>\n",
       "      <td>77.410730</td>\n",
       "    </tr>\n",
       "    <tr>\n",
       "      <th>1</th>\n",
       "      <td>rs66732917</td>\n",
       "      <td>-</td>\n",
       "      <td>ENSG00000142794.11</td>\n",
       "      <td>ENSG00000142794.11</td>\n",
       "      <td>1</td>\n",
       "      <td>1</td>\n",
       "      <td>21766608.0</td>\n",
       "      <td>21766621</td>\n",
       "      <td>13.0</td>\n",
       "      <td>-0.775971</td>\n",
       "      <td>5.736684e-76</td>\n",
       "      <td>75.241339</td>\n",
       "    </tr>\n",
       "    <tr>\n",
       "      <th>2</th>\n",
       "      <td>rs12734589</td>\n",
       "      <td>-</td>\n",
       "      <td>ENSG00000142794.11</td>\n",
       "      <td>ENSG00000142794.11</td>\n",
       "      <td>1</td>\n",
       "      <td>1</td>\n",
       "      <td>21760127.0</td>\n",
       "      <td>21766621</td>\n",
       "      <td>6494.0</td>\n",
       "      <td>-0.753190</td>\n",
       "      <td>3.094123e-69</td>\n",
       "      <td>68.509462</td>\n",
       "    </tr>\n",
       "    <tr>\n",
       "      <th>3</th>\n",
       "      <td>rs4654745</td>\n",
       "      <td>-</td>\n",
       "      <td>ENSG00000142794.11</td>\n",
       "      <td>ENSG00000142794.11</td>\n",
       "      <td>1</td>\n",
       "      <td>1</td>\n",
       "      <td>21767096.0</td>\n",
       "      <td>21766621</td>\n",
       "      <td>475.0</td>\n",
       "      <td>-0.753071</td>\n",
       "      <td>3.339200e-69</td>\n",
       "      <td>68.476358</td>\n",
       "    </tr>\n",
       "    <tr>\n",
       "      <th>4</th>\n",
       "      <td>rs10916990</td>\n",
       "      <td>-</td>\n",
       "      <td>ENSG00000142794.11</td>\n",
       "      <td>ENSG00000142794.11</td>\n",
       "      <td>1</td>\n",
       "      <td>1</td>\n",
       "      <td>21763132.0</td>\n",
       "      <td>21766621</td>\n",
       "      <td>3489.0</td>\n",
       "      <td>-0.750913</td>\n",
       "      <td>1.327049e-68</td>\n",
       "      <td>67.877113</td>\n",
       "    </tr>\n",
       "    <tr>\n",
       "      <th>...</th>\n",
       "      <td>...</td>\n",
       "      <td>...</td>\n",
       "      <td>...</td>\n",
       "      <td>...</td>\n",
       "      <td>...</td>\n",
       "      <td>...</td>\n",
       "      <td>...</td>\n",
       "      <td>...</td>\n",
       "      <td>...</td>\n",
       "      <td>...</td>\n",
       "      <td>...</td>\n",
       "      <td>...</td>\n",
       "    </tr>\n",
       "    <tr>\n",
       "      <th>419978</th>\n",
       "      <td>rs133379</td>\n",
       "      <td>-</td>\n",
       "      <td>ENSG00000198951.6</td>\n",
       "      <td>ENSG00000198951.6</td>\n",
       "      <td>22</td>\n",
       "      <td>22</td>\n",
       "      <td>42468535.0</td>\n",
       "      <td>42466846</td>\n",
       "      <td>1689.0</td>\n",
       "      <td>0.231022</td>\n",
       "      <td>6.568113e-06</td>\n",
       "      <td>5.182559</td>\n",
       "    </tr>\n",
       "    <tr>\n",
       "      <th>419979</th>\n",
       "      <td>rs4253766</td>\n",
       "      <td>-</td>\n",
       "      <td>ENSG00000075234.12</td>\n",
       "      <td>ENSG00000075234.12</td>\n",
       "      <td>22</td>\n",
       "      <td>22</td>\n",
       "      <td>46623905.0</td>\n",
       "      <td>46663858</td>\n",
       "      <td>39953.0</td>\n",
       "      <td>-0.231008</td>\n",
       "      <td>6.576526e-06</td>\n",
       "      <td>5.182003</td>\n",
       "    </tr>\n",
       "    <tr>\n",
       "      <th>419980</th>\n",
       "      <td>rs73165152</td>\n",
       "      <td>-</td>\n",
       "      <td>ENSG00000100417.7</td>\n",
       "      <td>ENSG00000100417.7</td>\n",
       "      <td>22</td>\n",
       "      <td>22</td>\n",
       "      <td>42340397.0</td>\n",
       "      <td>41985894</td>\n",
       "      <td>354503.0</td>\n",
       "      <td>-0.231006</td>\n",
       "      <td>6.577641e-06</td>\n",
       "      <td>5.181930</td>\n",
       "    </tr>\n",
       "    <tr>\n",
       "      <th>419981</th>\n",
       "      <td>rs133352</td>\n",
       "      <td>-</td>\n",
       "      <td>ENSG00000198951.6</td>\n",
       "      <td>ENSG00000198951.6</td>\n",
       "      <td>22</td>\n",
       "      <td>22</td>\n",
       "      <td>42434022.0</td>\n",
       "      <td>42466846</td>\n",
       "      <td>32824.0</td>\n",
       "      <td>0.231003</td>\n",
       "      <td>6.579434e-06</td>\n",
       "      <td>5.181811</td>\n",
       "    </tr>\n",
       "    <tr>\n",
       "      <th>419982</th>\n",
       "      <td>rs4253755</td>\n",
       "      <td>-</td>\n",
       "      <td>ENSG00000075234.12</td>\n",
       "      <td>ENSG00000075234.12</td>\n",
       "      <td>22</td>\n",
       "      <td>22</td>\n",
       "      <td>46615376.0</td>\n",
       "      <td>46663858</td>\n",
       "      <td>48482.0</td>\n",
       "      <td>-0.231000</td>\n",
       "      <td>6.581573e-06</td>\n",
       "      <td>5.181670</td>\n",
       "    </tr>\n",
       "  </tbody>\n",
       "</table>\n",
       "<p>419983 rows × 12 columns</p>\n",
       "</div>"
      ],
      "text/plain": [
       "            SNP_ID ID             GENE_ID            PROBE_ID  CHR_SNP  \\\n",
       "0        rs1566523  -  ENSG00000142794.11  ENSG00000142794.11        1   \n",
       "1       rs66732917  -  ENSG00000142794.11  ENSG00000142794.11        1   \n",
       "2       rs12734589  -  ENSG00000142794.11  ENSG00000142794.11        1   \n",
       "3        rs4654745  -  ENSG00000142794.11  ENSG00000142794.11        1   \n",
       "4       rs10916990  -  ENSG00000142794.11  ENSG00000142794.11        1   \n",
       "...            ... ..                 ...                 ...      ...   \n",
       "419978    rs133379  -   ENSG00000198951.6   ENSG00000198951.6       22   \n",
       "419979   rs4253766  -  ENSG00000075234.12  ENSG00000075234.12       22   \n",
       "419980  rs73165152  -   ENSG00000100417.7   ENSG00000100417.7       22   \n",
       "419981    rs133352  -   ENSG00000198951.6   ENSG00000198951.6       22   \n",
       "419982   rs4253755  -  ENSG00000075234.12  ENSG00000075234.12       22   \n",
       "\n",
       "        CHR_GENE      SNPpos    TSSpos  distance    rvalue        pvalue  \\\n",
       "0              1  21766663.0  21766621      42.0 -0.782786  3.883913e-78   \n",
       "1              1  21766608.0  21766621      13.0 -0.775971  5.736684e-76   \n",
       "2              1  21760127.0  21766621    6494.0 -0.753190  3.094123e-69   \n",
       "3              1  21767096.0  21766621     475.0 -0.753071  3.339200e-69   \n",
       "4              1  21763132.0  21766621    3489.0 -0.750913  1.327049e-68   \n",
       "...          ...         ...       ...       ...       ...           ...   \n",
       "419978        22  42468535.0  42466846    1689.0  0.231022  6.568113e-06   \n",
       "419979        22  46623905.0  46663858   39953.0 -0.231008  6.576526e-06   \n",
       "419980        22  42340397.0  41985894  354503.0 -0.231006  6.577641e-06   \n",
       "419981        22  42434022.0  42466846   32824.0  0.231003  6.579434e-06   \n",
       "419982        22  46615376.0  46663858   48482.0 -0.231000  6.581573e-06   \n",
       "\n",
       "        log10pvalue  \n",
       "0         77.410730  \n",
       "1         75.241339  \n",
       "2         68.509462  \n",
       "3         68.476358  \n",
       "4         67.877113  \n",
       "...             ...  \n",
       "419978     5.182559  \n",
       "419979     5.182003  \n",
       "419980     5.181930  \n",
       "419981     5.181811  \n",
       "419982     5.181670  \n",
       "\n",
       "[419983 rows x 12 columns]"
      ]
     },
     "execution_count": 17,
     "metadata": {},
     "output_type": "execute_result"
    }
   ],
   "source": [
    "reference = pd.read_csv(\"datasets/EUR373.gene.cis.FDR5.all.rs137.txt.gz\", sep=\"\\t\")\n",
    "reference"
   ]
  },
  {
   "cell_type": "code",
   "execution_count": 21,
   "metadata": {},
   "outputs": [
    {
     "name": "stdout",
     "output_type": "stream",
     "text": [
      "0.287653816193465\n",
      "-0.584827960561856\n"
     ]
    }
   ],
   "source": [
    "print(reference[reference.GENE_ID==gene].rvalue.max())\n",
    "print(reference[reference.GENE_ID==gene].rvalue.min())"
   ]
  }
 ],
 "metadata": {
  "kernelspec": {
   "display_name": "mp",
   "language": "python",
   "name": "python3"
  },
  "language_info": {
   "codemirror_mode": {
    "name": "ipython",
    "version": 3
   },
   "file_extension": ".py",
   "mimetype": "text/x-python",
   "name": "python",
   "nbconvert_exporter": "python",
   "pygments_lexer": "ipython3",
   "version": "3.10.13"
  }
 },
 "nbformat": 4,
 "nbformat_minor": 2
}
