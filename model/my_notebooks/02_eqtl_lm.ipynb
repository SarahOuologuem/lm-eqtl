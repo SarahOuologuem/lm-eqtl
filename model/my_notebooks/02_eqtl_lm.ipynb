{
 "cells": [
  {
   "cell_type": "markdown",
   "metadata": {},
   "source": [
    "# Predict expression from genotype\n",
    "\n",
    "1. Load weights from trained LM and freeze\n",
    "2. Take only the encoder part\n",
    "3. Add a prediction head -> learnable params"
   ]
  },
  {
   "cell_type": "code",
   "execution_count": 44,
   "metadata": {},
   "outputs": [
    {
     "name": "stdout",
     "output_type": "stream",
     "text": [
      "The autoreload extension is already loaded. To reload it, use:\n",
      "  %reload_ext autoreload\n"
     ]
    }
   ],
   "source": [
    "import numpy as np\n",
    "import pandas as pd\n",
    "import pickle\n",
    "import gc\n",
    "import os\n",
    "import re\n",
    "import wandb\n",
    "\n",
    "import sys\n",
    "import pysam\n",
    "import torch\n",
    "from torch.utils.data import DataLoader, Dataset\n",
    "from itertools import chain\n",
    "from torch import nn\n",
    "\n",
    "if not \"../\" in sys.path:\n",
    "    sys.path.append(\"../\")\n",
    "\n",
    "from encoding_utils import sequence_encoders\n",
    "import helpers.train_eval_a as train_eval    #train and evaluation\n",
    "import helpers.misc as misc                #miscellaneous functions\n",
    "from models.spec_dss import DSSResNetEmb, SpecAdd, DSSResNetExpression\n",
    "\n",
    "from models.regression.train_eval import train_reg_model\n",
    "\n",
    "%load_ext autoreload\n",
    "%autoreload 2"
   ]
  },
  {
   "cell_type": "markdown",
   "metadata": {},
   "source": [
    "### Load the original model with checkpoints"
   ]
  },
  {
   "cell_type": "code",
   "execution_count": 35,
   "metadata": {},
   "outputs": [],
   "source": [
    "import datetime\n",
    "input_params = misc.dotdict({})\n",
    "\n",
    "input_params.dataset =  '../../extdata/datasets/phase3_top10/dataset.parquet'\n",
    "input_params.model_weight = '../../extdata/checkpoints/phase3_top10/aware_large_splitmsk/weights/epoch_100_weights_model.pt'\n",
    "\n",
    "\n",
    "input_params.output_dir = '../../results/test'\n",
    "\n",
    "input_params.split_mask = False\n",
    "input_params.mask_rate = 0.2 #[0.012,0.2]#RAN #single float or 2 floats for reference and alternative\n",
    "input_params.masking = 'none' # stratified_maf or none\n",
    "\n",
    "input_params.diploid = True\n",
    "\n",
    "input_params.test = False\n",
    "\n",
    "input_params.get_embeddings = False\n",
    "input_params.mask_at_test = True\n",
    "\n",
    "input_params.agnostic = False\n",
    "\n",
    "input_params.seq_len = 500\n",
    "\n",
    "input_params.tot_epochs = 5\n",
    "input_params.fold = 0\n",
    "input_params.Nfolds = 5\n",
    "\n",
    "input_params.train_splits = 1\n",
    "\n",
    "input_params.save_at = range(1, input_params.tot_epochs)\n",
    "input_params.validate_every = 1\n",
    "\n",
    "input_params.d_model = 256\n",
    "input_params.n_layers = 4\n",
    "input_params.dropout = 0.\n",
    "\n",
    "input_params.batch_size = 8\n",
    "input_params.learning_rate = 1e-4\n",
    "input_params.weight_decay = 0\n",
    "\n",
    "\n",
    "input_params.haplotypes = False\n",
    "input_params.run_name = \"500_8_geno_full\"\n",
    "\n",
    "if input_params.run_name is None:\n",
    "    input_params.run_name = datetime.datetime.now().strftime(\"%Y-%m-%d_%H-%M-%S\")\n",
    "\n",
    "\n",
    "\n",
    "\n",
    "if input_params.dataset.endswith('.fa'):\n",
    "    seq_df = pd.read_csv(input_params.dataset + '.fai', header=None, sep='\\t', usecols=[0], names=['seq_name'])\n",
    "elif input_params.dataset.endswith('.parquet'):\n",
    "    seq_df = pd.read_parquet(input_params.dataset).reset_index()\n",
    "    \n",
    "seq_df[['split','sample_id','seg_name']] =  seq_df['seq_name'].str.split(':',expand=True)\n",
    "\n",
    "if not input_params.agnostic:\n",
    "    #for segment-aware model, assign a label to each segment\n",
    "    seg_name = seq_df.seq_name.apply(lambda x:':'.join(x.split(':')[2:]))\n",
    "    segment_encoding = seg_name.drop_duplicates().reset_index(drop=True)\n",
    "    segment_encoding = {seg_name:idx for idx,seg_name in segment_encoding.items()}\n",
    "    seq_df['seg_label'] = seg_name.map(segment_encoding)\n",
    "else:\n",
    "    seq_df['seg_label'] = 0\n",
    "\n",
    "\n",
    "# get samples with expression data\n",
    "\n",
    "\n",
    "# take the test set, it contains samples for which we have expression data\n",
    "# seq_df = seq_df[seq_df.split=='test']"
   ]
  },
  {
   "cell_type": "code",
   "execution_count": 30,
   "metadata": {},
   "outputs": [],
   "source": [
    "\n",
    "import datetim\n",
    "run_name = datetime.datetime.now().strftime(\"%Y-%m-%d_%H-%M-%S\")\n"
   ]
  },
  {
   "cell_type": "code",
   "execution_count": 31,
   "metadata": {},
   "outputs": [
    {
     "data": {
      "text/plain": [
       "'2024-01-05_16-24-33'"
      ]
     },
     "execution_count": 31,
     "metadata": {},
     "output_type": "execute_result"
    }
   ],
   "source": [
    "run_name"
   ]
  },
  {
   "cell_type": "code",
   "execution_count": null,
   "metadata": {},
   "outputs": [],
   "source": [
    "df.loc[~df.index.isin(t)]"
   ]
  },
  {
   "cell_type": "code",
   "execution_count": 18,
   "metadata": {},
   "outputs": [
    {
     "data": {
      "text/html": [
       "<div>\n",
       "<style scoped>\n",
       "    .dataframe tbody tr th:only-of-type {\n",
       "        vertical-align: middle;\n",
       "    }\n",
       "\n",
       "    .dataframe tbody tr th {\n",
       "        vertical-align: top;\n",
       "    }\n",
       "\n",
       "    .dataframe thead th {\n",
       "        text-align: right;\n",
       "    }\n",
       "</style>\n",
       "<table border=\"1\" class=\"dataframe\">\n",
       "  <thead>\n",
       "    <tr style=\"text-align: right;\">\n",
       "      <th></th>\n",
       "      <th>seq_name</th>\n",
       "      <th>seq</th>\n",
       "      <th>split</th>\n",
       "      <th>sample_id</th>\n",
       "      <th>seg_name</th>\n",
       "      <th>seg_label</th>\n",
       "      <th>Gene_Symbol</th>\n",
       "      <th>expr</th>\n",
       "    </tr>\n",
       "  </thead>\n",
       "  <tbody>\n",
       "    <tr>\n",
       "      <th>0</th>\n",
       "      <td>train:NA18870:ENSG00000179344.11</td>\n",
       "      <td>RRBRRBRBBBRRRRRRBRBBRBBRBRRRRRBBRBRBRRBRRRBBBB...</td>\n",
       "      <td>train</td>\n",
       "      <td>NA18870</td>\n",
       "      <td>ENSG00000179344.11</td>\n",
       "      <td>8</td>\n",
       "      <td>ENSG00000179344.11</td>\n",
       "      <td>57.33069</td>\n",
       "    </tr>\n",
       "    <tr>\n",
       "      <th>1</th>\n",
       "      <td>train:NA18870:ENSG00000179344.11</td>\n",
       "      <td>RRBRRBRBBBRRRRRRBRBBRBBRBRRRRRBBRBRBRRBRRRBBBB...</td>\n",
       "      <td>train</td>\n",
       "      <td>NA18870</td>\n",
       "      <td>ENSG00000179344.11</td>\n",
       "      <td>8</td>\n",
       "      <td>ENSG00000179344.11</td>\n",
       "      <td>68.38216</td>\n",
       "    </tr>\n",
       "    <tr>\n",
       "      <th>2</th>\n",
       "      <td>train:NA18508:ENSG00000196126.6</td>\n",
       "      <td>BRRRBBBRRRRBRRRBRBBBBBRRBBRRBBBRRRRBBRRBRBBBRB...</td>\n",
       "      <td>train</td>\n",
       "      <td>NA18508</td>\n",
       "      <td>ENSG00000196126.6</td>\n",
       "      <td>7</td>\n",
       "      <td>ENSG00000196126.6</td>\n",
       "      <td>862.92187</td>\n",
       "    </tr>\n",
       "    <tr>\n",
       "      <th>3</th>\n",
       "      <td>train:NA19114:ENSG00000196735.6</td>\n",
       "      <td>MMRMMMMRRRRRRRMMRMMRMMRRMRRMMMRRRRRMMMMMMMMMMM...</td>\n",
       "      <td>train</td>\n",
       "      <td>NA19114</td>\n",
       "      <td>ENSG00000196735.6</td>\n",
       "      <td>6</td>\n",
       "      <td>ENSG00000196735.6</td>\n",
       "      <td>386.36688</td>\n",
       "    </tr>\n",
       "    <tr>\n",
       "      <th>4</th>\n",
       "      <td>train:NA19114:ENSG00000196735.6</td>\n",
       "      <td>MMRMMMMRRRRRRRMMRMMRMMRRMRRMMMRRRRRMMMMMMMMMMM...</td>\n",
       "      <td>train</td>\n",
       "      <td>NA19114</td>\n",
       "      <td>ENSG00000196735.6</td>\n",
       "      <td>6</td>\n",
       "      <td>ENSG00000196735.6</td>\n",
       "      <td>535.41651</td>\n",
       "    </tr>\n",
       "    <tr>\n",
       "      <th>...</th>\n",
       "      <td>...</td>\n",
       "      <td>...</td>\n",
       "      <td>...</td>\n",
       "      <td>...</td>\n",
       "      <td>...</td>\n",
       "      <td>...</td>\n",
       "      <td>...</td>\n",
       "      <td>...</td>\n",
       "    </tr>\n",
       "    <tr>\n",
       "      <th>6375</th>\n",
       "      <td>test:NA20774:ENSG00000196735.6</td>\n",
       "      <td>BRMMMRMRMRMRMRRRRMMRMRRRRMMMMMRMRRMRMMMRMMMRBM...</td>\n",
       "      <td>test</td>\n",
       "      <td>NA20774</td>\n",
       "      <td>ENSG00000196735.6</td>\n",
       "      <td>6</td>\n",
       "      <td>ENSG00000196735.6</td>\n",
       "      <td>347.94405</td>\n",
       "    </tr>\n",
       "    <tr>\n",
       "      <th>6376</th>\n",
       "      <td>test:HG00267:ENSG00000232629.4</td>\n",
       "      <td>BBBBBBRBRBBBRBBRBBRBBRBBBBBRRRRRBRBBBBBBRRRBRB...</td>\n",
       "      <td>test</td>\n",
       "      <td>HG00267</td>\n",
       "      <td>ENSG00000232629.4</td>\n",
       "      <td>2</td>\n",
       "      <td>ENSG00000232629.4</td>\n",
       "      <td>7.41003</td>\n",
       "    </tr>\n",
       "    <tr>\n",
       "      <th>6377</th>\n",
       "      <td>test:HG00366:ENSG00000196735.6</td>\n",
       "      <td>BBRBBBBBBBBRBBBBRBBRBBRRBRRBBBRBRBRBBBBBBBBBBB...</td>\n",
       "      <td>test</td>\n",
       "      <td>HG00366</td>\n",
       "      <td>ENSG00000196735.6</td>\n",
       "      <td>6</td>\n",
       "      <td>ENSG00000196735.6</td>\n",
       "      <td>346.18428</td>\n",
       "    </tr>\n",
       "    <tr>\n",
       "      <th>6378</th>\n",
       "      <td>test:HG00379:ENSG00000176681.9</td>\n",
       "      <td>RRRRRRFRRRRRRFRRRRRRRRRRRRRRRRRRRRRRRRRRRRRBRR...</td>\n",
       "      <td>test</td>\n",
       "      <td>HG00379</td>\n",
       "      <td>ENSG00000176681.9</td>\n",
       "      <td>9</td>\n",
       "      <td>ENSG00000176681.9</td>\n",
       "      <td>5.83544</td>\n",
       "    </tr>\n",
       "    <tr>\n",
       "      <th>6379</th>\n",
       "      <td>test:NA20589:ENSG00000196126.6</td>\n",
       "      <td>BRRFMMMFRRFMRFRBFBMBMMRRMMRRBMBRFFRMMRRMFMMMRM...</td>\n",
       "      <td>test</td>\n",
       "      <td>NA20589</td>\n",
       "      <td>ENSG00000196126.6</td>\n",
       "      <td>7</td>\n",
       "      <td>ENSG00000196126.6</td>\n",
       "      <td>445.08309</td>\n",
       "    </tr>\n",
       "  </tbody>\n",
       "</table>\n",
       "<p>6380 rows × 8 columns</p>\n",
       "</div>"
      ],
      "text/plain": [
       "                              seq_name  \\\n",
       "0     train:NA18870:ENSG00000179344.11   \n",
       "1     train:NA18870:ENSG00000179344.11   \n",
       "2      train:NA18508:ENSG00000196126.6   \n",
       "3      train:NA19114:ENSG00000196735.6   \n",
       "4      train:NA19114:ENSG00000196735.6   \n",
       "...                                ...   \n",
       "6375    test:NA20774:ENSG00000196735.6   \n",
       "6376    test:HG00267:ENSG00000232629.4   \n",
       "6377    test:HG00366:ENSG00000196735.6   \n",
       "6378    test:HG00379:ENSG00000176681.9   \n",
       "6379    test:NA20589:ENSG00000196126.6   \n",
       "\n",
       "                                                    seq  split sample_id  \\\n",
       "0     RRBRRBRBBBRRRRRRBRBBRBBRBRRRRRBBRBRBRRBRRRBBBB...  train   NA18870   \n",
       "1     RRBRRBRBBBRRRRRRBRBBRBBRBRRRRRBBRBRBRRBRRRBBBB...  train   NA18870   \n",
       "2     BRRRBBBRRRRBRRRBRBBBBBRRBBRRBBBRRRRBBRRBRBBBRB...  train   NA18508   \n",
       "3     MMRMMMMRRRRRRRMMRMMRMMRRMRRMMMRRRRRMMMMMMMMMMM...  train   NA19114   \n",
       "4     MMRMMMMRRRRRRRMMRMMRMMRRMRRMMMRRRRRMMMMMMMMMMM...  train   NA19114   \n",
       "...                                                 ...    ...       ...   \n",
       "6375  BRMMMRMRMRMRMRRRRMMRMRRRRMMMMMRMRRMRMMMRMMMRBM...   test   NA20774   \n",
       "6376  BBBBBBRBRBBBRBBRBBRBBRBBBBBRRRRRBRBBBBBBRRRBRB...   test   HG00267   \n",
       "6377  BBRBBBBBBBBRBBBBRBBRBBRRBRRBBBRBRBRBBBBBBBBBBB...   test   HG00366   \n",
       "6378  RRRRRRFRRRRRRFRRRRRRRRRRRRRRRRRRRRRRRRRRRRRBRR...   test   HG00379   \n",
       "6379  BRRFMMMFRRFMRFRBFBMBMMRRMMRRBMBRFFRMMRRMFMMMRM...   test   NA20589   \n",
       "\n",
       "                seg_name  seg_label         Gene_Symbol       expr  \n",
       "0     ENSG00000179344.11          8  ENSG00000179344.11   57.33069  \n",
       "1     ENSG00000179344.11          8  ENSG00000179344.11   68.38216  \n",
       "2      ENSG00000196126.6          7   ENSG00000196126.6  862.92187  \n",
       "3      ENSG00000196735.6          6   ENSG00000196735.6  386.36688  \n",
       "4      ENSG00000196735.6          6   ENSG00000196735.6  535.41651  \n",
       "...                  ...        ...                 ...        ...  \n",
       "6375   ENSG00000196735.6          6   ENSG00000196735.6  347.94405  \n",
       "6376   ENSG00000232629.4          2   ENSG00000232629.4    7.41003  \n",
       "6377   ENSG00000196735.6          6   ENSG00000196735.6  346.18428  \n",
       "6378   ENSG00000176681.9          9   ENSG00000176681.9    5.83544  \n",
       "6379   ENSG00000196126.6          7   ENSG00000196126.6  445.08309  \n",
       "\n",
       "[6380 rows x 8 columns]"
      ]
     },
     "execution_count": 18,
     "metadata": {},
     "output_type": "execute_result"
    }
   ],
   "source": [
    "seq_expression_df"
   ]
  },
  {
   "cell_type": "code",
   "execution_count": 36,
   "metadata": {},
   "outputs": [],
   "source": [
    "expression_data = pd.read_csv(\"../../extdata/GD660.GeneQuantRPKM.txt.gz\", sep=\"\\t\")\\\n",
    "    .rename(columns=lambda x: re.sub(\"\\..*\",'',x))\\\n",
    "    .melt(id_vars = [\"TargetID\", \"Gene_Symbol\", \"Chr\", \"Coord\"], var_name = \"sample_id\", value_name = \"expr\")[[\"Gene_Symbol\", \"sample_id\", \"expr\"]]\n",
    "seq_expression_df = pd.merge(seq_df, expression_data, left_on=[\"sample_id\", \"seg_name\"], right_on=[\"sample_id\", \"Gene_Symbol\"])\n",
    "\n",
    "# define test_set\n",
    "test_indices = np.random.randint(0, len(seq_expression_df), size=int(0.1*len(seq_expression_df)))\n",
    "save_path = os.path.join(\n",
    "    input_params.output_dir, \n",
    "    input_params.run_name, \n",
    "    \"test_set_indices.pkl\"\n",
    ")\n",
    "\n",
    "if not os.path.exists(os.path.dirname(save_path)): \n",
    "    os.makedirs(os.path.dirname(save_path), exist_ok=True)\n",
    "\n",
    "with open(save_path, \"wb\") as f:\n",
    "    pickle.dump(test_indices, f)\n",
    "\n",
    "seq_expression_df = seq_expression_df.loc[~seq_expression_df.index.isin(test_indices)]"
   ]
  },
  {
   "cell_type": "code",
   "execution_count": 37,
   "metadata": {},
   "outputs": [
    {
     "name": "stdout",
     "output_type": "stream",
     "text": [
      "\n",
      "CUDA device: GPU\n",
      "\n"
     ]
    }
   ],
   "source": [
    "if torch.cuda.is_available():\n",
    "    device = torch.device('cuda')\n",
    "    print('\\nCUDA device: GPU\\n')\n",
    "else:\n",
    "    device = torch.device('cpu')\n",
    "    print('\\nCUDA device: CPU\\n')\n",
    "gc.collect()\n",
    "torch.cuda.empty_cache()\n",
    "\n",
    "# device = \"cpu\"\n",
    "#os.environ[\"PYTORCH_CUDA_ALLOC_CONF\"] = \"max_split_size_mb:512\""
   ]
  },
  {
   "cell_type": "code",
   "execution_count": 6,
   "metadata": {},
   "outputs": [
    {
     "data": {
      "text/plain": [
       "23997.6875"
      ]
     },
     "execution_count": 6,
     "metadata": {},
     "output_type": "execute_result"
    }
   ],
   "source": [
    "torch.cuda.mem_get_info()[0]/1024/1024"
   ]
  },
  {
   "cell_type": "code",
   "execution_count": 38,
   "metadata": {},
   "outputs": [],
   "source": [
    "class GenoDataset(Dataset):\n",
    "    def __init__(self, seq_df, transform, dataset_path, seq_len, max_augm_shift=0, \n",
    "                 mode='train', regression=False):\n",
    "\n",
    "        if dataset_path.endswith('.fa'):\n",
    "            self.fasta = pysam.FastaFile(dataset_path)\n",
    "        else:\n",
    "            self.fasta = None\n",
    "\n",
    "        self.seq_df = seq_df\n",
    "        self.transform = transform\n",
    "        self.max_augm_shift = max_augm_shift\n",
    "        self.mode = mode\n",
    "        self.seq_len = seq_len\n",
    "\n",
    "        self.regression = regression\n",
    "\n",
    "    def __len__(self):\n",
    "        return len(self.seq_df)\n",
    "\n",
    "    def __getitem__(self, idx):\n",
    "        if self.fasta:\n",
    "            seq = self.fasta.fetch(self.seq_df.iloc[idx].seq_name).upper()\n",
    "        else:\n",
    "            seq = self.seq_df.iloc[idx].seq.upper()\n",
    "        shift = np.random.randint(self.max_augm_shift+1) #random shift at training, must be chunk_size-input_params.seq_len\n",
    "        seq = seq[shift:shift+self.seq_len] #shift the sequence and limit its size\n",
    "        seg_label = self.seq_df.iloc[idx].seg_label #label for segment-aware training\n",
    "\n",
    "        #for given genotype, randomly choose a haplotype for training/testing\n",
    "        if np.random.rand()>0.5:\n",
    "            seq = seq.replace('-','').replace('B','A').replace('F','A').replace('M','R')\n",
    "        else:\n",
    "            seq = seq.replace('-','').replace('B','A').replace('M','A').replace('F','R')\n",
    "\n",
    "        masked_sequence, target_labels_masked, target_labels, _, _ = self.transform(seq)\n",
    "        masked_sequence = (masked_sequence, seg_label)\n",
    "\n",
    "        if self.regression: \n",
    "            seq_expr = self.seq_df.iloc[idx].expr.astype(np.float32)\n",
    "            return masked_sequence, target_labels_masked, target_labels, seq, seq_expr\n",
    "\n",
    "        return masked_sequence, target_labels_masked, target_labels, seq\n",
    "\n",
    "    def close(self):\n",
    "        self.fasta.close()\n",
    "\n",
    "\n",
    "class HaploDataset(Dataset):\n",
    "\n",
    "    def __init__(self, seq_df, transform, dataset_path, seq_len, max_augm_shift=0, \n",
    "                 mode='train', regression=False):\n",
    "\n",
    "        if dataset_path.endswith('.fa'):\n",
    "            self.fasta = pysam.FastaFile(dataset_path)\n",
    "        else:\n",
    "            self.fasta = None\n",
    "\n",
    "        self.seq_df = seq_df\n",
    "        self.transform = transform\n",
    "        self.max_augm_shift = max_augm_shift\n",
    "        self.mode = mode\n",
    "        self.seq_len = seq_len\n",
    "\n",
    "        self.regression = regression\n",
    "\n",
    "    def __len__(self):\n",
    "\n",
    "        return len(self.seq_df) # times two because returns both haplotypes \n",
    "\n",
    "    def __getitem__(self, idx):\n",
    "\n",
    "        if self.fasta:\n",
    "            seq = self.fasta.fetch(self.seq_df.iloc[idx].seq_name).upper()\n",
    "        else:\n",
    "            seq = self.seq_df.iloc[idx].seq.upper()\n",
    "\n",
    "        shift = np.random.randint(self.max_augm_shift+1) #random shift at training, must be chunk_size-input_params.seq_len\n",
    "\n",
    "        seq = seq[shift:shift+self.seq_len] #shift the sequence and limit its size\n",
    "        seg_label = self.seq_df.iloc[idx].seg_label #label for segment-aware training\n",
    "        #'''\n",
    "        seq1 = seq.replace('-','').replace('B','A').replace('F','A').replace('M','R') # father\n",
    "        seq2 = seq.replace('-','').replace('B','A').replace('M','A').replace('F','R') # mother \n",
    "\n",
    "        masked_sequence1, target_labels_masked1, target_labels1, _, _ = self.transform(seq1)\n",
    "        masked_sequence2, target_labels_masked2, target_labels2, _, _ = self.transform(seq2)\n",
    "\n",
    "        masked_sequence = torch.vstack((masked_sequence1, masked_sequence2))\n",
    "        seg_label = torch.vstack((torch.tensor(seg_label), torch.tensor(seg_label)))\n",
    "        masked_sequence = (masked_sequence, seg_label)\n",
    "\n",
    "        target_labels_masked = torch.vstack((target_labels_masked1, target_labels_masked2))\n",
    "        target_labels = torch.vstack((target_labels1, target_labels2))\n",
    "        seq = (seq1, seq2)\n",
    "\n",
    "        if self.regression: \n",
    "            seq_expr = self.seq_df.iloc[idx].expr.astype(np.float32)\n",
    "            return masked_sequence, target_labels_masked, target_labels, seq, seq_expr\n",
    "\n",
    "        return masked_sequence, target_labels_masked, target_labels, seq\n",
    "        \n",
    "\n",
    "    def close(self):\n",
    "        self.fasta.close()\n",
    "\n",
    "class ExpressionCollator(object): \n",
    "    def __init__(self, haplotypes=False): \n",
    "        self.haplotypes = haplotypes\n",
    "\n",
    "    def __call__(self, data): \n",
    "        return self.collate_fn(data)\n",
    "\n",
    "    def collate_fn(self, data):\n",
    "        \"\"\"collate fn that adds expression values for each sequence.\n",
    "        \"\"\" \n",
    "        #masked sequence\n",
    "        if self.haplotypes:\n",
    "            masked_sequence = [x[0][0] for x in data]\n",
    "            masked_sequence = [torch.stack(torch.split(d, 3)) for d in masked_sequence] \n",
    "            masked_sequence = torch.concat(masked_sequence)\n",
    "            #seg labels\n",
    "            seg_labels = [x[0][1] for x in data]\n",
    "            seg_labels = torch.concat(seg_labels).flatten()\n",
    "            # target labels masked\n",
    "            target_labels_masked = [x[1] for x in data]\n",
    "            target_labels_masked = torch.concat(target_labels_masked)\n",
    "            # target labels \n",
    "            target_labels = [x[2] for x in data]\n",
    "            target_labels = torch.concat(target_labels)\n",
    "            #seq\n",
    "            seqs = [x[3] for x in data]\n",
    "            seqs = tuple(chain.from_iterable(seqs))\n",
    "\n",
    "            seg_expr = [x[4] for x in data]\n",
    "            # repeat each element twice, once for each haplotype\n",
    "            seg_expr = torch.Tensor(seg_expr).repeat_interleave(2)\n",
    "\n",
    "            return (masked_sequence, seg_labels, seg_expr),target_labels_masked, target_labels, seqs\n",
    "        else: \n",
    "            masked_sequence = [x[0][0] for x in data]\n",
    "            masked_sequence = [torch.stack(torch.split(d, 3)) for d in masked_sequence] \n",
    "            masked_sequence = torch.concat(masked_sequence)\n",
    "\n",
    "            seg_labels = torch.Tensor([x[0][1] for x in data]).type(torch.LongTensor)\n",
    "\n",
    "            target_labels_masked = [x[1] for x in data]\n",
    "            target_labels_masked = torch.vstack(target_labels_masked)\n",
    "\n",
    "            target_labels = [x[2] for x in data]\n",
    "            target_labels = torch.vstack(target_labels)\n",
    "\n",
    "            seqs = [x[3] for x in data]\n",
    "            \n",
    "            seg_expr = torch.Tensor([x[4] for x in data])\n",
    "\n",
    "            return (masked_sequence, seg_labels, seg_expr), target_labels_masked, target_labels, seqs\n",
    "    "
   ]
  },
  {
   "cell_type": "code",
   "execution_count": 39,
   "metadata": {},
   "outputs": [
    {
     "name": "stderr",
     "output_type": "stream",
     "text": [
      "/scratch/tmp/pjo/ipykernel_3967143/2555347109.py:29: SettingWithCopyWarning: \n",
      "A value is trying to be set on a copy of a slice from a DataFrame.\n",
      "Try using .loc[row_indexer,col_indexer] = value instead\n",
      "\n",
      "See the caveats in the documentation: https://pandas.pydata.org/pandas-docs/stable/user_guide/indexing.html#returning-a-view-versus-a-copy\n",
      "  train_df['train_fold'] = train_fold[:N_train]\n"
     ]
    }
   ],
   "source": [
    "test_df = None \n",
    "if input_params.haplotypes:\n",
    "    dataset = HaploDataset\n",
    "    collator = ExpressionCollator(haplotypes=True)\n",
    "else:\n",
    "    dataset = GenoDataset\n",
    "    collator = ExpressionCollator(haplotypes=False)\n",
    "\n",
    "if not input_params.test: #Train and Validate\n",
    "    seq_transform = sequence_encoders.SequenceDataEncoder(seq_len = input_params.seq_len, total_len = input_params.seq_len,\n",
    "                                                      mask_rate = input_params.mask_rate, split_mask = input_params.split_mask)\n",
    "\n",
    "    #N_train = int(len(seq_expression_df)*(1-input_params.val_fraction))\n",
    "    if input_params.fold is not None:\n",
    "        \n",
    "        samples = seq_expression_df.sample_id.unique()\n",
    "        val_samples = samples[input_params.fold::input_params.Nfolds] \n",
    "        train_df = seq_expression_df[~seq_expression_df.sample_id.isin(val_samples)] \n",
    "        test_df = seq_expression_df[seq_expression_df.sample_id.isin(val_samples)]\n",
    "        test_dataset = dataset(test_df, transform = seq_transform, dataset_path=input_params.dataset, seq_len=input_params.seq_len, mode='eval', regression=True)\n",
    "        test_dataloader = DataLoader(dataset = test_dataset, batch_size = input_params.batch_size, num_workers = 0, collate_fn = collator, shuffle = False)\n",
    "    else:\n",
    "        train_df = seq_expression_df\n",
    "        #train_df = seq_expression_df[seq_expression_df.split=='train']\n",
    "        #test_df = seq_expression_df[seq_expression_df.split=='val']\n",
    "  \n",
    "    N_train = len(train_df)\n",
    "    train_fold = np.repeat(list(range(input_params.train_splits)),repeats = N_train // input_params.train_splits + 1 )\n",
    "    train_df['train_fold'] = train_fold[:N_train]\n",
    "    # create training dataset & dataloader \n",
    "    train_dataset = dataset(train_df, transform = seq_transform, dataset_path=input_params.dataset, seq_len=input_params.seq_len,  mode='train', regression=True)\n",
    "    train_dataloader = DataLoader(dataset = train_dataset, batch_size = input_params.batch_size, num_workers = 2, collate_fn = collator, shuffle = False)\n",
    "\n",
    "elif input_params.get_embeddings:\n",
    "    if input_params.mask_at_test:\n",
    "        seq_transform = sequence_encoders.RollingMasker(mask_stride = 50, frame = 0)\n",
    "    else:\n",
    "        seq_transform = sequence_encoders.PlainOneHot(frame = 0, padding = 'none')\n",
    "    # create test dataset & dataloader \n",
    "    test_dataset = dataset(seq_expression_df, transform = seq_transform, mode='eval', dataset_path=input_params.dataset, seq_len=input_params.seq_len, regression=True)\n",
    "    test_dataloader = DataLoader(dataset = test_dataset, batch_size = 1, num_workers = 1, collate_fn = collator, shuffle = False)\n",
    "\n",
    "else: #Test\n",
    "    print(\"not getting embeddings\")\n",
    "    seq_transform = sequence_encoders.SequenceDataEncoder(seq_len = input_params.seq_len, total_len = input_params.seq_len,\n",
    "                                                      mask_rate=input_params.mask_rate, split_mask = input_params.split_mask)\n",
    "    # create test dataset & dataloader \n",
    "    test_dataset = dataset(seq_expression_df, transform = seq_transform, mode='eval', dataset_path=input_params.dataset, seq_len=input_params.seq_len, regression=True)\n",
    "    test_dataloader = DataLoader(dataset = test_dataset, batch_size = input_params.batch_size, num_workers = 2, collate_fn = collator, shuffle = False)"
   ]
  },
  {
   "cell_type": "code",
   "execution_count": 40,
   "metadata": {},
   "outputs": [],
   "source": [
    "seg_encoder = SpecAdd(embed = True, encoder = 'label', Nsegments=seq_df.seg_label.nunique(), d_model = input_params.d_model)\n",
    "\n",
    "model = DSSResNetExpression(d_input = 3, d_output = 3, d_model = input_params.d_model, n_layers = input_params.n_layers, \n",
    "                     dropout = input_params.dropout, embed_before = True, species_encoder = seg_encoder)\n",
    "\n",
    "model = model.to(device)\n",
    "\n",
    "# load the weights\n",
    "# model.load_state_dict(torch.load(input_params.model_weight, map_location=device), strict=False)\n",
    "\n",
    "# define which layers to freeze\n",
    "for param_idx, (param_name, param) in enumerate(model.named_parameters()): \n",
    "    if not param_name.startswith(\"regression\"):\n",
    "        param.requires_grad = False\n",
    "\n",
    "model_params = [p for p in model.parameters() if p.requires_grad]\n",
    "\n",
    "optimizer = torch.optim.Adam(model_params, lr = input_params.learning_rate, weight_decay = input_params.weight_decay)\n",
    "\n",
    "weights_dir = os.path.join(input_params.output_dir, 'weights') #dir to save model weights at save_at epochs\n",
    "\n",
    "if input_params.model_weight:\n",
    "    if torch.cuda.is_available():\n",
    "        #load on gpu\n",
    "        model.load_state_dict(torch.load(input_params.model_weight), strict=False)\n",
    "        if input_params.optimizer_weight:\n",
    "            optimizer.load_state_dict(torch.load(input_params.optimizer_weight))\n",
    "    else:\n",
    "        #load on cpu\n",
    "        model.load_state_dict(torch.load(input_params.model_weight, map_location=torch.device('cpu')), strict=False)\n",
    "        if input_params.optimizer_weight:\n",
    "            optimizer.load_state_dict(torch.load(input_params.optimizer_weight, map_location=torch.device('cpu')))\n"
   ]
  },
  {
   "cell_type": "code",
   "execution_count": 154,
   "metadata": {},
   "outputs": [],
   "source": [
    "def metrics_to_str(metrics):\n",
    "    expr_loss, loss, accuracy, masked_acc, masked_recall, masked_IQS = metrics\n",
    "    return f'expr_loss: {expr_loss:.4}, loss: {loss:.4}, acc: {accuracy:.4}, masked acc: {masked_acc:.4}, {misc.print_class_recall(masked_recall, \"masked recall: \")}, masked IQS: {masked_IQS:.4}'"
   ]
  },
  {
   "cell_type": "code",
   "execution_count": 232,
   "metadata": {},
   "outputs": [],
   "source": [
    "from helpers.metrics import MeanRecall, MaskedAccuracy, IQS\n",
    "from helpers.misc import EMA, print_class_recall\n",
    "from tqdm import tqdm\n",
    "\n",
    "\n",
    "def print_gpu_mb(device=\"cuda\"): \n",
    "    if (device == \"cuda\" or device == torch.device(type=\"cuda\")) and torch.cuda.is_available(): \n",
    "        used = torch.cuda.memory_allocated(device)/1024/1024\n",
    "        return f\"{used:.2f} Mb\"\n",
    "    else: \n",
    "        return \"N/A\"\n",
    "\n",
    "def train_reg_model(model, optimizer, dataloader, device, silent=False, log_wandb=True):\n",
    "    \"\"\"train function with added regression loss\"\"\"\n",
    "\n",
    "    criterion = torch.nn.CrossEntropyLoss(reduction = \"mean\")\n",
    "\n",
    "    accuracy = MaskedAccuracy(smooth=True).to(device)\n",
    "    masked_recall = MeanRecall().to(device)\n",
    "    masked_accuracy = MaskedAccuracy(smooth=True).to(device)\n",
    "    masked_IQS = IQS().to(device)\n",
    "\n",
    "    reg_criterion = nn.MSELoss()\n",
    "    \n",
    "    model.train() #model to train mode\n",
    "\n",
    "    if not silent:\n",
    "        tot_itr = len(dataloader.dataset)//dataloader.batch_size #total train iterations\n",
    "        pbar = tqdm(total = tot_itr, ncols=750) #progress bar\n",
    "\n",
    "    loss_EMA = EMA()\n",
    "\n",
    "    for itr_idx, ((masked_sequence, species_label, expr), targets_masked, targets, _) in enumerate(dataloader):\n",
    "\n",
    "        masked_sequence = masked_sequence.to(device)\n",
    "        species_label = species_label.to(device)\n",
    "        targets_masked = targets_masked.to(device)\n",
    "        targets = targets.to(device)\n",
    "        expr = expr.reshape(-1, 1).to(device)\n",
    "\n",
    "        logits, _, expr_pred = model(masked_sequence, species_label)\n",
    "\n",
    "        masked_loss = criterion(logits, targets_masked)\n",
    "        expr_loss = reg_criterion(expr_pred, expr)\n",
    "\n",
    "        optimizer.zero_grad()\n",
    "\n",
    "        loss = expr_loss + masked_loss\n",
    "\n",
    "        loss.backward()\n",
    "\n",
    "        #if max_abs_grad:\n",
    "        #    torch.nn.utils.clip_grad_value_(model.parameters(), max_abs_grad)\n",
    "\n",
    "        optimizer.step()\n",
    "\n",
    "        if log_wandb:\n",
    "            if itr_idx % 10 == 0:\n",
    "                wandb.log({\"expr_loss\": expr_loss, \"masked_loss\": masked_loss, \"total_loss\": loss,\n",
    "                        \"masked_acc\": masked_accuracy.compute(), \"masked_recall\": masked_recall.compute(), \"masked_IQS\": masked_IQS.compute()})\n",
    "\n",
    "        smoothed_loss = loss_EMA.update(loss.item())\n",
    "\n",
    "        preds = torch.argmax(logits, dim=1)\n",
    "\n",
    "        accuracy.update(preds, targets)\n",
    "        masked_recall.update(preds, targets_masked)\n",
    "        masked_accuracy.update(preds, targets_masked)\n",
    "        masked_IQS.update(preds, targets_masked)\n",
    "        \n",
    "        if not silent:\n",
    "            pbar.update(1)\n",
    "            pbar.set_description(f'Mem: {print_gpu_mb(device)}, reg_loss: {expr_loss:.4f}, masked_loss: {masked_loss}, total_loss: {smoothed_loss:.4f}, acc: {accuracy.compute():.4}, {print_class_recall(masked_recall.compute(), \"masked recall: \")}, masked acc: {masked_accuracy.compute():.4}, masked IQS: {masked_IQS.compute():.4}')\n",
    "\n",
    "    if not silent:\n",
    "        pbar.reset()\n",
    "        del pbar\n",
    "\n",
    "    return expr_loss, loss, accuracy, masked_accuracy, masked_recall, masked_IQS\n"
   ]
  },
  {
   "cell_type": "code",
   "execution_count": 169,
   "metadata": {},
   "outputs": [],
   "source": [
    "check_batch = (\n",
    "    train_dataset[0], \n",
    "    train_dataset[1]\n",
    ")"
   ]
  },
  {
   "cell_type": "code",
   "execution_count": 170,
   "metadata": {},
   "outputs": [
    {
     "ename": "ValueError",
     "evalue": "not enough values to unpack (expected 5, got 2)",
     "output_type": "error",
     "traceback": [
      "\u001b[0;31m---------------------------------------------------------------------------\u001b[0m",
      "\u001b[0;31mValueError\u001b[0m                                Traceback (most recent call last)",
      "Cell \u001b[0;32mIn[170], line 1\u001b[0m\n\u001b[0;32m----> 1\u001b[0m (masked_sequence, species_label), targets_masked, targets, _, expr \u001b[38;5;241m=\u001b[39m check_batch\n",
      "\u001b[0;31mValueError\u001b[0m: not enough values to unpack (expected 5, got 2)"
     ]
    }
   ],
   "source": [
    "(masked_sequence, species_label), targets_masked, targets, _, expr = check_batch"
   ]
  },
  {
   "cell_type": "code",
   "execution_count": 168,
   "metadata": {},
   "outputs": [
    {
     "data": {
      "text/plain": [
       "862.9219"
      ]
     },
     "execution_count": 168,
     "metadata": {},
     "output_type": "execute_result"
    }
   ],
   "source": [
    "expr"
   ]
  },
  {
   "cell_type": "code",
   "execution_count": 172,
   "metadata": {},
   "outputs": [
    {
     "ename": "ValueError",
     "evalue": "Caught ValueError in DataLoader worker process 0.\nOriginal Traceback (most recent call last):\n  File \"/opt/modules/i12g/anaconda/envs/pjo_dnareg/lib/python3.11/site-packages/torch/utils/data/_utils/worker.py\", line 308, in _worker_loop\n    data = fetcher.fetch(index)\n           ^^^^^^^^^^^^^^^^^^^^\n  File \"/opt/modules/i12g/anaconda/envs/pjo_dnareg/lib/python3.11/site-packages/torch/utils/data/_utils/fetch.py\", line 54, in fetch\n    return self.collate_fn(data)\n           ^^^^^^^^^^^^^^^^^^^^^\n  File \"/scratch/tmp/pjo/ipykernel_3958059/4106035108.py\", line 110, in __call__\n    self.collate_fn(data)\n  File \"/scratch/tmp/pjo/ipykernel_3958059/4106035108.py\", line 139, in collate_fn\n    (masked_sequence, species_label), targets_masked, targets, seq, seg_expr = data\n    ^^^^^^^^^^^^^^^^^^^^^^^^^^^^^^^^^^^^^^^^^^^^^^^^^^^^^^^^^^^^^^^^^^^^^^^^\nValueError: too many values to unpack (expected 5)\n",
     "output_type": "error",
     "traceback": [
      "\u001b[0;31m---------------------------------------------------------------------------\u001b[0m",
      "\u001b[0;31mValueError\u001b[0m                                Traceback (most recent call last)",
      "Cell \u001b[0;32mIn[172], line 1\u001b[0m\n\u001b[0;32m----> 1\u001b[0m check_batch \u001b[38;5;241m=\u001b[39m \u001b[38;5;28mnext\u001b[39m(\u001b[38;5;28miter\u001b[39m(train_dataloader))\n",
      "File \u001b[0;32m/opt/modules/i12g/anaconda/envs/pjo_dnareg/lib/python3.11/site-packages/torch/utils/data/dataloader.py:630\u001b[0m, in \u001b[0;36m_BaseDataLoaderIter.__next__\u001b[0;34m(self)\u001b[0m\n\u001b[1;32m    627\u001b[0m \u001b[38;5;28;01mif\u001b[39;00m \u001b[38;5;28mself\u001b[39m\u001b[38;5;241m.\u001b[39m_sampler_iter \u001b[38;5;129;01mis\u001b[39;00m \u001b[38;5;28;01mNone\u001b[39;00m:\n\u001b[1;32m    628\u001b[0m     \u001b[38;5;66;03m# TODO(https://github.com/pytorch/pytorch/issues/76750)\u001b[39;00m\n\u001b[1;32m    629\u001b[0m     \u001b[38;5;28mself\u001b[39m\u001b[38;5;241m.\u001b[39m_reset()  \u001b[38;5;66;03m# type: ignore[call-arg]\u001b[39;00m\n\u001b[0;32m--> 630\u001b[0m data \u001b[38;5;241m=\u001b[39m \u001b[38;5;28mself\u001b[39m\u001b[38;5;241m.\u001b[39m_next_data()\n\u001b[1;32m    631\u001b[0m \u001b[38;5;28mself\u001b[39m\u001b[38;5;241m.\u001b[39m_num_yielded \u001b[38;5;241m+\u001b[39m\u001b[38;5;241m=\u001b[39m \u001b[38;5;241m1\u001b[39m\n\u001b[1;32m    632\u001b[0m \u001b[38;5;28;01mif\u001b[39;00m \u001b[38;5;28mself\u001b[39m\u001b[38;5;241m.\u001b[39m_dataset_kind \u001b[38;5;241m==\u001b[39m _DatasetKind\u001b[38;5;241m.\u001b[39mIterable \u001b[38;5;129;01mand\u001b[39;00m \\\n\u001b[1;32m    633\u001b[0m         \u001b[38;5;28mself\u001b[39m\u001b[38;5;241m.\u001b[39m_IterableDataset_len_called \u001b[38;5;129;01mis\u001b[39;00m \u001b[38;5;129;01mnot\u001b[39;00m \u001b[38;5;28;01mNone\u001b[39;00m \u001b[38;5;129;01mand\u001b[39;00m \\\n\u001b[1;32m    634\u001b[0m         \u001b[38;5;28mself\u001b[39m\u001b[38;5;241m.\u001b[39m_num_yielded \u001b[38;5;241m>\u001b[39m \u001b[38;5;28mself\u001b[39m\u001b[38;5;241m.\u001b[39m_IterableDataset_len_called:\n",
      "File \u001b[0;32m/opt/modules/i12g/anaconda/envs/pjo_dnareg/lib/python3.11/site-packages/torch/utils/data/dataloader.py:1345\u001b[0m, in \u001b[0;36m_MultiProcessingDataLoaderIter._next_data\u001b[0;34m(self)\u001b[0m\n\u001b[1;32m   1343\u001b[0m \u001b[38;5;28;01melse\u001b[39;00m:\n\u001b[1;32m   1344\u001b[0m     \u001b[38;5;28;01mdel\u001b[39;00m \u001b[38;5;28mself\u001b[39m\u001b[38;5;241m.\u001b[39m_task_info[idx]\n\u001b[0;32m-> 1345\u001b[0m     \u001b[38;5;28;01mreturn\u001b[39;00m \u001b[38;5;28mself\u001b[39m\u001b[38;5;241m.\u001b[39m_process_data(data)\n",
      "File \u001b[0;32m/opt/modules/i12g/anaconda/envs/pjo_dnareg/lib/python3.11/site-packages/torch/utils/data/dataloader.py:1371\u001b[0m, in \u001b[0;36m_MultiProcessingDataLoaderIter._process_data\u001b[0;34m(self, data)\u001b[0m\n\u001b[1;32m   1369\u001b[0m \u001b[38;5;28mself\u001b[39m\u001b[38;5;241m.\u001b[39m_try_put_index()\n\u001b[1;32m   1370\u001b[0m \u001b[38;5;28;01mif\u001b[39;00m \u001b[38;5;28misinstance\u001b[39m(data, ExceptionWrapper):\n\u001b[0;32m-> 1371\u001b[0m     data\u001b[38;5;241m.\u001b[39mreraise()\n\u001b[1;32m   1372\u001b[0m \u001b[38;5;28;01mreturn\u001b[39;00m data\n",
      "File \u001b[0;32m/opt/modules/i12g/anaconda/envs/pjo_dnareg/lib/python3.11/site-packages/torch/_utils.py:694\u001b[0m, in \u001b[0;36mExceptionWrapper.reraise\u001b[0;34m(self)\u001b[0m\n\u001b[1;32m    690\u001b[0m \u001b[38;5;28;01mexcept\u001b[39;00m \u001b[38;5;167;01mTypeError\u001b[39;00m:\n\u001b[1;32m    691\u001b[0m     \u001b[38;5;66;03m# If the exception takes multiple arguments, don't try to\u001b[39;00m\n\u001b[1;32m    692\u001b[0m     \u001b[38;5;66;03m# instantiate since we don't know how to\u001b[39;00m\n\u001b[1;32m    693\u001b[0m     \u001b[38;5;28;01mraise\u001b[39;00m \u001b[38;5;167;01mRuntimeError\u001b[39;00m(msg) \u001b[38;5;28;01mfrom\u001b[39;00m \u001b[38;5;28;01mNone\u001b[39;00m\n\u001b[0;32m--> 694\u001b[0m \u001b[38;5;28;01mraise\u001b[39;00m exception\n",
      "\u001b[0;31mValueError\u001b[0m: Caught ValueError in DataLoader worker process 0.\nOriginal Traceback (most recent call last):\n  File \"/opt/modules/i12g/anaconda/envs/pjo_dnareg/lib/python3.11/site-packages/torch/utils/data/_utils/worker.py\", line 308, in _worker_loop\n    data = fetcher.fetch(index)\n           ^^^^^^^^^^^^^^^^^^^^\n  File \"/opt/modules/i12g/anaconda/envs/pjo_dnareg/lib/python3.11/site-packages/torch/utils/data/_utils/fetch.py\", line 54, in fetch\n    return self.collate_fn(data)\n           ^^^^^^^^^^^^^^^^^^^^^\n  File \"/scratch/tmp/pjo/ipykernel_3958059/4106035108.py\", line 110, in __call__\n    self.collate_fn(data)\n  File \"/scratch/tmp/pjo/ipykernel_3958059/4106035108.py\", line 139, in collate_fn\n    (masked_sequence, species_label), targets_masked, targets, seq, seg_expr = data\n    ^^^^^^^^^^^^^^^^^^^^^^^^^^^^^^^^^^^^^^^^^^^^^^^^^^^^^^^^^^^^^^^^^^^^^^^^\nValueError: too many values to unpack (expected 5)\n"
     ]
    }
   ],
   "source": [
    "check_batch = next(iter(train_dataloader))"
   ]
  },
  {
   "cell_type": "code",
   "execution_count": 156,
   "metadata": {},
   "outputs": [
    {
     "ename": "TypeError",
     "evalue": "cannot unpack non-iterable ExpressionCollator object",
     "output_type": "error",
     "traceback": [
      "\u001b[0;31m---------------------------------------------------------------------------\u001b[0m",
      "\u001b[0;31mTypeError\u001b[0m                                 Traceback (most recent call last)",
      "Cell \u001b[0;32mIn[156], line 1\u001b[0m\n\u001b[0;32m----> 1\u001b[0m (masked_sequence, species_label, expr), targets_masked, targets, _ \u001b[38;5;241m=\u001b[39m check_batch\n",
      "\u001b[0;31mTypeError\u001b[0m: cannot unpack non-iterable ExpressionCollator object"
     ]
    }
   ],
   "source": [
    "(masked_sequence, species_label, expr), targets_masked, targets, _ = check_batch"
   ]
  },
  {
   "cell_type": "code",
   "execution_count": 13,
   "metadata": {},
   "outputs": [
    {
     "data": {
      "text/plain": [
       "6"
      ]
     },
     "execution_count": 13,
     "metadata": {},
     "output_type": "execute_result"
    }
   ],
   "source": [
    "len(optimizer.param_groups[0][\"params\"])"
   ]
  },
  {
   "cell_type": "code",
   "execution_count": 20,
   "metadata": {},
   "outputs": [
    {
     "name": "stderr",
     "output_type": "stream",
     "text": [
      "Failed to detect the name of this notebook, you can set it manually with the WANDB_NOTEBOOK_NAME environment variable to enable code saving.\n",
      "\u001b[34m\u001b[1mwandb\u001b[0m: Currently logged in as: \u001b[33mjokpro\u001b[0m (\u001b[33mcmm-t1\u001b[0m). Use \u001b[1m`wandb login --relogin`\u001b[0m to force relogin\n"
     ]
    },
    {
     "data": {
      "text/html": [
       "wandb version 0.16.1 is available!  To upgrade, please run:\n",
       " $ pip install wandb --upgrade"
      ],
      "text/plain": [
       "<IPython.core.display.HTML object>"
      ]
     },
     "metadata": {},
     "output_type": "display_data"
    },
    {
     "data": {
      "text/html": [
       "Tracking run with wandb version 0.15.12"
      ],
      "text/plain": [
       "<IPython.core.display.HTML object>"
      ]
     },
     "metadata": {},
     "output_type": "display_data"
    },
    {
     "data": {
      "text/html": [
       "Run data is saved locally in <code>/data/nasif12/home_if12/pjo/Documents/lm-eqtl/model/my_notebooks/wandb/run-20240105_133446-fy6bk161</code>"
      ],
      "text/plain": [
       "<IPython.core.display.HTML object>"
      ]
     },
     "metadata": {},
     "output_type": "display_data"
    },
    {
     "data": {
      "text/html": [
       "Syncing run <strong><a href='https://wandb.ai/cmm-t1/lm-eqtl/runs/fy6bk161' target=\"_blank\">100_8_geno_full</a></strong> to <a href='https://wandb.ai/cmm-t1/lm-eqtl' target=\"_blank\">Weights & Biases</a> (<a href='https://wandb.me/run' target=\"_blank\">docs</a>)<br/>"
      ],
      "text/plain": [
       "<IPython.core.display.HTML object>"
      ]
     },
     "metadata": {},
     "output_type": "display_data"
    },
    {
     "data": {
      "text/html": [
       " View project at <a href='https://wandb.ai/cmm-t1/lm-eqtl' target=\"_blank\">https://wandb.ai/cmm-t1/lm-eqtl</a>"
      ],
      "text/plain": [
       "<IPython.core.display.HTML object>"
      ]
     },
     "metadata": {},
     "output_type": "display_data"
    },
    {
     "data": {
      "text/html": [
       " View run at <a href='https://wandb.ai/cmm-t1/lm-eqtl/runs/fy6bk161' target=\"_blank\">https://wandb.ai/cmm-t1/lm-eqtl/runs/fy6bk161</a>"
      ],
      "text/plain": [
       "<IPython.core.display.HTML object>"
      ]
     },
     "metadata": {},
     "output_type": "display_data"
    },
    {
     "data": {
      "text/html": [
       "<button onClick=\"this.nextSibling.style.display='block';this.style.display='none';\">Display W&B run</button><iframe src='https://wandb.ai/cmm-t1/lm-eqtl/runs/fy6bk161?jupyter=true' style='border:none;width:100%;height:420px;display:none;'></iframe>"
      ],
      "text/plain": [
       "<wandb.sdk.wandb_run.Run at 0x1473eeec0f90>"
      ]
     },
     "execution_count": 20,
     "metadata": {},
     "output_type": "execute_result"
    }
   ],
   "source": []
  },
  {
   "cell_type": "code",
   "execution_count": 15,
   "metadata": {},
   "outputs": [
    {
     "data": {
      "text/html": [
       "Waiting for W&B process to finish... <strong style=\"color:green\">(success).</strong>"
      ],
      "text/plain": [
       "<IPython.core.display.HTML object>"
      ]
     },
     "metadata": {},
     "output_type": "display_data"
    },
    {
     "name": "stderr",
     "output_type": "stream",
     "text": [
      "wandb: WARNING Source type is set to 'repo' but some required information is missing from the environment. A job will not be created from this run. See https://docs.wandb.ai/guides/launch/create-job\n"
     ]
    },
    {
     "data": {
      "text/html": [
       " View run <strong style=\"color:#cdcd00\">northern-grass-12</strong> at: <a href='https://wandb.ai/cmm-t1/lm-eqtl/runs/h3fpzt9c' target=\"_blank\">https://wandb.ai/cmm-t1/lm-eqtl/runs/h3fpzt9c</a><br/>Synced 5 W&B file(s), 0 media file(s), 0 artifact file(s) and 0 other file(s)"
      ],
      "text/plain": [
       "<IPython.core.display.HTML object>"
      ]
     },
     "metadata": {},
     "output_type": "display_data"
    },
    {
     "data": {
      "text/html": [
       "Find logs at: <code>./wandb/run-20240105_124341-h3fpzt9c/logs</code>"
      ],
      "text/plain": [
       "<IPython.core.display.HTML object>"
      ]
     },
     "metadata": {},
     "output_type": "display_data"
    }
   ],
   "source": [
    "wandb.finish()"
   ]
  },
  {
   "cell_type": "code",
   "execution_count": 233,
   "metadata": {},
   "outputs": [
    {
     "name": "stdout",
     "output_type": "stream",
     "text": [
      "Total samples in train set:  5130\n",
      "EPOCH 1: Training...\n"
     ]
    },
    {
     "name": "stderr",
     "output_type": "stream",
     "text": [
      "  0%|                                                                                                                                                                                                                                                                                                                                                                                                                                                                                                                                                                                                                                                                                                                                                 | 0/641 [00:00<?, ?it/s]/data/nasif12/home_if12/pjo/Documents/lm-eqtl/model/my_notebooks/../models/dss.py:335: UserWarning: Casting complex values to real discards the imaginary part (Triggered internally at /opt/conda/conda-bld/pytorch_1695392026823/work/aten/src/ATen/native/Copy.cpp:299.)\n",
      "  return einsum('chn,hnl->chl', W, S).float(), state                   # [C H L]\n",
      "/opt/modules/i12g/anaconda/envs/pjo_dnareg/lib/python3.11/site-packages/torch/nn/functional.py:1352: UserWarning: dropout2d: Received a 3D input to dropout2d and assuming that channel-wise 1D dropout behavior is desired - input is interpreted as shape (N, C, L), where C is the channel dim. This behavior will change in a future release to interpret the input as one without a batch dimension, i.e. shape (C, H, W). To maintain the 1D channel-wise dropout behavior, please switch to using dropout1d instead.\n",
      "  warnings.warn(\"dropout2d: Received a 3D input to dropout2d and assuming that channel-wise \"\n",
      "/opt/modules/i12g/anaconda/envs/pjo_dnareg/lib/python3.11/site-packages/torchmetrics/utilities/prints.py:43: UserWarning: The ``compute`` method of metric MaskedAccuracy was called before the ``update`` method which may lead to errors, as metric states have not yet been updated.\n",
      "  warnings.warn(*args, **kwargs)  # noqa: B028\n",
      "/opt/modules/i12g/anaconda/envs/pjo_dnareg/lib/python3.11/site-packages/torchmetrics/utilities/prints.py:43: UserWarning: The ``compute`` method of metric MeanRecall was called before the ``update`` method which may lead to errors, as metric states have not yet been updated.\n",
      "  warnings.warn(*args, **kwargs)  # noqa: B028\n",
      "/opt/modules/i12g/anaconda/envs/pjo_dnareg/lib/python3.11/site-packages/torchmetrics/utilities/prints.py:43: UserWarning: The ``compute`` method of metric IQS was called before the ``update`` method which may lead to errors, as metric states have not yet been updated.\n",
      "  warnings.warn(*args, **kwargs)  # noqa: B028\n",
      "Mem: 67.87 Mb, reg_loss: 2168.8662, masked_loss: 2.0373706817626953, total_loss: 85405.7608, acc: 0.4497, masked recall: R=0.601;A=0.594;AVG=0.597, masked acc: 0.6015, masked IQS: 0.2217:   2%|████████▏                                                                                                                                                                                                                                                                                                                                                                                                                                                                                                                                 | 10/641 [03:41<3:50:14, 21.89s/it]"
     ]
    },
    {
     "ename": "KeyboardInterrupt",
     "evalue": "",
     "output_type": "error",
     "traceback": [
      "\u001b[0;31m---------------------------------------------------------------------------\u001b[0m",
      "\u001b[0;31mKeyboardInterrupt\u001b[0m                         Traceback (most recent call last)",
      "Cell \u001b[0;32mIn[233], line 34\u001b[0m\n\u001b[1;32m     28\u001b[0m \u001b[38;5;66;03m#if input_params.masking == 'stratified_maf':\u001b[39;00m\n\u001b[1;32m     29\u001b[0m \n\u001b[1;32m     30\u001b[0m \u001b[38;5;66;03m#    meta = get_random_mask()\u001b[39;00m\n\u001b[1;32m     32\u001b[0m train_dataset\u001b[38;5;241m.\u001b[39mseq_df \u001b[38;5;241m=\u001b[39m train_df[train_df\u001b[38;5;241m.\u001b[39mtrain_fold \u001b[38;5;241m==\u001b[39m (epoch\u001b[38;5;241m-\u001b[39m\u001b[38;5;241m1\u001b[39m) \u001b[38;5;241m%\u001b[39m input_params\u001b[38;5;241m.\u001b[39mtrain_splits]\n\u001b[0;32m---> 34\u001b[0m train_metrics \u001b[38;5;241m=\u001b[39m train_reg_model(model, optimizer, train_dataloader, device,\n\u001b[1;32m     35\u001b[0m                     silent \u001b[38;5;241m=\u001b[39m \u001b[38;5;28;01mFalse\u001b[39;00m, log_wandb\u001b[38;5;241m=\u001b[39mlog_wandb)\n\u001b[1;32m     37\u001b[0m \u001b[38;5;66;03m# print(f'epoch {epoch} - train, {metrics_to_str(train_metrics)}')\u001b[39;00m\n\u001b[1;32m     39\u001b[0m \u001b[38;5;28;01mif\u001b[39;00m epoch \u001b[38;5;129;01min\u001b[39;00m input_params\u001b[38;5;241m.\u001b[39msave_at: \u001b[38;5;66;03m#save model weights\u001b[39;00m\n",
      "Cell \u001b[0;32mIn[232], line 41\u001b[0m, in \u001b[0;36mtrain_reg_model\u001b[0;34m(model, optimizer, dataloader, device, silent, log_wandb)\u001b[0m\n\u001b[1;32m     38\u001b[0m targets \u001b[38;5;241m=\u001b[39m targets\u001b[38;5;241m.\u001b[39mto(device)\n\u001b[1;32m     39\u001b[0m expr \u001b[38;5;241m=\u001b[39m expr\u001b[38;5;241m.\u001b[39mreshape(\u001b[38;5;241m-\u001b[39m\u001b[38;5;241m1\u001b[39m, \u001b[38;5;241m1\u001b[39m)\u001b[38;5;241m.\u001b[39mto(device)\n\u001b[0;32m---> 41\u001b[0m logits, _, expr_pred \u001b[38;5;241m=\u001b[39m model(masked_sequence, species_label)\n\u001b[1;32m     43\u001b[0m masked_loss \u001b[38;5;241m=\u001b[39m criterion(logits, targets_masked)\n\u001b[1;32m     44\u001b[0m expr_loss \u001b[38;5;241m=\u001b[39m reg_criterion(expr_pred, expr)\n",
      "File \u001b[0;32m/opt/modules/i12g/anaconda/envs/pjo_dnareg/lib/python3.11/site-packages/torch/nn/modules/module.py:1518\u001b[0m, in \u001b[0;36mModule._wrapped_call_impl\u001b[0;34m(self, *args, **kwargs)\u001b[0m\n\u001b[1;32m   1516\u001b[0m     \u001b[38;5;28;01mreturn\u001b[39;00m \u001b[38;5;28mself\u001b[39m\u001b[38;5;241m.\u001b[39m_compiled_call_impl(\u001b[38;5;241m*\u001b[39margs, \u001b[38;5;241m*\u001b[39m\u001b[38;5;241m*\u001b[39mkwargs)  \u001b[38;5;66;03m# type: ignore[misc]\u001b[39;00m\n\u001b[1;32m   1517\u001b[0m \u001b[38;5;28;01melse\u001b[39;00m:\n\u001b[0;32m-> 1518\u001b[0m     \u001b[38;5;28;01mreturn\u001b[39;00m \u001b[38;5;28mself\u001b[39m\u001b[38;5;241m.\u001b[39m_call_impl(\u001b[38;5;241m*\u001b[39margs, \u001b[38;5;241m*\u001b[39m\u001b[38;5;241m*\u001b[39mkwargs)\n",
      "File \u001b[0;32m/opt/modules/i12g/anaconda/envs/pjo_dnareg/lib/python3.11/site-packages/torch/nn/modules/module.py:1527\u001b[0m, in \u001b[0;36mModule._call_impl\u001b[0;34m(self, *args, **kwargs)\u001b[0m\n\u001b[1;32m   1522\u001b[0m \u001b[38;5;66;03m# If we don't have any hooks, we want to skip the rest of the logic in\u001b[39;00m\n\u001b[1;32m   1523\u001b[0m \u001b[38;5;66;03m# this function, and just call forward.\u001b[39;00m\n\u001b[1;32m   1524\u001b[0m \u001b[38;5;28;01mif\u001b[39;00m \u001b[38;5;129;01mnot\u001b[39;00m (\u001b[38;5;28mself\u001b[39m\u001b[38;5;241m.\u001b[39m_backward_hooks \u001b[38;5;129;01mor\u001b[39;00m \u001b[38;5;28mself\u001b[39m\u001b[38;5;241m.\u001b[39m_backward_pre_hooks \u001b[38;5;129;01mor\u001b[39;00m \u001b[38;5;28mself\u001b[39m\u001b[38;5;241m.\u001b[39m_forward_hooks \u001b[38;5;129;01mor\u001b[39;00m \u001b[38;5;28mself\u001b[39m\u001b[38;5;241m.\u001b[39m_forward_pre_hooks\n\u001b[1;32m   1525\u001b[0m         \u001b[38;5;129;01mor\u001b[39;00m _global_backward_pre_hooks \u001b[38;5;129;01mor\u001b[39;00m _global_backward_hooks\n\u001b[1;32m   1526\u001b[0m         \u001b[38;5;129;01mor\u001b[39;00m _global_forward_hooks \u001b[38;5;129;01mor\u001b[39;00m _global_forward_pre_hooks):\n\u001b[0;32m-> 1527\u001b[0m     \u001b[38;5;28;01mreturn\u001b[39;00m forward_call(\u001b[38;5;241m*\u001b[39margs, \u001b[38;5;241m*\u001b[39m\u001b[38;5;241m*\u001b[39mkwargs)\n\u001b[1;32m   1529\u001b[0m \u001b[38;5;28;01mtry\u001b[39;00m:\n\u001b[1;32m   1530\u001b[0m     result \u001b[38;5;241m=\u001b[39m \u001b[38;5;28;01mNone\u001b[39;00m\n",
      "File \u001b[0;32m/data/nasif12/home_if12/pjo/Documents/lm-eqtl/model/my_notebooks/../models/spec_dss.py:410\u001b[0m, in \u001b[0;36mDSSResNetExpression.forward\u001b[0;34m(self, x, xs)\u001b[0m\n\u001b[1;32m    407\u001b[0m u \u001b[38;5;241m=\u001b[39m x\n\u001b[1;32m    408\u001b[0m x \u001b[38;5;241m=\u001b[39m \u001b[38;5;28mself\u001b[39m\u001b[38;5;241m.\u001b[39mencoder(x)  \u001b[38;5;66;03m# (B, d_input, L) -> (B, d_model, L)\u001b[39;00m\n\u001b[0;32m--> 410\u001b[0m \u001b[38;5;28;01mif\u001b[39;00m \u001b[38;5;28many\u001b[39m(torch\u001b[38;5;241m.\u001b[39misnan(x)\u001b[38;5;241m.\u001b[39mflatten()):\n\u001b[1;32m    411\u001b[0m     debug_data \u001b[38;5;241m=\u001b[39m {\n\u001b[1;32m    412\u001b[0m         \u001b[38;5;124m\"\u001b[39m\u001b[38;5;124mpre_encoder\u001b[39m\u001b[38;5;124m\"\u001b[39m: u, \n\u001b[1;32m    413\u001b[0m         \u001b[38;5;124m\"\u001b[39m\u001b[38;5;124mpost_encoder\u001b[39m\u001b[38;5;124m\"\u001b[39m: x, \n\u001b[1;32m    414\u001b[0m         \u001b[38;5;124m\"\u001b[39m\u001b[38;5;124mencoder\u001b[39m\u001b[38;5;124m\"\u001b[39m: \u001b[38;5;28mself\u001b[39m\u001b[38;5;241m.\u001b[39mencoder\n\u001b[1;32m    415\u001b[0m     }\n\u001b[1;32m    416\u001b[0m     \u001b[38;5;28;01mwith\u001b[39;00m \u001b[38;5;28mopen\u001b[39m(\u001b[38;5;124m\"\u001b[39m\u001b[38;5;124mdebug.pkl\u001b[39m\u001b[38;5;124m\"\u001b[39m, \u001b[38;5;124m\"\u001b[39m\u001b[38;5;124mwb\u001b[39m\u001b[38;5;124m\"\u001b[39m) \u001b[38;5;28;01mas\u001b[39;00m f:\n",
      "\u001b[0;31mKeyboardInterrupt\u001b[0m: "
     ]
    },
    {
     "name": "stderr",
     "output_type": "stream",
     "text": [
      "Traceback (most recent call last):\n",
      "  File \"/opt/modules/i12g/anaconda/envs/pjo_dnareg/lib/python3.11/site-packages/traitlets/traitlets.py\", line 653, in get\n",
      "    value = obj._trait_values[self.name]\n",
      "            ~~~~~~~~~~~~~~~~~^^^^^^^^^^^\n",
      "KeyError: 'layout'\n",
      "\n",
      "During handling of the above exception, another exception occurred:\n",
      "\n",
      "Traceback (most recent call last):\n",
      "  File \"<frozen runpy>\", line 198, in _run_module_as_main\n",
      "  File \"<frozen runpy>\", line 88, in _run_code\n",
      "  File \"/opt/modules/i12g/anaconda/envs/pjo_dnareg/lib/python3.11/site-packages/wandb/__main__.py\", line 3, in <module>\n",
      "    cli.cli(prog_name=\"python -m wandb\")\n",
      "  File \"/opt/modules/i12g/anaconda/envs/pjo_dnareg/lib/python3.11/site-packages/click/core.py\", line 1128, in __call__\n",
      "    return self.main(*args, **kwargs)\n",
      "           ^^^^^^^^^^^^^^^^^^^^^^^^^^\n",
      "  File \"/opt/modules/i12g/anaconda/envs/pjo_dnareg/lib/python3.11/site-packages/click/core.py\", line 1053, in main\n",
      "    rv = self.invoke(ctx)\n",
      "         ^^^^^^^^^^^^^^^^\n",
      "  File \"/opt/modules/i12g/anaconda/envs/pjo_dnareg/lib/python3.11/site-packages/click/core.py\", line 1659, in invoke\n",
      "    return _process_result(sub_ctx.command.invoke(sub_ctx))\n",
      "                           ^^^^^^^^^^^^^^^^^^^^^^^^^^^^^^^\n",
      "  File \"/opt/modules/i12g/anaconda/envs/pjo_dnareg/lib/python3.11/site-packages/click/core.py\", line 1395, in invoke\n",
      "    return ctx.invoke(self.callback, **ctx.params)\n",
      "           ^^^^^^^^^^^^^^^^^^^^^^^^^^^^^^^^^^^^^^^\n",
      "  File \"/opt/modules/i12g/anaconda/envs/pjo_dnareg/lib/python3.11/site-packages/click/core.py\", line 754, in invoke\n",
      "    return __callback(*args, **kwargs)\n",
      "           ^^^^^^^^^^^^^^^^^^^^^^^^^^^\n",
      "  File \"/opt/modules/i12g/anaconda/envs/pjo_dnareg/lib/python3.11/site-packages/wandb/cli/cli.py\", line 102, in wrapper\n",
      "    return func(*args, **kwargs)\n",
      "           ^^^^^^^^^^^^^^^^^^^^^\n",
      "  File \"/opt/modules/i12g/anaconda/envs/pjo_dnareg/lib/python3.11/site-packages/wandb/cli/cli.py\", line 279, in service\n",
      "    server.serve()\n",
      "  File \"/opt/modules/i12g/anaconda/envs/pjo_dnareg/lib/python3.11/site-packages/wandb/sdk/service/server.py\", line 118, in serve\n",
      "    mux.loop()\n",
      "  File \"/opt/modules/i12g/anaconda/envs/pjo_dnareg/lib/python3.11/site-packages/wandb/sdk/service/streams.py\", line 427, in loop\n",
      "    raise e\n",
      "  File \"/opt/modules/i12g/anaconda/envs/pjo_dnareg/lib/python3.11/site-packages/wandb/sdk/service/streams.py\", line 425, in loop\n",
      "    self._loop()\n",
      "  File \"/opt/modules/i12g/anaconda/envs/pjo_dnareg/lib/python3.11/site-packages/wandb/sdk/service/streams.py\", line 418, in _loop\n",
      "    self._process_action(action)\n",
      "  File \"/opt/modules/i12g/anaconda/envs/pjo_dnareg/lib/python3.11/site-packages/wandb/sdk/service/streams.py\", line 395, in _process_action\n",
      "    self._process_teardown(action)\n",
      "  File \"/opt/modules/i12g/anaconda/envs/pjo_dnareg/lib/python3.11/site-packages/wandb/sdk/service/streams.py\", line 373, in _process_teardown\n",
      "    self._finish_all(streams_copy, exit_code)\n",
      "  File \"/opt/modules/i12g/anaconda/envs/pjo_dnareg/lib/python3.11/site-packages/wandb/sdk/service/streams.py\", line 284, in _finish_all\n",
      "    printer = get_printer(\n",
      "              ^^^^^^^^^^^^\n",
      "  File \"/opt/modules/i12g/anaconda/envs/pjo_dnareg/lib/python3.11/site-packages/wandb/sdk/lib/printer.py\", line 311, in get_printer\n",
      "    return PrinterJupyter()\n",
      "           ^^^^^^^^^^^^^^^^\n",
      "  File \"/opt/modules/i12g/anaconda/envs/pjo_dnareg/lib/python3.11/site-packages/wandb/sdk/lib/printer.py\", line 230, in __init__\n",
      "    self._progress = ipython.jupyter_progress_bar()\n",
      "                     ^^^^^^^^^^^^^^^^^^^^^^^^^^^^^^\n",
      "  File \"/opt/modules/i12g/anaconda/envs/pjo_dnareg/lib/python3.11/site-packages/wandb/sdk/lib/ipython.py\", line 144, in jupyter_progress_bar\n",
      "    return ProgressWidget(widgets, min=min, max=max)\n",
      "           ^^^^^^^^^^^^^^^^^^^^^^^^^^^^^^^^^^^^^^^^^\n",
      "  File \"/opt/modules/i12g/anaconda/envs/pjo_dnareg/lib/python3.11/site-packages/wandb/sdk/lib/ipython.py\", line 103, in __init__\n",
      "    self._progress = widgets.FloatProgress(min=min, max=max)\n",
      "                     ^^^^^^^^^^^^^^^^^^^^^^^^^^^^^^^^^^^^^^^\n",
      "  File \"/opt/modules/i12g/anaconda/envs/pjo_dnareg/lib/python3.11/site-packages/ipywidgets/widgets/widget_float.py\", line 26, in __init__\n",
      "    super().__init__(**kwargs)\n",
      "  File \"/opt/modules/i12g/anaconda/envs/pjo_dnareg/lib/python3.11/site-packages/ipywidgets/widgets/widget_description.py\", line 35, in __init__\n",
      "    super().__init__(*args, **kwargs)\n",
      "  File \"/opt/modules/i12g/anaconda/envs/pjo_dnareg/lib/python3.11/site-packages/ipywidgets/widgets/widget.py\", line 504, in __init__\n",
      "    self.open()\n",
      "  File \"/opt/modules/i12g/anaconda/envs/pjo_dnareg/lib/python3.11/site-packages/ipywidgets/widgets/widget.py\", line 517, in open\n",
      "    state, buffer_paths, buffers = _remove_buffers(self.get_state())\n",
      "                                                   ^^^^^^^^^^^^^^^^\n",
      "  File \"/opt/modules/i12g/anaconda/envs/pjo_dnareg/lib/python3.11/site-packages/ipywidgets/widgets/widget.py\", line 615, in get_state\n",
      "    value = to_json(getattr(self, k), self)\n",
      "                    ^^^^^^^^^^^^^^^^\n",
      "  File \"/opt/modules/i12g/anaconda/envs/pjo_dnareg/lib/python3.11/site-packages/traitlets/traitlets.py\", line 700, in __get__\n",
      "    return self.get(obj, cls)\n",
      "           ^^^^^^^^^^^^^^^^^^\n",
      "  File \"/opt/modules/i12g/anaconda/envs/pjo_dnareg/lib/python3.11/site-packages/traitlets/traitlets.py\", line 656, in get\n",
      "    default = obj.trait_defaults(self.name)\n",
      "              ^^^^^^^^^^^^^^^^^^^^^^^^^^^^^\n",
      "  File \"/opt/modules/i12g/anaconda/envs/pjo_dnareg/lib/python3.11/site-packages/traitlets/traitlets.py\", line 1868, in trait_defaults\n",
      "    return self._get_trait_default_generator(names[0])(self)\n",
      "           ^^^^^^^^^^^^^^^^^^^^^^^^^^^^^^^^^^^^^^^^^^^^^^^^^\n",
      "  File \"/opt/modules/i12g/anaconda/envs/pjo_dnareg/lib/python3.11/site-packages/traitlets/traitlets.py\", line 624, in default\n",
      "    return self.make_dynamic_default()\n",
      "           ^^^^^^^^^^^^^^^^^^^^^^^^^^^\n",
      "  File \"/opt/modules/i12g/anaconda/envs/pjo_dnareg/lib/python3.11/site-packages/ipywidgets/widgets/trait_types.py\", line 365, in make_dynamic_default\n",
      "    return self.klass(*(self.default_args or ()),\n",
      "           ^^^^^^^^^^^^^^^^^^^^^^^^^^^^^^^^^^^^^^\n",
      "  File \"/opt/modules/i12g/anaconda/envs/pjo_dnareg/lib/python3.11/site-packages/ipywidgets/widgets/widget_layout.py\", line 86, in __init__\n",
      "    super().__init__(**kwargs)\n",
      "  File \"/opt/modules/i12g/anaconda/envs/pjo_dnareg/lib/python3.11/site-packages/ipywidgets/widgets/widget.py\", line 504, in __init__\n",
      "    self.open()\n",
      "  File \"/opt/modules/i12g/anaconda/envs/pjo_dnareg/lib/python3.11/site-packages/ipywidgets/widgets/widget.py\", line 535, in open\n",
      "    self.comm = create_comm(**args)\n",
      "                ^^^^^^^^^^^^^^^^^^^\n",
      "  File \"/opt/modules/i12g/anaconda/envs/pjo_dnareg/lib/python3.11/site-packages/comm/__init__.py\", line 27, in _create_comm\n",
      "    raise NotImplementedError(\"Cannot \")\n",
      "NotImplementedError: Cannot \n"
     ]
    }
   ],
   "source": [
    "from helpers import misc\n",
    "import wandb\n",
    "\n",
    "from IPython.display import clear_output\n",
    "last_epoch = 0\n",
    "\n",
    "log_wandb = True\n",
    "\n",
    "clear_output()\n",
    "\n",
    "with open(\"train_dataloader.pkl\", \"wb\") as f:\n",
    "    pickle.dump(train_dataloader, f)\n",
    "with open(\"test_dataloader.pkl\", \"wb\") as f:\n",
    "    pickle.dump(test_dataloader, f)\n",
    "\n",
    "#from helpers.misc import print    #print function that displays time\n",
    "if log_wandb:\n",
    "    wandb.init(input_params.wandb_proj, input_params.run_name, id=input_params.run_name) # seq_len, batch_size, geno or haplo, loss (full = reg + masked)\n",
    "    wandb.watch(model, log_freq=100)\n",
    "\n",
    "if not input_params.test:\n",
    "\n",
    "    print(\"Total samples in train set: \", len(train_df))\n",
    "\n",
    "    for epoch in range(last_epoch+1, input_params.tot_epochs+1):\n",
    "\n",
    "        print(f'EPOCH {epoch}: Training...')\n",
    "\n",
    "        #if input_params.masking == 'stratified_maf':\n",
    "\n",
    "        #    meta = get_random_mask()\n",
    "\n",
    "        train_dataset.seq_df = train_df[train_df.train_fold == (epoch-1) % input_params.train_splits]\n",
    "\n",
    "        train_metrics = train_reg_model(model, optimizer, train_dataloader, device,\n",
    "                            silent = False, log_wandb=log_wandb)\n",
    "            \n",
    "        # print(f'epoch {epoch} - train, {metrics_to_str(train_metrics)}')\n",
    "\n",
    "        if epoch in input_params.save_at: #save model weights\n",
    "\n",
    "            misc.save_model_weights(model, optimizer, weights_dir, epoch)\n",
    "\n",
    "        # if test_df is not None  and ( epoch==input_params.tot_epochs or\n",
    "        #                     (input_params.validate_every and epoch%input_params.validate_every==0)):\n",
    "\n",
    "        #     print(f'EPOCH {epoch}: Validating...')\n",
    "\n",
    "        #     val_metrics, *_ =  train_eval.model_eval(model, optimizer, test_dataloader, device,\n",
    "        #             silent = False)\n",
    "\n",
    "        #     print(f'epoch {epoch} - validation, {metrics_to_str(val_metrics)}')\n",
    "            \n",
    "        #lr_scheduler.step()\n",
    "else:\n",
    "\n",
    "    print(f'EPOCH {last_epoch}: Test/Inference...')\n",
    "\n",
    "    test_metrics, test_embeddings, motif_probas =  train_eval.model_eval(model, test_dataloader, device, \n",
    "                                                          get_embeddings = input_params.get_embeddings, diploid=input_params.diploid,\n",
    "                                                          silent = False)\n",
    "    \n",
    "    \n",
    "\n",
    "    print(f'epoch {last_epoch} - test, {metrics_to_str(test_metrics)}')\n",
    "\n",
    "    if input_params.get_embeddings:\n",
    "        \n",
    "        os.makedirs(input_params.output_dir, exist_ok = True)\n",
    "\n",
    "        with open(input_params.output_dir + '/embeddings.pickle', 'wb') as f:\n",
    "            #test_embeddings = np.vstack(test_embeddings)\n",
    "            #np.save(f,test_embeddings)\n",
    "            pickle.dump(test_embeddings,f)\n",
    "            #pickle.dump(seq_df.seq_name.tolist(),f)\n",
    "            \n",
    "print()\n",
    "print(f'peak GPU memory allocation: {round(torch.cuda.max_memory_allocated(device)/1024/1024)} Mb')\n",
    "print('Done')"
   ]
  },
  {
   "cell_type": "code",
   "execution_count": null,
   "metadata": {},
   "outputs": [],
   "source": [
    "torch.functional.F.embedding()"
   ]
  },
  {
   "cell_type": "code",
   "execution_count": 113,
   "metadata": {},
   "outputs": [],
   "source": [
    "test_batch = next(iter(train_dataloader))"
   ]
  },
  {
   "cell_type": "code",
   "execution_count": 217,
   "metadata": {},
   "outputs": [
    {
     "data": {
      "text/plain": [
       "tensor([7., 6., 6., 0., 9., 9., 2., 2.])"
      ]
     },
     "execution_count": 217,
     "metadata": {},
     "output_type": "execute_result"
    }
   ],
   "source": [
    "(masked_sequence, species_label, expr), targets_masked, targets, _ = check_batch\n",
    "species_label"
   ]
  },
  {
   "cell_type": "code",
   "execution_count": 1,
   "metadata": {},
   "outputs": [
    {
     "ename": "NameError",
     "evalue": "name 'print_gpu_mb' is not defined",
     "output_type": "error",
     "traceback": [
      "\u001b[0;31m---------------------------------------------------------------------------\u001b[0m",
      "\u001b[0;31mNameError\u001b[0m                                 Traceback (most recent call last)",
      "Cell \u001b[0;32mIn[1], line 1\u001b[0m\n\u001b[0;32m----> 1\u001b[0m print_gpu_mb()\n",
      "\u001b[0;31mNameError\u001b[0m: name 'print_gpu_mb' is not defined"
     ]
    }
   ],
   "source": [
    "print_gpu_mb()\n"
   ]
  },
  {
   "cell_type": "code",
   "execution_count": 48,
   "metadata": {},
   "outputs": [
    {
     "data": {
      "text/plain": [
       "'22219.69 Mb (91.59%)'"
      ]
     },
     "execution_count": 48,
     "metadata": {},
     "output_type": "execute_result"
    }
   ],
   "source": [
    "print_gpu_mb()"
   ]
  },
  {
   "cell_type": "code",
   "execution_count": 40,
   "metadata": {},
   "outputs": [
    {
     "ename": "ValueError",
     "evalue": "Expected a cuda device, but got: cpu",
     "output_type": "error",
     "traceback": [
      "\u001b[0;31m---------------------------------------------------------------------------\u001b[0m",
      "\u001b[0;31mValueError\u001b[0m                                Traceback (most recent call last)",
      "Cell \u001b[0;32mIn[40], line 1\u001b[0m\n\u001b[0;32m----> 1\u001b[0m torch\u001b[38;5;241m.\u001b[39mcuda\u001b[38;5;241m.\u001b[39mmemory_stats(device\u001b[38;5;241m=\u001b[39m\u001b[38;5;124m\"\u001b[39m\u001b[38;5;124mcpu\u001b[39m\u001b[38;5;124m\"\u001b[39m)\n",
      "File \u001b[0;32m/opt/modules/i12g/anaconda/envs/pjo_dnareg/lib/python3.11/site-packages/torch/cuda/memory.py:256\u001b[0m, in \u001b[0;36mmemory_stats\u001b[0;34m(device)\u001b[0m\n\u001b[1;32m    253\u001b[0m     \u001b[38;5;28;01melse\u001b[39;00m:\n\u001b[1;32m    254\u001b[0m         result\u001b[38;5;241m.\u001b[39mappend((prefix, obj))\n\u001b[0;32m--> 256\u001b[0m stats \u001b[38;5;241m=\u001b[39m memory_stats_as_nested_dict(device\u001b[38;5;241m=\u001b[39mdevice)\n\u001b[1;32m    257\u001b[0m _recurse_add_to_result(\u001b[38;5;124m\"\u001b[39m\u001b[38;5;124m\"\u001b[39m, stats)\n\u001b[1;32m    258\u001b[0m result\u001b[38;5;241m.\u001b[39msort()\n",
      "File \u001b[0;32m/opt/modules/i12g/anaconda/envs/pjo_dnareg/lib/python3.11/site-packages/torch/cuda/memory.py:267\u001b[0m, in \u001b[0;36mmemory_stats_as_nested_dict\u001b[0;34m(device)\u001b[0m\n\u001b[1;32m    265\u001b[0m \u001b[38;5;28;01mif\u001b[39;00m \u001b[38;5;129;01mnot\u001b[39;00m is_initialized():\n\u001b[1;32m    266\u001b[0m     \u001b[38;5;28;01mreturn\u001b[39;00m {}\n\u001b[0;32m--> 267\u001b[0m device \u001b[38;5;241m=\u001b[39m _get_device_index(device, optional\u001b[38;5;241m=\u001b[39m\u001b[38;5;28;01mTrue\u001b[39;00m)\n\u001b[1;32m    268\u001b[0m \u001b[38;5;28;01mreturn\u001b[39;00m torch\u001b[38;5;241m.\u001b[39m_C\u001b[38;5;241m.\u001b[39m_cuda_memoryStats(device)\n",
      "File \u001b[0;32m/opt/modules/i12g/anaconda/envs/pjo_dnareg/lib/python3.11/site-packages/torch/cuda/_utils.py:35\u001b[0m, in \u001b[0;36m_get_device_index\u001b[0;34m(device, optional, allow_cpu)\u001b[0m\n\u001b[1;32m     33\u001b[0m             \u001b[38;5;28;01mraise\u001b[39;00m \u001b[38;5;167;01mValueError\u001b[39;00m(\u001b[38;5;124mf\u001b[39m\u001b[38;5;124m\"\u001b[39m\u001b[38;5;124mExpected a cuda or cpu device, but got: \u001b[39m\u001b[38;5;132;01m{\u001b[39;00mdevice\u001b[38;5;132;01m}\u001b[39;00m\u001b[38;5;124m\"\u001b[39m)\n\u001b[1;32m     34\u001b[0m     \u001b[38;5;28;01melif\u001b[39;00m device\u001b[38;5;241m.\u001b[39mtype \u001b[38;5;241m!=\u001b[39m \u001b[38;5;124m\"\u001b[39m\u001b[38;5;124mcuda\u001b[39m\u001b[38;5;124m\"\u001b[39m:\n\u001b[0;32m---> 35\u001b[0m         \u001b[38;5;28;01mraise\u001b[39;00m \u001b[38;5;167;01mValueError\u001b[39;00m(\u001b[38;5;124mf\u001b[39m\u001b[38;5;124m\"\u001b[39m\u001b[38;5;124mExpected a cuda device, but got: \u001b[39m\u001b[38;5;132;01m{\u001b[39;00mdevice\u001b[38;5;132;01m}\u001b[39;00m\u001b[38;5;124m\"\u001b[39m)\n\u001b[1;32m     36\u001b[0m \u001b[38;5;28;01mif\u001b[39;00m \u001b[38;5;129;01mnot\u001b[39;00m torch\u001b[38;5;241m.\u001b[39mjit\u001b[38;5;241m.\u001b[39mis_scripting():\n\u001b[1;32m     37\u001b[0m     \u001b[38;5;28;01mif\u001b[39;00m \u001b[38;5;28misinstance\u001b[39m(device, torch\u001b[38;5;241m.\u001b[39mcuda\u001b[38;5;241m.\u001b[39mdevice):\n",
      "\u001b[0;31mValueError\u001b[0m: Expected a cuda device, but got: cpu"
     ]
    }
   ],
   "source": [
    "torch.cuda.memory_stats(device=\"cpu\")"
   ]
  },
  {
   "cell_type": "code",
   "execution_count": 37,
   "metadata": {},
   "outputs": [
    {
     "data": {
      "text/plain": [
       "1708.0"
      ]
     },
     "execution_count": 37,
     "metadata": {},
     "output_type": "execute_result"
    }
   ],
   "source": [
    "torch.cuda.memory_reserved()/1024/1024"
   ]
  },
  {
   "cell_type": "code",
   "execution_count": 35,
   "metadata": {},
   "outputs": [
    {
     "data": {
      "text/plain": [
       "(23299031040, 25438126080)"
      ]
     },
     "execution_count": 35,
     "metadata": {},
     "output_type": "execute_result"
    }
   ],
   "source": [
    "torch.cuda.mem_get_info()"
   ]
  },
  {
   "cell_type": "code",
   "execution_count": 66,
   "metadata": {},
   "outputs": [],
   "source": [
    "with open(\"debug.pkl\", \"rb\") as f: \n",
    "    debug_data = pickle.load(f)\n",
    "    pre_encoder = debug_data[\"pre_encoder\"]\n",
    "    post_encoder = debug_data[\"post_encoder\"]\n",
    "    encoder = debug_data[\"encoder\"]\n",
    "\n",
    "with open(\"debug_x.pkl\", \"rb\") as f: \n",
    "    test_x = pickle.load(f)"
   ]
  },
  {
   "cell_type": "code",
   "execution_count": 62,
   "metadata": {},
   "outputs": [],
   "source": [
    "random_x = torch.Tensor(np.random.randint(0, 2, size=pre_encoder.shape))\n"
   ]
  },
  {
   "cell_type": "code",
   "execution_count": 63,
   "metadata": {},
   "outputs": [
    {
     "data": {
      "text/plain": [
       "torch.Size([8, 3, 500])"
      ]
     },
     "execution_count": 63,
     "metadata": {},
     "output_type": "execute_result"
    }
   ],
   "source": [
    "random_x.shape"
   ]
  },
  {
   "cell_type": "code",
   "execution_count": 67,
   "metadata": {},
   "outputs": [
    {
     "data": {
      "text/plain": [
       "tensor([[[nan, nan, nan,  ..., nan, nan, nan],\n",
       "         [nan, nan, nan,  ..., nan, nan, nan],\n",
       "         [nan, nan, nan,  ..., nan, nan, nan],\n",
       "         ...,\n",
       "         [nan, nan, nan,  ..., nan, nan, nan],\n",
       "         [nan, nan, nan,  ..., nan, nan, nan],\n",
       "         [nan, nan, nan,  ..., nan, nan, nan]],\n",
       "\n",
       "        [[nan, nan, nan,  ..., nan, nan, nan],\n",
       "         [nan, nan, nan,  ..., nan, nan, nan],\n",
       "         [nan, nan, nan,  ..., nan, nan, nan],\n",
       "         ...,\n",
       "         [nan, nan, nan,  ..., nan, nan, nan],\n",
       "         [nan, nan, nan,  ..., nan, nan, nan],\n",
       "         [nan, nan, nan,  ..., nan, nan, nan]],\n",
       "\n",
       "        [[nan, nan, nan,  ..., nan, nan, nan],\n",
       "         [nan, nan, nan,  ..., nan, nan, nan],\n",
       "         [nan, nan, nan,  ..., nan, nan, nan],\n",
       "         ...,\n",
       "         [nan, nan, nan,  ..., nan, nan, nan],\n",
       "         [nan, nan, nan,  ..., nan, nan, nan],\n",
       "         [nan, nan, nan,  ..., nan, nan, nan]],\n",
       "\n",
       "        ...,\n",
       "\n",
       "        [[nan, nan, nan,  ..., nan, nan, nan],\n",
       "         [nan, nan, nan,  ..., nan, nan, nan],\n",
       "         [nan, nan, nan,  ..., nan, nan, nan],\n",
       "         ...,\n",
       "         [nan, nan, nan,  ..., nan, nan, nan],\n",
       "         [nan, nan, nan,  ..., nan, nan, nan],\n",
       "         [nan, nan, nan,  ..., nan, nan, nan]],\n",
       "\n",
       "        [[nan, nan, nan,  ..., nan, nan, nan],\n",
       "         [nan, nan, nan,  ..., nan, nan, nan],\n",
       "         [nan, nan, nan,  ..., nan, nan, nan],\n",
       "         ...,\n",
       "         [nan, nan, nan,  ..., nan, nan, nan],\n",
       "         [nan, nan, nan,  ..., nan, nan, nan],\n",
       "         [nan, nan, nan,  ..., nan, nan, nan]],\n",
       "\n",
       "        [[nan, nan, nan,  ..., nan, nan, nan],\n",
       "         [nan, nan, nan,  ..., nan, nan, nan],\n",
       "         [nan, nan, nan,  ..., nan, nan, nan],\n",
       "         ...,\n",
       "         [nan, nan, nan,  ..., nan, nan, nan],\n",
       "         [nan, nan, nan,  ..., nan, nan, nan],\n",
       "         [nan, nan, nan,  ..., nan, nan, nan]]],\n",
       "       grad_fn=<ConvolutionBackward0>)"
      ]
     },
     "execution_count": 67,
     "metadata": {},
     "output_type": "execute_result"
    }
   ],
   "source": [
    "encoder(test_x)"
   ]
  },
  {
   "cell_type": "code",
   "execution_count": 69,
   "metadata": {},
   "outputs": [
    {
     "data": {
      "text/plain": [
       "Parameter containing:\n",
       "tensor([[[nan, nan, nan,  ..., nan, nan, nan],\n",
       "         [nan, nan, nan,  ..., nan, nan, nan],\n",
       "         [nan, nan, nan,  ..., nan, nan, nan]],\n",
       "\n",
       "        [[nan, nan, nan,  ..., nan, nan, nan],\n",
       "         [nan, nan, nan,  ..., nan, nan, nan],\n",
       "         [nan, nan, nan,  ..., nan, nan, nan]],\n",
       "\n",
       "        [[nan, nan, nan,  ..., nan, nan, nan],\n",
       "         [nan, nan, nan,  ..., nan, nan, nan],\n",
       "         [nan, nan, nan,  ..., nan, nan, nan]],\n",
       "\n",
       "        ...,\n",
       "\n",
       "        [[nan, nan, nan,  ..., nan, nan, nan],\n",
       "         [nan, nan, nan,  ..., nan, nan, nan],\n",
       "         [nan, nan, nan,  ..., nan, nan, nan]],\n",
       "\n",
       "        [[nan, nan, nan,  ..., nan, nan, nan],\n",
       "         [nan, nan, nan,  ..., nan, nan, nan],\n",
       "         [nan, nan, nan,  ..., nan, nan, nan]],\n",
       "\n",
       "        [[nan, nan, nan,  ..., nan, nan, nan],\n",
       "         [nan, nan, nan,  ..., nan, nan, nan],\n",
       "         [nan, nan, nan,  ..., nan, nan, nan]]], requires_grad=True)"
      ]
     },
     "execution_count": 69,
     "metadata": {},
     "output_type": "execute_result"
    }
   ],
   "source": [
    "encoder"
   ]
  },
  {
   "cell_type": "code",
   "execution_count": 9,
   "metadata": {},
   "outputs": [],
   "source": [
    "from torch.functional import F"
   ]
  },
  {
   "cell_type": "code",
   "execution_count": 22,
   "metadata": {},
   "outputs": [
    {
     "data": {
      "text/plain": [
       "torch.Size([16, 256, 510])"
      ]
     },
     "execution_count": 22,
     "metadata": {},
     "output_type": "execute_result"
    }
   ],
   "source": [
    "weights = torch.randn(256, 3, 5)\n",
    "F.conv1d(debug_x, weights, padding=int((15-1)/2)).shape"
   ]
  },
  {
   "cell_type": "code",
   "execution_count": 24,
   "metadata": {},
   "outputs": [],
   "source": [
    "\n",
    "conv = nn.Conv1d(in_channels=3,out_channels=256,padding=int((15-1)/2),kernel_size=15,bias=True)"
   ]
  },
  {
   "cell_type": "code",
   "execution_count": 21,
   "metadata": {},
   "outputs": [
    {
     "data": {
      "text/plain": [
       "torch.Size([256, 16, 5])"
      ]
     },
     "execution_count": 21,
     "metadata": {},
     "output_type": "execute_result"
    }
   ],
   "source": [
    "torch.randn(256, 16, 5).shape"
   ]
  },
  {
   "cell_type": "code",
   "execution_count": 27,
   "metadata": {},
   "outputs": [
    {
     "data": {
      "text/plain": [
       "tensor([[[-0.2720, -0.0660,  0.0992,  ...,  0.0964,  0.0253,  0.0646],\n",
       "         [-0.2971, -0.0209, -0.0725,  ..., -0.3556, -0.1917,  0.2895],\n",
       "         [ 0.0270,  0.4130,  0.6566,  ..., -0.1245,  0.0718, -0.0956],\n",
       "         ...,\n",
       "         [-0.3847, -0.7098, -0.5146,  ...,  0.3219, -0.2450, -0.2260],\n",
       "         [ 0.2712,  0.2367,  0.0239,  ...,  0.1905,  0.0729, -0.2356],\n",
       "         [-0.0473,  0.0387, -0.3265,  ..., -0.0301,  0.1991, -0.1900]],\n",
       "\n",
       "        [[-0.2720, -0.0660,  0.0992,  ...,  0.0964,  0.0253,  0.0646],\n",
       "         [-0.2971, -0.0209, -0.0725,  ..., -0.3556, -0.1917,  0.2895],\n",
       "         [ 0.0270,  0.4130,  0.6566,  ..., -0.1245,  0.0718, -0.0956],\n",
       "         ...,\n",
       "         [-0.3847, -0.7098, -0.5146,  ...,  0.3219, -0.2450, -0.2260],\n",
       "         [ 0.2712,  0.2367,  0.0239,  ...,  0.1905,  0.0729, -0.2356],\n",
       "         [-0.0473,  0.0387, -0.3265,  ..., -0.0301,  0.1991, -0.1900]],\n",
       "\n",
       "        [[-0.0770, -0.0696,  0.0272,  ..., -0.0732,  0.0342,  0.0115],\n",
       "         [-0.0332, -0.0268,  0.0296,  ...,  0.1164,  0.2258,  0.0837],\n",
       "         [ 0.2843,  0.3851,  0.5190,  ...,  0.2557,  0.1937,  0.2098],\n",
       "         ...,\n",
       "         [-0.7056, -0.6258, -0.7510,  ..., -0.2571, -0.1684, -0.1131],\n",
       "         [ 0.3735,  0.3892,  0.3428,  ...,  0.5085,  0.4613,  0.3658],\n",
       "         [-0.2769, -0.2281, -0.2454,  ...,  0.0971, -0.0018,  0.1128]],\n",
       "\n",
       "        ...,\n",
       "\n",
       "        [[-0.0770, -0.0696,  0.0272,  ...,  0.0678, -0.1080,  0.1695],\n",
       "         [-0.0332, -0.0268,  0.0296,  ..., -0.2782,  0.1319,  0.1360],\n",
       "         [ 0.2843,  0.3851,  0.5190,  ...,  0.1634, -0.2471,  0.3218],\n",
       "         ...,\n",
       "         [-0.7056, -0.6258, -0.7510,  ..., -0.1875, -0.0209, -0.4050],\n",
       "         [ 0.3735,  0.3892,  0.3428,  ...,  0.1570,  0.1476, -0.2318],\n",
       "         [-0.2769, -0.2281, -0.2454,  ...,  0.3326, -0.0561, -0.0086]],\n",
       "\n",
       "        [[-0.0581, -0.0219, -0.1155,  ..., -0.1003,  0.1641,  0.2216],\n",
       "         [-0.2413,  0.0985, -0.1246,  ...,  0.1467,  0.0095,  0.3346],\n",
       "         [ 0.0405,  0.1341,  0.5685,  ...,  0.3568,  0.2781,  0.1240],\n",
       "         ...,\n",
       "         [-0.3630, -0.6632, -0.6542,  ..., -0.0709, -0.2139, -0.1129],\n",
       "         [ 0.2486,  0.3856,  0.2302,  ...,  0.3293,  0.1644,  0.1701],\n",
       "         [-0.2115, -0.0681, -0.3861,  ...,  0.1423, -0.0449, -0.1348]],\n",
       "\n",
       "        [[-0.0770, -0.0696,  0.0272,  ...,  0.0678, -0.1080,  0.1695],\n",
       "         [-0.0332, -0.0268,  0.0296,  ..., -0.2782,  0.1319,  0.1360],\n",
       "         [ 0.2843,  0.3851,  0.5190,  ...,  0.1634, -0.2471,  0.3218],\n",
       "         ...,\n",
       "         [-0.7056, -0.6258, -0.7510,  ..., -0.1875, -0.0209, -0.4050],\n",
       "         [ 0.3735,  0.3892,  0.3428,  ...,  0.1570,  0.1476, -0.2318],\n",
       "         [-0.2769, -0.2281, -0.2454,  ...,  0.3326, -0.0561, -0.0086]]],\n",
       "       grad_fn=<ConvolutionBackward0>)"
      ]
     },
     "execution_count": 27,
     "metadata": {},
     "output_type": "execute_result"
    }
   ],
   "source": [
    "conv(debug_x)"
   ]
  },
  {
   "cell_type": "code",
   "execution_count": null,
   "metadata": {},
   "outputs": [
    {
     "name": "stdout",
     "output_type": "stream",
     "text": [
      "With loaded model weights:\n",
      "Using GPU...\n"
     ]
    },
    {
     "ename": "RuntimeError",
     "evalue": "Error(s) in loading state_dict for DSSResNetExpression:\n\tMissing key(s) in state_dict: \"regression_head.0.weight\", \"regression_head.0.bias\", \"regression_head.2.weight\", \"regression_head.2.bias\", \"regression_head.4.weight\", \"regression_head.4.bias\". ",
     "output_type": "error",
     "traceback": [
      "\u001b[0;31m---------------------------------------------------------------------------\u001b[0m\n",
      "\u001b[0;31mRuntimeError\u001b[0m                              Traceback (most recent call last)\n",
      "Cell \u001b[0;32mIn[31], line 9\u001b[0m\n",
      "\u001b[1;32m      7\u001b[0m \u001b[38;5;28mprint\u001b[39m(\u001b[38;5;124m\"\u001b[39m\u001b[38;5;124mUsing GPU...\u001b[39m\u001b[38;5;124m\"\u001b[39m)\n",
      "\u001b[1;32m      8\u001b[0m \u001b[38;5;66;03m#load on gpu\u001b[39;00m\n",
      "\u001b[0;32m----> 9\u001b[0m \u001b[43mmodel\u001b[49m\u001b[38;5;241;43m.\u001b[39;49m\u001b[43mload_state_dict\u001b[49m\u001b[43m(\u001b[49m\u001b[43mtorch\u001b[49m\u001b[38;5;241;43m.\u001b[39;49m\u001b[43mload\u001b[49m\u001b[43m(\u001b[49m\u001b[43minput_params\u001b[49m\u001b[38;5;241;43m.\u001b[39;49m\u001b[43mmodel_weight\u001b[49m\u001b[43m)\u001b[49m\u001b[43m)\u001b[49m\n",
      "\u001b[1;32m     10\u001b[0m \u001b[38;5;28;01mif\u001b[39;00m input_params\u001b[38;5;241m.\u001b[39moptimizer_weight:\n",
      "\u001b[1;32m     11\u001b[0m     optimizer\u001b[38;5;241m.\u001b[39mload_state_dict(torch\u001b[38;5;241m.\u001b[39mload(input_params\u001b[38;5;241m.\u001b[39moptimizer_weight))\n",
      "\n",
      "File \u001b[0;32m~/miniconda3/envs/sysgen_proj/lib/python3.11/site-packages/torch/nn/modules/module.py:2152\u001b[0m, in \u001b[0;36mModule.load_state_dict\u001b[0;34m(self, state_dict, strict, assign)\u001b[0m\n",
      "\u001b[1;32m   2147\u001b[0m         error_msgs\u001b[38;5;241m.\u001b[39minsert(\n",
      "\u001b[1;32m   2148\u001b[0m             \u001b[38;5;241m0\u001b[39m, \u001b[38;5;124m'\u001b[39m\u001b[38;5;124mMissing key(s) in state_dict: \u001b[39m\u001b[38;5;132;01m{}\u001b[39;00m\u001b[38;5;124m. \u001b[39m\u001b[38;5;124m'\u001b[39m\u001b[38;5;241m.\u001b[39mformat(\n",
      "\u001b[1;32m   2149\u001b[0m                 \u001b[38;5;124m'\u001b[39m\u001b[38;5;124m, \u001b[39m\u001b[38;5;124m'\u001b[39m\u001b[38;5;241m.\u001b[39mjoin(\u001b[38;5;124mf\u001b[39m\u001b[38;5;124m'\u001b[39m\u001b[38;5;124m\"\u001b[39m\u001b[38;5;132;01m{\u001b[39;00mk\u001b[38;5;132;01m}\u001b[39;00m\u001b[38;5;124m\"\u001b[39m\u001b[38;5;124m'\u001b[39m \u001b[38;5;28;01mfor\u001b[39;00m k \u001b[38;5;129;01min\u001b[39;00m missing_keys)))\n",
      "\u001b[1;32m   2151\u001b[0m \u001b[38;5;28;01mif\u001b[39;00m \u001b[38;5;28mlen\u001b[39m(error_msgs) \u001b[38;5;241m>\u001b[39m \u001b[38;5;241m0\u001b[39m:\n",
      "\u001b[0;32m-> 2152\u001b[0m     \u001b[38;5;28;01mraise\u001b[39;00m \u001b[38;5;167;01mRuntimeError\u001b[39;00m(\u001b[38;5;124m'\u001b[39m\u001b[38;5;124mError(s) in loading state_dict for \u001b[39m\u001b[38;5;132;01m{}\u001b[39;00m\u001b[38;5;124m:\u001b[39m\u001b[38;5;130;01m\\n\u001b[39;00m\u001b[38;5;130;01m\\t\u001b[39;00m\u001b[38;5;132;01m{}\u001b[39;00m\u001b[38;5;124m'\u001b[39m\u001b[38;5;241m.\u001b[39mformat(\n",
      "\u001b[1;32m   2153\u001b[0m                        \u001b[38;5;28mself\u001b[39m\u001b[38;5;241m.\u001b[39m\u001b[38;5;18m__class__\u001b[39m\u001b[38;5;241m.\u001b[39m\u001b[38;5;18m__name__\u001b[39m, \u001b[38;5;124m\"\u001b[39m\u001b[38;5;130;01m\\n\u001b[39;00m\u001b[38;5;130;01m\\t\u001b[39;00m\u001b[38;5;124m\"\u001b[39m\u001b[38;5;241m.\u001b[39mjoin(error_msgs)))\n",
      "\u001b[1;32m   2154\u001b[0m \u001b[38;5;28;01mreturn\u001b[39;00m _IncompatibleKeys(missing_keys, unexpected_keys)\n",
      "\n",
      "\u001b[0;31mRuntimeError\u001b[0m: Error(s) in loading state_dict for DSSResNetExpression:\n",
      "\tMissing key(s) in state_dict: \"regression_head.0.weight\", \"regression_head.0.bias\", \"regression_head.2.weight\", \"regression_head.2.bias\", \"regression_head.4.weight\", \"regression_head.4.bias\". "
     ]
    }
   ],
   "source": [
    "last_epoch = 0\n",
    "\n",
    "if input_params.model_weight:\n",
    "    print(\"With loaded model weights:\")\n",
    "\n",
    "    if torch.cuda.is_available():\n",
    "        print(\"Using GPU...\")\n",
    "        #load on gpu\n",
    "        model.load_state_dict(torch.load(input_params.model_weight))\n",
    "        if input_params.optimizer_weight:\n",
    "            optimizer.load_state_dict(torch.load(input_params.optimizer_weight))\n",
    "    else:\n",
    "        #load on cpu\n",
    "        model.load_state_dict(torch.load(input_params.model_weight, map_location=torch.device('cpu')))\n",
    "        if input_params.optimizer_weight:\n",
    "            optimizer.load_state_dict(torch.load(input_params.optimizer_weight, map_location=torch.device('cpu')))\n",
    "\n",
    "    last_epoch = int(input_params.model_weight.split('_')[-3]) #infer previous epoch from input_params.model_weight\n",
    "\n",
    "weights_dir = os.path.join(input_params.output_dir, 'weights') #dir to save model weights at save_at epochs\n",
    "\n",
    "if input_params.save_at:\n",
    "    os.makedirs(weights_dir, exist_ok = True)\n",
    "\n",
    "#lr_scheduler = torch.optim.lr_scheduler.MultiStepLR(optimizer,\n",
    "#        milestones=input_params.lr_sch_milestones, gamma=input_params.lr_sch_gamma, verbose=False) "
   ]
  }
 ],
 "metadata": {
  "kernelspec": {
   "display_name": "Python [conda env:anaconda-pjo_dnareg]",
   "language": "python",
   "name": "conda-env-anaconda-pjo_dnareg-py"
  },
  "language_info": {
   "codemirror_mode": {
    "name": "ipython",
    "version": 3
   },
   "file_extension": ".py",
   "mimetype": "text/x-python",
   "name": "python",
   "nbconvert_exporter": "python",
   "pygments_lexer": "ipython3",
   "version": "3.11.5"
  }
 },
 "nbformat": 4,
 "nbformat_minor": 2
}
