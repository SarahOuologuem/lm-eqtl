{
 "cells": [
  {
   "cell_type": "markdown",
   "metadata": {},
   "source": [
    "# Predict expression from genotype\n",
    "\n",
    "1. Load weights from trained LM and freeze\n",
    "2. Take only the encoder part\n",
    "3. Add a prediction head -> learnable params"
   ]
  },
  {
   "cell_type": "code",
   "execution_count": 1,
   "metadata": {},
   "outputs": [],
   "source": [
    "import numpy as np\n",
    "import pandas as pd\n",
    "import pickle\n",
    "import gc\n",
    "import os\n",
    "import re\n",
    "import wandb\n",
    "\n",
    "import sys\n",
    "import pysam\n",
    "import torch\n",
    "from torch.utils.data import DataLoader, Dataset\n",
    "from itertools import chain\n",
    "from torch import nn\n",
    "\n",
    "if not \"../\" in sys.path:\n",
    "    sys.path.append(\"../\")\n",
    "\n",
    "from encoding_utils import sequence_encoders\n",
    "import helpers.train_eval_a as train_eval    #train and evaluation\n",
    "import helpers.misc as misc                #miscellaneous functions\n",
    "from models.spec_dss import DSSResNetEmb, SpecAdd, DSSResNetExpression\n",
    "\n",
    "%load_ext autoreload\n",
    "%autoreload 2"
   ]
  },
  {
   "cell_type": "markdown",
   "metadata": {},
   "source": [
    "### Load the original model with checkpoints"
   ]
  },
  {
   "cell_type": "code",
   "execution_count": 2,
   "metadata": {},
   "outputs": [],
   "source": [
    "input_params = misc.dotdict({})\n",
    "\n",
    "input_params.dataset =  '../../extdata/datasets/phase3_top10/dataset.parquet'\n",
    "input_params.model_weight = '../../extdata/checkpoints/phase3_top10/aware_large_splitmsk/weights/epoch_100_weights_model.pt'\n",
    "\n",
    "\n",
    "input_params.output_dir = '../../results/test'\n",
    "\n",
    "input_params.split_mask = False\n",
    "input_params.mask_rate = 0.2 #[0.012,0.2]#RAN #single float or 2 floats for reference and alternative\n",
    "input_params.masking = 'none' # stratified_maf or none\n",
    "\n",
    "input_params.diploid = True\n",
    "\n",
    "input_params.test = False\n",
    "\n",
    "input_params.get_embeddings = False\n",
    "input_params.mask_at_test = True\n",
    "\n",
    "input_params.agnostic = False\n",
    "\n",
    "input_params.seq_len = 20\n",
    "\n",
    "input_params.tot_epochs = 5\n",
    "input_params.fold = 0\n",
    "input_params.Nfolds = 5\n",
    "\n",
    "input_params.train_splits = 1\n",
    "\n",
    "input_params.save_at = range(1, input_params.tot_epochs)\n",
    "input_params.validate_every = 1\n",
    "\n",
    "input_params.d_model = 256\n",
    "input_params.n_layers = 4\n",
    "input_params.dropout = 0.\n",
    "\n",
    "input_params.batch_size = 2\n",
    "input_params.learning_rate = 1e-4\n",
    "input_params.weight_decay = 0\n",
    "\n",
    "if input_params.dataset.endswith('.fa'):\n",
    "    seq_df = pd.read_csv(input_params.dataset + '.fai', header=None, sep='\\t', usecols=[0], names=['seq_name'])\n",
    "elif input_params.dataset.endswith('.parquet'):\n",
    "    seq_df = pd.read_parquet(input_params.dataset).reset_index()\n",
    "    \n",
    "seq_df[['split','sample_id','seg_name']] =  seq_df['seq_name'].str.split(':',expand=True)\n",
    "\n",
    "if not input_params.agnostic:\n",
    "    #for segment-aware model, assign a label to each segment\n",
    "    seg_name = seq_df.seq_name.apply(lambda x:':'.join(x.split(':')[2:]))\n",
    "    segment_encoding = seg_name.drop_duplicates().reset_index(drop=True)\n",
    "    segment_encoding = {seg_name:idx for idx,seg_name in segment_encoding.items()}\n",
    "    seq_df['seg_label'] = seg_name.map(segment_encoding)\n",
    "else:\n",
    "    seq_df['seg_label'] = 0\n",
    "\n",
    "\n",
    "# get samples with expression data\n",
    "\n",
    "\n",
    "# take the test set, it contains samples for which we have expression data\n",
    "# seq_df = seq_df[seq_df.split=='test']"
   ]
  },
  {
   "cell_type": "code",
   "execution_count": 3,
   "metadata": {},
   "outputs": [],
   "source": [
    "expression_data = pd.read_csv(\"../../extdata/GD660.GeneQuantRPKM.txt.gz\", sep=\"\\t\")\\\n",
    "    .rename(columns=lambda x: re.sub(\"\\..*\",'',x))\\\n",
    "    .melt(id_vars = [\"TargetID\", \"Gene_Symbol\", \"Chr\", \"Coord\"], var_name = \"sample_id\", value_name = \"expr\")[[\"Gene_Symbol\", \"sample_id\", \"expr\"]]\n",
    "seq_expression_df = pd.merge(seq_df, expression_data, left_on=[\"sample_id\", \"seg_name\"], right_on=[\"sample_id\", \"Gene_Symbol\"])"
   ]
  },
  {
   "cell_type": "code",
   "execution_count": 4,
   "metadata": {},
   "outputs": [
    {
     "data": {
      "text/html": [
       "<div>\n",
       "<style scoped>\n",
       "    .dataframe tbody tr th:only-of-type {\n",
       "        vertical-align: middle;\n",
       "    }\n",
       "\n",
       "    .dataframe tbody tr th {\n",
       "        vertical-align: top;\n",
       "    }\n",
       "\n",
       "    .dataframe thead th {\n",
       "        text-align: right;\n",
       "    }\n",
       "</style>\n",
       "<table border=\"1\" class=\"dataframe\">\n",
       "  <thead>\n",
       "    <tr style=\"text-align: right;\">\n",
       "      <th></th>\n",
       "      <th>seq_name</th>\n",
       "      <th>seq</th>\n",
       "      <th>split</th>\n",
       "      <th>sample_id</th>\n",
       "      <th>seg_name</th>\n",
       "      <th>seg_label</th>\n",
       "      <th>Gene_Symbol</th>\n",
       "      <th>expr</th>\n",
       "    </tr>\n",
       "  </thead>\n",
       "  <tbody>\n",
       "    <tr>\n",
       "      <th>0</th>\n",
       "      <td>train:NA18870:ENSG00000179344.11</td>\n",
       "      <td>RRBRRBRBBBRRRRRRBRBBRBBRBRRRRRBBRBRBRRBRRRBBBB...</td>\n",
       "      <td>train</td>\n",
       "      <td>NA18870</td>\n",
       "      <td>ENSG00000179344.11</td>\n",
       "      <td>8</td>\n",
       "      <td>ENSG00000179344.11</td>\n",
       "      <td>57.33069</td>\n",
       "    </tr>\n",
       "    <tr>\n",
       "      <th>1</th>\n",
       "      <td>train:NA18870:ENSG00000179344.11</td>\n",
       "      <td>RRBRRBRBBBRRRRRRBRBBRBBRBRRRRRBBRBRBRRBRRRBBBB...</td>\n",
       "      <td>train</td>\n",
       "      <td>NA18870</td>\n",
       "      <td>ENSG00000179344.11</td>\n",
       "      <td>8</td>\n",
       "      <td>ENSG00000179344.11</td>\n",
       "      <td>68.38216</td>\n",
       "    </tr>\n",
       "    <tr>\n",
       "      <th>2</th>\n",
       "      <td>train:NA18508:ENSG00000196126.6</td>\n",
       "      <td>BRRRBBBRRRRBRRRBRBBBBBRRBBRRBBBRRRRBBRRBRBBBRB...</td>\n",
       "      <td>train</td>\n",
       "      <td>NA18508</td>\n",
       "      <td>ENSG00000196126.6</td>\n",
       "      <td>7</td>\n",
       "      <td>ENSG00000196126.6</td>\n",
       "      <td>862.92187</td>\n",
       "    </tr>\n",
       "    <tr>\n",
       "      <th>3</th>\n",
       "      <td>train:NA19114:ENSG00000196735.6</td>\n",
       "      <td>MMRMMMMRRRRRRRMMRMMRMMRRMRRMMMRRRRRMMMMMMMMMMM...</td>\n",
       "      <td>train</td>\n",
       "      <td>NA19114</td>\n",
       "      <td>ENSG00000196735.6</td>\n",
       "      <td>6</td>\n",
       "      <td>ENSG00000196735.6</td>\n",
       "      <td>386.36688</td>\n",
       "    </tr>\n",
       "    <tr>\n",
       "      <th>4</th>\n",
       "      <td>train:NA19114:ENSG00000196735.6</td>\n",
       "      <td>MMRMMMMRRRRRRRMMRMMRMMRRMRRMMMRRRRRMMMMMMMMMMM...</td>\n",
       "      <td>train</td>\n",
       "      <td>NA19114</td>\n",
       "      <td>ENSG00000196735.6</td>\n",
       "      <td>6</td>\n",
       "      <td>ENSG00000196735.6</td>\n",
       "      <td>535.41651</td>\n",
       "    </tr>\n",
       "    <tr>\n",
       "      <th>...</th>\n",
       "      <td>...</td>\n",
       "      <td>...</td>\n",
       "      <td>...</td>\n",
       "      <td>...</td>\n",
       "      <td>...</td>\n",
       "      <td>...</td>\n",
       "      <td>...</td>\n",
       "      <td>...</td>\n",
       "    </tr>\n",
       "    <tr>\n",
       "      <th>6375</th>\n",
       "      <td>test:NA20774:ENSG00000196735.6</td>\n",
       "      <td>BRMMMRMRMRMRMRRRRMMRMRRRRMMMMMRMRRMRMMMRMMMRBM...</td>\n",
       "      <td>test</td>\n",
       "      <td>NA20774</td>\n",
       "      <td>ENSG00000196735.6</td>\n",
       "      <td>6</td>\n",
       "      <td>ENSG00000196735.6</td>\n",
       "      <td>347.94405</td>\n",
       "    </tr>\n",
       "    <tr>\n",
       "      <th>6376</th>\n",
       "      <td>test:HG00267:ENSG00000232629.4</td>\n",
       "      <td>BBBBBBRBRBBBRBBRBBRBBRBBBBBRRRRRBRBBBBBBRRRBRB...</td>\n",
       "      <td>test</td>\n",
       "      <td>HG00267</td>\n",
       "      <td>ENSG00000232629.4</td>\n",
       "      <td>2</td>\n",
       "      <td>ENSG00000232629.4</td>\n",
       "      <td>7.41003</td>\n",
       "    </tr>\n",
       "    <tr>\n",
       "      <th>6377</th>\n",
       "      <td>test:HG00366:ENSG00000196735.6</td>\n",
       "      <td>BBRBBBBBBBBRBBBBRBBRBBRRBRRBBBRBRBRBBBBBBBBBBB...</td>\n",
       "      <td>test</td>\n",
       "      <td>HG00366</td>\n",
       "      <td>ENSG00000196735.6</td>\n",
       "      <td>6</td>\n",
       "      <td>ENSG00000196735.6</td>\n",
       "      <td>346.18428</td>\n",
       "    </tr>\n",
       "    <tr>\n",
       "      <th>6378</th>\n",
       "      <td>test:HG00379:ENSG00000176681.9</td>\n",
       "      <td>RRRRRRFRRRRRRFRRRRRRRRRRRRRRRRRRRRRRRRRRRRRBRR...</td>\n",
       "      <td>test</td>\n",
       "      <td>HG00379</td>\n",
       "      <td>ENSG00000176681.9</td>\n",
       "      <td>9</td>\n",
       "      <td>ENSG00000176681.9</td>\n",
       "      <td>5.83544</td>\n",
       "    </tr>\n",
       "    <tr>\n",
       "      <th>6379</th>\n",
       "      <td>test:NA20589:ENSG00000196126.6</td>\n",
       "      <td>BRRFMMMFRRFMRFRBFBMBMMRRMMRRBMBRFFRMMRRMFMMMRM...</td>\n",
       "      <td>test</td>\n",
       "      <td>NA20589</td>\n",
       "      <td>ENSG00000196126.6</td>\n",
       "      <td>7</td>\n",
       "      <td>ENSG00000196126.6</td>\n",
       "      <td>445.08309</td>\n",
       "    </tr>\n",
       "  </tbody>\n",
       "</table>\n",
       "<p>6380 rows × 8 columns</p>\n",
       "</div>"
      ],
      "text/plain": [
       "                              seq_name  \\\n",
       "0     train:NA18870:ENSG00000179344.11   \n",
       "1     train:NA18870:ENSG00000179344.11   \n",
       "2      train:NA18508:ENSG00000196126.6   \n",
       "3      train:NA19114:ENSG00000196735.6   \n",
       "4      train:NA19114:ENSG00000196735.6   \n",
       "...                                ...   \n",
       "6375    test:NA20774:ENSG00000196735.6   \n",
       "6376    test:HG00267:ENSG00000232629.4   \n",
       "6377    test:HG00366:ENSG00000196735.6   \n",
       "6378    test:HG00379:ENSG00000176681.9   \n",
       "6379    test:NA20589:ENSG00000196126.6   \n",
       "\n",
       "                                                    seq  split sample_id  \\\n",
       "0     RRBRRBRBBBRRRRRRBRBBRBBRBRRRRRBBRBRBRRBRRRBBBB...  train   NA18870   \n",
       "1     RRBRRBRBBBRRRRRRBRBBRBBRBRRRRRBBRBRBRRBRRRBBBB...  train   NA18870   \n",
       "2     BRRRBBBRRRRBRRRBRBBBBBRRBBRRBBBRRRRBBRRBRBBBRB...  train   NA18508   \n",
       "3     MMRMMMMRRRRRRRMMRMMRMMRRMRRMMMRRRRRMMMMMMMMMMM...  train   NA19114   \n",
       "4     MMRMMMMRRRRRRRMMRMMRMMRRMRRMMMRRRRRMMMMMMMMMMM...  train   NA19114   \n",
       "...                                                 ...    ...       ...   \n",
       "6375  BRMMMRMRMRMRMRRRRMMRMRRRRMMMMMRMRRMRMMMRMMMRBM...   test   NA20774   \n",
       "6376  BBBBBBRBRBBBRBBRBBRBBRBBBBBRRRRRBRBBBBBBRRRBRB...   test   HG00267   \n",
       "6377  BBRBBBBBBBBRBBBBRBBRBBRRBRRBBBRBRBRBBBBBBBBBBB...   test   HG00366   \n",
       "6378  RRRRRRFRRRRRRFRRRRRRRRRRRRRRRRRRRRRRRRRRRRRBRR...   test   HG00379   \n",
       "6379  BRRFMMMFRRFMRFRBFBMBMMRRMMRRBMBRFFRMMRRMFMMMRM...   test   NA20589   \n",
       "\n",
       "                seg_name  seg_label         Gene_Symbol       expr  \n",
       "0     ENSG00000179344.11          8  ENSG00000179344.11   57.33069  \n",
       "1     ENSG00000179344.11          8  ENSG00000179344.11   68.38216  \n",
       "2      ENSG00000196126.6          7   ENSG00000196126.6  862.92187  \n",
       "3      ENSG00000196735.6          6   ENSG00000196735.6  386.36688  \n",
       "4      ENSG00000196735.6          6   ENSG00000196735.6  535.41651  \n",
       "...                  ...        ...                 ...        ...  \n",
       "6375   ENSG00000196735.6          6   ENSG00000196735.6  347.94405  \n",
       "6376   ENSG00000232629.4          2   ENSG00000232629.4    7.41003  \n",
       "6377   ENSG00000196735.6          6   ENSG00000196735.6  346.18428  \n",
       "6378   ENSG00000176681.9          9   ENSG00000176681.9    5.83544  \n",
       "6379   ENSG00000196126.6          7   ENSG00000196126.6  445.08309  \n",
       "\n",
       "[6380 rows x 8 columns]"
      ]
     },
     "execution_count": 4,
     "metadata": {},
     "output_type": "execute_result"
    }
   ],
   "source": [
    "seq_expression_df"
   ]
  },
  {
   "cell_type": "code",
   "execution_count": 5,
   "metadata": {},
   "outputs": [
    {
     "name": "stdout",
     "output_type": "stream",
     "text": [
      "\n",
      "CUDA device: GPU\n",
      "\n"
     ]
    }
   ],
   "source": [
    "if torch.cuda.is_available():\n",
    "    device = torch.device('cuda')\n",
    "    print('\\nCUDA device: GPU\\n')\n",
    "else:\n",
    "    device = torch.device('cpu')\n",
    "    print('\\nCUDA device: CPU\\n')\n",
    "gc.collect()\n",
    "torch.cuda.empty_cache()\n",
    "\n",
    "device = \"cpu\"\n",
    "#os.environ[\"PYTORCH_CUDA_ALLOC_CONF\"] = \"max_split_size_mb:512\""
   ]
  },
  {
   "cell_type": "code",
   "execution_count": 26,
   "metadata": {},
   "outputs": [],
   "source": [
    "class SeqDataset(Dataset):\n",
    "\n",
    "    def __init__(self, seq_df, transform, max_augm_shift=0, \n",
    "                 mode='train'):\n",
    "\n",
    "        if input_params.dataset.endswith('.fa'):\n",
    "            self.fasta = pysam.FastaFile(input_params.dataset)\n",
    "        else:\n",
    "            self.fasta = None\n",
    "\n",
    "        self.seq_df = seq_df\n",
    "        self.transform = transform\n",
    "        self.max_augm_shift = max_augm_shift\n",
    "        self.mode = mode\n",
    "\n",
    "    def __len__(self):\n",
    "\n",
    "        return 2*len(self.seq_df) # times two because returns both haplotypes \n",
    "\n",
    "    def __getitem__(self, idx):\n",
    "\n",
    "        if self.fasta:\n",
    "            seq = self.fasta.fetch(self.seq_df.iloc[idx].seq_name).upper()\n",
    "        else:\n",
    "            seq = self.seq_df.iloc[idx].seq.upper()\n",
    "\n",
    "        shift = np.random.randint(self.max_augm_shift+1) #random shift at training, must be chunk_size-input_params.seq_len\n",
    "\n",
    "        seq = seq[shift:shift+input_params.seq_len] #shift the sequence and limit its size\n",
    "        seg_label = self.seq_df.iloc[idx].seg_label #label for segment-aware training\n",
    "        #'''\n",
    "        seq1 = seq.replace('-','').replace('B','A').replace('F','A').replace('M','R') # father\n",
    "        seq2 = seq.replace('-','').replace('B','A').replace('M','A').replace('F','R') # mother \n",
    "\n",
    "        masked_sequence1, target_labels_masked1, target_labels1, _, _ = self.transform(seq1)\n",
    "        masked_sequence2, target_labels_masked2, target_labels2, _, _ = self.transform(seq2)\n",
    "\n",
    "        masked_sequence = torch.vstack((masked_sequence1, masked_sequence2))\n",
    "        seg_label = torch.vstack((torch.tensor(seg_label), torch.tensor(seg_label)))\n",
    "        masked_sequence = (masked_sequence, seg_label)\n",
    "\n",
    "        target_labels_masked = torch.vstack((target_labels_masked1, target_labels_masked2))\n",
    "        target_labels = torch.vstack((target_labels1, target_labels2))\n",
    "        seq = (seq1, seq2)\n",
    "        return masked_sequence, target_labels_masked, target_labels, seq\n",
    "        \n",
    "\n",
    "    def close(self):\n",
    "        self.fasta.close()\n",
    "\n",
    "\n",
    "class ExpressionDataset(SeqDataset): \n",
    "\n",
    "    def __init__(self, *args, **kwargs): \n",
    "        super().__init__(*args, **kwargs)\n",
    "        pass\n",
    "\n",
    "    def __len__(self):\n",
    "        return len(self.seq_df)\n",
    "\n",
    "    def __getitem__(self, idx): \n",
    "        if self.fasta:\n",
    "            seq = self.fasta.fetch(self.seq_df.iloc[idx].seq_name).upper()\n",
    "        else:\n",
    "            seq = self.seq_df.iloc[idx].seq.upper()\n",
    "\n",
    "        shift = np.random.randint(self.max_augm_shift+1) #random shift at training, must be chunk_size-input_params.seq_len\n",
    "\n",
    "        seq = seq[shift:shift+input_params.seq_len] #shift the sequence and limit its size\n",
    "        seg_label = self.seq_df.iloc[idx].seg_label #label for segment-aware training\n",
    "        #'''\n",
    "        seq1 = seq.replace('-','').replace('B','A').replace('F','A').replace('M','R') # father\n",
    "        seq2 = seq.replace('-','').replace('B','A').replace('M','A').replace('F','R') # mother \n",
    "\n",
    "        masked_sequence1, target_labels_masked1, target_labels1, _, _ = self.transform(seq1)\n",
    "        masked_sequence2, target_labels_masked2, target_labels2, _, _ = self.transform(seq2)\n",
    "\n",
    "        masked_sequence = torch.vstack((masked_sequence1, masked_sequence2))\n",
    "        seg_label = torch.vstack((torch.tensor(seg_label), torch.tensor(seg_label)))\n",
    "        masked_sequence = (masked_sequence, seg_label)\n",
    "\n",
    "        target_labels_masked = torch.vstack((target_labels_masked1, target_labels_masked2))\n",
    "        target_labels = torch.vstack((target_labels1, target_labels2))\n",
    "        seq = (seq1, seq2)\n",
    "\n",
    "        seq_expr = self.seq_df.iloc[idx].expr.astype(np.float32)\n",
    "\n",
    "        return masked_sequence, target_labels_masked, target_labels, seq, seq_expr\n",
    "\n",
    "    \n",
    "\n",
    "\n",
    "def collate_expression_fn(data):\n",
    "    \"\"\"collate fn that adds expression values for each sequence.\n",
    "    \"\"\" \n",
    "    #masked sequence\n",
    "    masked_sequence = [x[0][0] for x in data]\n",
    "    masked_sequence = [torch.stack(torch.split(d, 3)) for d in masked_sequence] \n",
    "    masked_sequence = torch.concat(masked_sequence)\n",
    "    #seg labels\n",
    "    seg_labels = [x[0][1] for x in data]\n",
    "    seg_labels = torch.concat(seg_labels).flatten()\n",
    "    # target labels masked\n",
    "    target_labels_masked = [x[1] for x in data]\n",
    "    target_labels_masked = torch.concat(target_labels_masked)\n",
    "    # target labels \n",
    "    target_labels = [x[2] for x in data]\n",
    "    target_labels = torch.concat(target_labels)\n",
    "    #seq\n",
    "    seqs = [x[3] for x in data]\n",
    "    seqs = tuple(chain.from_iterable(seqs))\n",
    "\n",
    "    seg_expr = [x[4] for x in data]\n",
    "    # repeat each element twice, once for each haplotype\n",
    "    seg_expr = torch.Tensor(seg_expr).repeat_interleave(2)\n",
    "\n",
    "    return (masked_sequence, seg_labels, seg_expr),target_labels_masked, target_labels, seqs"
   ]
  },
  {
   "cell_type": "code",
   "execution_count": 27,
   "metadata": {},
   "outputs": [
    {
     "name": "stderr",
     "output_type": "stream",
     "text": [
      "/tmp/ipykernel_37712/680069974.py:23: SettingWithCopyWarning: \n",
      "A value is trying to be set on a copy of a slice from a DataFrame.\n",
      "Try using .loc[row_indexer,col_indexer] = value instead\n",
      "\n",
      "See the caveats in the documentation: https://pandas.pydata.org/pandas-docs/stable/user_guide/indexing.html#returning-a-view-versus-a-copy\n",
      "  train_df['train_fold'] = train_fold[:N_train]\n"
     ]
    }
   ],
   "source": [
    "test_df = None \n",
    "\n",
    "if not input_params.test: #Train and Validate\n",
    "    seq_transform = sequence_encoders.SequenceDataEncoder(seq_len = input_params.seq_len, total_len = input_params.seq_len,\n",
    "                                                      mask_rate = input_params.mask_rate, split_mask = input_params.split_mask)\n",
    "\n",
    "    #N_train = int(len(seq_expression_df)*(1-input_params.val_fraction))\n",
    "    if input_params.fold is not None:\n",
    "        \n",
    "        samples = seq_expression_df.sample_id.unique()\n",
    "        val_samples = samples[input_params.fold::input_params.Nfolds] \n",
    "        train_df = seq_expression_df[~seq_expression_df.sample_id.isin(val_samples)] \n",
    "        test_df = seq_expression_df[seq_expression_df.sample_id.isin(val_samples)]\n",
    "        test_dataset = ExpressionDataset(test_df, transform = seq_transform, mode='eval')\n",
    "        test_dataloader = DataLoader(dataset = test_dataset, batch_size = input_params.batch_size, num_workers = 0, collate_fn = collate_expression_fn, shuffle = False)\n",
    "    else:\n",
    "        train_df = seq_expression_df\n",
    "        #train_df = seq_expression_df[seq_expression_df.split=='train']\n",
    "        #test_df = seq_expression_df[seq_expression_df.split=='val']\n",
    "  \n",
    "    N_train = len(train_df)\n",
    "    train_fold = np.repeat(list(range(input_params.train_splits)),repeats = N_train // input_params.train_splits + 1 )\n",
    "    train_df['train_fold'] = train_fold[:N_train]\n",
    "    # create training dataset & dataloader \n",
    "    train_dataset = ExpressionDataset(train_df, transform = seq_transform,  mode='train')\n",
    "    train_dataloader = DataLoader(dataset = train_dataset, batch_size = input_params.batch_size, num_workers = 2, collate_fn = collate_expression_fn, shuffle = False)\n",
    "\n",
    "elif input_params.get_embeddings:\n",
    "    if input_params.mask_at_test:\n",
    "        seq_transform = sequence_encoders.RollingMasker(mask_stride = 50, frame = 0)\n",
    "    else:\n",
    "        seq_transform = sequence_encoders.PlainOneHot(frame = 0, padding = 'none')\n",
    "    # create test dataset & dataloader \n",
    "    test_dataset = ExpressionDataset(seq_expression_df, transform = seq_transform, mode='eval')\n",
    "    test_dataloader = DataLoader(dataset = test_dataset, batch_size = 1, num_workers = 1, collate_fn = collate_expression_fn, shuffle = False)\n",
    "\n",
    "else: #Test\n",
    "    print(\"not getting embeddings\")\n",
    "    seq_transform = sequence_encoders.SequenceDataEncoder(seq_len = input_params.seq_len, total_len = input_params.seq_len,\n",
    "                                                      mask_rate=input_params.mask_rate, split_mask = input_params.split_mask)\n",
    "    # create test dataset & dataloader \n",
    "    test_dataset = ExpressionDataset(seq_expression_df, transform = seq_transform, mode='eval')\n",
    "    test_dataloader = DataLoader(dataset = test_dataset, batch_size = input_params.batch_size, num_workers = 2, collate_fn = collate_expression_fn, shuffle = False)"
   ]
  },
  {
   "cell_type": "code",
   "execution_count": 30,
   "metadata": {},
   "outputs": [],
   "source": [
    "seg_encoder = SpecAdd(embed = True, encoder = 'label', Nsegments=seq_df.seg_label.nunique(), d_model = input_params.d_model)\n",
    "\n",
    "model = DSSResNetExpression(d_input = 3, d_output = 3, d_model = input_params.d_model, n_layers = input_params.n_layers, \n",
    "                     dropout = input_params.dropout, embed_before = True, species_encoder = seg_encoder)\n",
    "\n",
    "model = model.to(device)\n",
    "\n",
    "# load the weights\n",
    "model.load_state_dict(torch.load(input_params.model_weight, map_location=device), strict=False)\n",
    "\n",
    "# define which layers to freeze\n",
    "for param_idx, (param_name, param) in enumerate(model.named_parameters()): \n",
    "    if not param_name.startswith(\"regression\"):\n",
    "        param.requires_grad = False\n",
    "\n",
    "model_params = [p for p in model.parameters() if p.requires_grad]\n",
    "\n",
    "optimizer = torch.optim.Adam(model_params, lr = input_params.learning_rate, weight_decay = input_params.weight_decay)\n",
    "\n",
    "weights_dir = os.path.join(input_params.output_dir, 'weights') #dir to save model weights at save_at epochs\n"
   ]
  },
  {
   "cell_type": "code",
   "execution_count": 31,
   "metadata": {},
   "outputs": [],
   "source": [
    "def metrics_to_str(metrics):\n",
    "    expr_loss, loss, accuracy, masked_acc, masked_recall, masked_IQS = metrics\n",
    "    return f'expr_loss: {expr_loss:.4}, loss: {loss:.4}, acc: {accuracy:.4}, masked acc: {masked_acc:.4}, {misc.print_class_recall(masked_recall, \"masked recall: \")}, masked IQS: {masked_IQS:.4}'"
   ]
  },
  {
   "cell_type": "code",
   "execution_count": 42,
   "metadata": {},
   "outputs": [],
   "source": [
    "from helpers.metrics import MeanRecall, MaskedAccuracy, IQS\n",
    "from helpers.misc import EMA, print_class_recall\n",
    "from tqdm import tqdm\n",
    "\n",
    "def train_reg_model(model, optimizer, dataloader, device, silent=False):\n",
    "    \"\"\"train function with added regression loss\"\"\"\n",
    "\n",
    "    criterion = torch.nn.CrossEntropyLoss(reduction = \"mean\")\n",
    "\n",
    "    accuracy = MaskedAccuracy(smooth=True).to(device)\n",
    "    masked_recall = MeanRecall().to(device)\n",
    "    masked_accuracy = MaskedAccuracy(smooth=True).to(device)\n",
    "    masked_IQS = IQS().to(device)\n",
    "\n",
    "    reg_criterion = nn.MSELoss()\n",
    "    \n",
    "    model.train() #model to train mode\n",
    "\n",
    "    if not silent:\n",
    "        tot_itr = len(dataloader.dataset)//dataloader.batch_size #total train iterations\n",
    "        pbar = tqdm(total = tot_itr, ncols=750) #progress bar\n",
    "\n",
    "    loss_EMA = EMA()\n",
    "\n",
    "    for itr_idx, ((masked_sequence, species_label, expr), targets_masked, targets, _) in enumerate(dataloader):\n",
    "\n",
    "        masked_sequence = masked_sequence.to(device)\n",
    "        species_label = species_label.to(device)\n",
    "        targets_masked = targets_masked.to(device)\n",
    "        targets = targets.to(device)\n",
    "\n",
    "        logits, _, expr_pred = model(masked_sequence, species_label)\n",
    "\n",
    "        masked_loss = criterion(logits, targets_masked)\n",
    "        expr_loss = reg_criterion(expr_pred, expr)\n",
    "\n",
    "        optimizer.zero_grad()\n",
    "\n",
    "        loss = expr_loss + masked_loss\n",
    "\n",
    "        loss.backward()\n",
    "\n",
    "        #if max_abs_grad:\n",
    "        #    torch.nn.utils.clip_grad_value_(model.parameters(), max_abs_grad)\n",
    "\n",
    "\n",
    "\n",
    "        optimizer.step()\n",
    "\n",
    "        if itr_idx % 10 == 0:\n",
    "            wandb.log({\"expr_loss\": expr_loss, \"loss\": loss})\n",
    "\n",
    "        smoothed_loss = loss_EMA.update(loss.item())\n",
    "\n",
    "        preds = torch.argmax(logits, dim=1)\n",
    "\n",
    "        accuracy.update(preds, targets)\n",
    "        masked_recall.update(preds, targets_masked)\n",
    "        masked_accuracy.update(preds, targets_masked)\n",
    "        masked_IQS.update(preds, targets_masked)\n",
    "        \n",
    "        if not silent:\n",
    "            pbar.update(1)\n",
    "            pbar.set_description(f'loss: {expr_loss:.4}, acc: {accuracy.compute():.4}, {print_class_recall(masked_recall.compute(), \"masked recall: \")}, masked acc: {masked_accuracy.compute():.4}, masked IQS: {masked_IQS.compute():.4}, loss: {smoothed_loss:.4}')\n",
    "\n",
    "    if not silent:\n",
    "        pbar.reset()\n",
    "        del pbar\n",
    "\n",
    "    return expr_loss, loss, accuracy, masked_accuracy, masked_recall, masked_IQS\n",
    "\n",
    "\n",
    "\n",
    "def eval_reg_model(model, dataloader, device, diploid = False,get_embeddings = False, temperature=None, silent=False):\n",
    "\n",
    "    criterion = torch.nn.CrossEntropyLoss(reduction = \"mean\")\n",
    "    \n",
    "    if diploid: \n",
    "        return model_eval_diploid(model=model, dataloader=dataloader, device=device,get_embeddings=get_embeddings, temperature=temperature, silent=silent)\n",
    "        \n",
    "\n",
    "    accuracy = MaskedAccuracy().to(device)\n",
    "    masked_recall = MeanRecall().to(device)\n",
    "    masked_accuracy = MaskedAccuracy().to(device)\n",
    "    masked_IQS = IQS().to(device)\n",
    "\n",
    "    model.eval() #model to train mode\n",
    "\n",
    "    if not silent:\n",
    "        tot_itr = len(dataloader.dataset)//dataloader.batch_size #total train iterations\n",
    "        pbar = tqdm(total = tot_itr, ncols=750) #progress bar\n",
    "\n",
    "    avg_loss = 0.\n",
    "\n",
    "    all_embeddings = []\n",
    "\n",
    "    motif_probas = []\n",
    "\n",
    "    with torch.no_grad():\n",
    "\n",
    "        for itr_idx, ((masked_sequence, species_label), targets_masked, targets, seq) in enumerate(dataloader):\n",
    "            if get_embeddings:\n",
    "                #batches are generated by transformation in the dataset,\n",
    "                #so remove extra batch dimension added by dataloader\n",
    "                print(masked_sequence.shape)\n",
    "                masked_sequence, targets_masked, targets = masked_sequence[0], targets_masked[0], targets[0]\n",
    "                species_label = species_label.tile((len(masked_sequence),))\n",
    "\n",
    "            masked_sequence = masked_sequence.to(device)\n",
    "            species_label = species_label.long().to(device)\n",
    "            targets_masked = targets_masked.to(device)\n",
    "            targets = targets.to(device)\n",
    "                \n",
    "            logits, embeddings = model(masked_sequence, species_label)\n",
    "\n",
    "            if temperature:\n",
    "                logits /= temperature\n",
    "\n",
    "            loss = criterion(logits, targets_masked)\n",
    "\n",
    "            avg_loss += loss.item()\n",
    "\n",
    "            preds = torch.argmax(logits, dim=1)\n",
    "\n",
    "            accuracy.update(preds, targets)\n",
    "            masked_recall.update(preds, targets_masked)\n",
    "            masked_accuracy.update(preds, targets_masked)\n",
    "            masked_IQS.update(preds, targets_masked)\n",
    "\n",
    "            if  get_embeddings: \n",
    "\n",
    "                seq_name = dataloader.dataset.seq_df.iloc[itr_idx].seq_name\n",
    "\n",
    "                # only get embeddings of the masked nucleotide\n",
    "                sequence_embedding = embeddings[\"seq_embedding\"]\n",
    "                sequence_embedding = sequence_embedding.transpose(-1,-2)[targets_masked!=-100]\n",
    "                # shape # B, L, dim  to L,dim, left with only masked nucleotide embeddings\n",
    "                # average over sequence\n",
    "                #print(sequence_embedding.shape)\n",
    "                sequence_embedding = sequence_embedding.mean(dim=0) # if we mask\n",
    "                #sequence_embedding = sequence_embedding[0].mean(dim=-1) # no mask\n",
    "\n",
    "                sequence_embedding = sequence_embedding.detach().cpu().numpy()\n",
    "\n",
    "                logits = torch.permute(logits,(2,0,1)).reshape(-1,masked_sequence.shape[1]).detach()\n",
    "\n",
    "                targets_masked = targets_masked.T.flatten()\n",
    "\n",
    "                masked_targets = targets_masked[targets_masked!=-100].cpu()\n",
    "                logits = logits[targets_masked!=-100].cpu()\n",
    "\n",
    "                logprobs = log_softmax(logits, dim=1).numpy()\n",
    "\n",
    "                #mapping = {'A':0,'C':1,'G':2,'T':3}\n",
    "                #ground_truth_logprobs = np.array([logprobs[idx,mapping[base]] for idx,base in enumerate(seq[0])])\n",
    "\n",
    "                ground_truth_logprobs = np.array([logprobs[idx,base] for idx,base in enumerate(masked_targets)])\n",
    "\n",
    "                all_embeddings.append((seq_name,sequence_embedding,ground_truth_logprobs))\n",
    "\n",
    "            if not silent:\n",
    "\n",
    "                pbar.update(1)\n",
    "                pbar.set_description(f'acc: {accuracy.compute():.4}, {print_class_recall(masked_recall.compute(), \"masked recall: \")}, masked acc: {masked_accuracy.compute():.4}, masked IQS: {masked_IQS.compute():.4}, loss: {avg_loss/(itr_idx+1):.4}')\n",
    "\n",
    "    if not silent:\n",
    "        del pbar\n",
    "\n",
    "    return (avg_loss/(itr_idx+1), accuracy.compute(), masked_accuracy.compute(), masked_recall.compute(), masked_IQS.compute()), all_embeddings, motif_probas\n",
    "\n"
   ]
  },
  {
   "cell_type": "code",
   "execution_count": 35,
   "metadata": {},
   "outputs": [
    {
     "ename": "TypeError",
     "evalue": "unsupported format string passed to MaskedAccuracy.__format__",
     "output_type": "error",
     "traceback": [
      "\u001b[0;31m---------------------------------------------------------------------------\u001b[0m",
      "\u001b[0;31mTypeError\u001b[0m                                 Traceback (most recent call last)",
      "Cell \u001b[0;32mIn[35], line 1\u001b[0m\n\u001b[0;32m----> 1\u001b[0m \u001b[43mmetrics_to_str\u001b[49m\u001b[43m(\u001b[49m\u001b[43mtrain_metrics\u001b[49m\u001b[43m)\u001b[49m\n",
      "Cell \u001b[0;32mIn[31], line 3\u001b[0m, in \u001b[0;36mmetrics_to_str\u001b[0;34m(metrics)\u001b[0m\n\u001b[1;32m      1\u001b[0m \u001b[38;5;28;01mdef\u001b[39;00m \u001b[38;5;21mmetrics_to_str\u001b[39m(metrics):\n\u001b[1;32m      2\u001b[0m     expr_loss, loss, accuracy, masked_acc, masked_recall, masked_IQS \u001b[38;5;241m=\u001b[39m metrics\n\u001b[0;32m----> 3\u001b[0m     \u001b[38;5;28;01mreturn\u001b[39;00m \u001b[38;5;124mf\u001b[39m\u001b[38;5;124m'\u001b[39m\u001b[38;5;124mexpr_loss: \u001b[39m\u001b[38;5;132;01m{\u001b[39;00mexpr_loss\u001b[38;5;132;01m:\u001b[39;00m\u001b[38;5;124m.4\u001b[39m\u001b[38;5;132;01m}\u001b[39;00m\u001b[38;5;124m, loss: \u001b[39m\u001b[38;5;132;01m{\u001b[39;00mloss\u001b[38;5;132;01m:\u001b[39;00m\u001b[38;5;124m.4\u001b[39m\u001b[38;5;132;01m}\u001b[39;00m\u001b[38;5;124m, acc: \u001b[39m\u001b[38;5;132;01m{\u001b[39;00maccuracy\u001b[38;5;132;01m:\u001b[39;00m\u001b[38;5;124m.4\u001b[39m\u001b[38;5;132;01m}\u001b[39;00m\u001b[38;5;124m, masked acc: \u001b[39m\u001b[38;5;132;01m{\u001b[39;00mmasked_acc\u001b[38;5;132;01m:\u001b[39;00m\u001b[38;5;124m.4\u001b[39m\u001b[38;5;132;01m}\u001b[39;00m\u001b[38;5;124m, \u001b[39m\u001b[38;5;132;01m{\u001b[39;00mmisc\u001b[38;5;241m.\u001b[39mprint_class_recall(masked_recall,\u001b[38;5;250m \u001b[39m\u001b[38;5;124m\"\u001b[39m\u001b[38;5;124mmasked recall: \u001b[39m\u001b[38;5;124m\"\u001b[39m)\u001b[38;5;132;01m}\u001b[39;00m\u001b[38;5;124m, masked IQS: \u001b[39m\u001b[38;5;132;01m{\u001b[39;00mmasked_IQS\u001b[38;5;132;01m:\u001b[39;00m\u001b[38;5;124m.4\u001b[39m\u001b[38;5;132;01m}\u001b[39;00m\u001b[38;5;124m'\u001b[39m\n",
      "\u001b[0;31mTypeError\u001b[0m: unsupported format string passed to MaskedAccuracy.__format__"
     ]
    }
   ],
   "source": [
    "metrics_to_str(train_metrics)"
   ]
  },
  {
   "cell_type": "code",
   "execution_count": 36,
   "metadata": {},
   "outputs": [
    {
     "data": {
      "text/plain": [
       "(tensor(5597.4912, grad_fn=<MseLossBackward0>),\n",
       " tensor(nan, grad_fn=<AddBackward0>),\n",
       " MaskedAccuracy(),\n",
       " MaskedAccuracy(),\n",
       " MeanRecall(),\n",
       " IQS())"
      ]
     },
     "execution_count": 36,
     "metadata": {},
     "output_type": "execute_result"
    }
   ],
   "source": [
    "train_metrics"
   ]
  },
  {
   "cell_type": "code",
   "execution_count": 40,
   "metadata": {},
   "outputs": [
    {
     "ename": "TypeError",
     "evalue": "unsupported format string passed to Tensor.__format__",
     "output_type": "error",
     "traceback": [
      "\u001b[0;31m---------------------------------------------------------------------------\u001b[0m",
      "\u001b[0;31mTypeError\u001b[0m                                 Traceback (most recent call last)",
      "Cell \u001b[0;32mIn[40], line 9\u001b[0m\n\u001b[1;32m      1\u001b[0m test_metrics \u001b[38;5;241m=\u001b[39m (\n\u001b[1;32m      2\u001b[0m     torch\u001b[38;5;241m.\u001b[39mTensor([\u001b[38;5;241m0.1\u001b[39m]),\n\u001b[1;32m      3\u001b[0m     torch\u001b[38;5;241m.\u001b[39mTensor([\u001b[38;5;241m0.1\u001b[39m]),\n\u001b[0;32m   (...)\u001b[0m\n\u001b[1;32m      7\u001b[0m     torch\u001b[38;5;241m.\u001b[39mTensor([\u001b[38;5;241m0.1\u001b[39m])\n\u001b[1;32m      8\u001b[0m )\n\u001b[0;32m----> 9\u001b[0m \u001b[43mmetrics_to_str\u001b[49m\u001b[43m(\u001b[49m\u001b[43mtest_metrics\u001b[49m\u001b[43m)\u001b[49m\n",
      "Cell \u001b[0;32mIn[31], line 3\u001b[0m, in \u001b[0;36mmetrics_to_str\u001b[0;34m(metrics)\u001b[0m\n\u001b[1;32m      1\u001b[0m \u001b[38;5;28;01mdef\u001b[39;00m \u001b[38;5;21mmetrics_to_str\u001b[39m(metrics):\n\u001b[1;32m      2\u001b[0m     expr_loss, loss, accuracy, masked_acc, masked_recall, masked_IQS \u001b[38;5;241m=\u001b[39m metrics\n\u001b[0;32m----> 3\u001b[0m     \u001b[38;5;28;01mreturn\u001b[39;00m \u001b[38;5;124mf\u001b[39m\u001b[38;5;124m'\u001b[39m\u001b[38;5;124mexpr_loss: \u001b[39m\u001b[38;5;132;01m{\u001b[39;00mexpr_loss\u001b[38;5;132;01m:\u001b[39;00m\u001b[38;5;124m.4\u001b[39m\u001b[38;5;132;01m}\u001b[39;00m\u001b[38;5;124m, loss: \u001b[39m\u001b[38;5;132;01m{\u001b[39;00mloss\u001b[38;5;132;01m:\u001b[39;00m\u001b[38;5;124m.4\u001b[39m\u001b[38;5;132;01m}\u001b[39;00m\u001b[38;5;124m, acc: \u001b[39m\u001b[38;5;132;01m{\u001b[39;00maccuracy\u001b[38;5;132;01m:\u001b[39;00m\u001b[38;5;124m.4\u001b[39m\u001b[38;5;132;01m}\u001b[39;00m\u001b[38;5;124m, masked acc: \u001b[39m\u001b[38;5;132;01m{\u001b[39;00mmasked_acc\u001b[38;5;132;01m:\u001b[39;00m\u001b[38;5;124m.4\u001b[39m\u001b[38;5;132;01m}\u001b[39;00m\u001b[38;5;124m, \u001b[39m\u001b[38;5;132;01m{\u001b[39;00mmisc\u001b[38;5;241m.\u001b[39mprint_class_recall(masked_recall,\u001b[38;5;250m \u001b[39m\u001b[38;5;124m\"\u001b[39m\u001b[38;5;124mmasked recall: \u001b[39m\u001b[38;5;124m\"\u001b[39m)\u001b[38;5;132;01m}\u001b[39;00m\u001b[38;5;124m, masked IQS: \u001b[39m\u001b[38;5;132;01m{\u001b[39;00mmasked_IQS\u001b[38;5;132;01m:\u001b[39;00m\u001b[38;5;124m.4\u001b[39m\u001b[38;5;132;01m}\u001b[39;00m\u001b[38;5;124m'\u001b[39m\n",
      "File \u001b[0;32m~/miniconda3/envs/sysgen_proj/lib/python3.11/site-packages/torch/_tensor.py:934\u001b[0m, in \u001b[0;36mTensor.__format__\u001b[0;34m(self, format_spec)\u001b[0m\n\u001b[1;32m    932\u001b[0m \u001b[38;5;28;01mif\u001b[39;00m \u001b[38;5;28mself\u001b[39m\u001b[38;5;241m.\u001b[39mdim() \u001b[38;5;241m==\u001b[39m \u001b[38;5;241m0\u001b[39m \u001b[38;5;129;01mand\u001b[39;00m \u001b[38;5;129;01mnot\u001b[39;00m \u001b[38;5;28mself\u001b[39m\u001b[38;5;241m.\u001b[39mis_meta \u001b[38;5;129;01mand\u001b[39;00m \u001b[38;5;28mtype\u001b[39m(\u001b[38;5;28mself\u001b[39m) \u001b[38;5;129;01mis\u001b[39;00m Tensor:\n\u001b[1;32m    933\u001b[0m     \u001b[38;5;28;01mreturn\u001b[39;00m \u001b[38;5;28mself\u001b[39m\u001b[38;5;241m.\u001b[39mitem()\u001b[38;5;241m.\u001b[39m\u001b[38;5;21m__format__\u001b[39m(format_spec)\n\u001b[0;32m--> 934\u001b[0m \u001b[38;5;28;01mreturn\u001b[39;00m \u001b[38;5;28;43mobject\u001b[39;49m\u001b[38;5;241;43m.\u001b[39;49m\u001b[38;5;21;43m__format__\u001b[39;49m\u001b[43m(\u001b[49m\u001b[38;5;28;43mself\u001b[39;49m\u001b[43m,\u001b[49m\u001b[43m \u001b[49m\u001b[43mformat_spec\u001b[49m\u001b[43m)\u001b[49m\n",
      "\u001b[0;31mTypeError\u001b[0m: unsupported format string passed to Tensor.__format__"
     ]
    }
   ],
   "source": [
    "test_metrics = (\n",
    "    torch.Tensor([0.1]),\n",
    "    torch.Tensor([0.1]),\n",
    "    torch.Tensor([0.1]),\n",
    "    torch.Tensor([0.1]),\n",
    "    torch.Tensor([0.1]),\n",
    "    torch.Tensor([0.1])\n",
    ")\n",
    "metrics_to_str(test_metrics)"
   ]
  },
  {
   "cell_type": "code",
   "execution_count": 44,
   "metadata": {},
   "outputs": [
    {
     "name": "stderr",
     "output_type": "stream",
     "text": [
      "Failed to detect the name of this notebook, you can set it manually with the WANDB_NOTEBOOK_NAME environment variable to enable code saving.\n",
      "\u001b[34m\u001b[1mwandb\u001b[0m: Currently logged in as: \u001b[33mjokpro\u001b[0m (\u001b[33mcmm-t1\u001b[0m). Use \u001b[1m`wandb login --relogin`\u001b[0m to force relogin\n"
     ]
    },
    {
     "data": {
      "text/html": [
       "Tracking run with wandb version 0.16.1"
      ],
      "text/plain": [
       "<IPython.core.display.HTML object>"
      ]
     },
     "metadata": {},
     "output_type": "display_data"
    },
    {
     "data": {
      "text/html": [
       "Run data is saved locally in <code>/home/klumpi/Uni/courses/SysGen/lm-eqtl/model/my_notebooks/wandb/run-20240105_003003-7jzbdl7r</code>"
      ],
      "text/plain": [
       "<IPython.core.display.HTML object>"
      ]
     },
     "metadata": {},
     "output_type": "display_data"
    },
    {
     "data": {
      "text/html": [
       "Syncing run <strong><a href='https://wandb.ai/cmm-t1/lm-eqtl/runs/7jzbdl7r' target=\"_blank\">soft-shadow-1</a></strong> to <a href='https://wandb.ai/cmm-t1/lm-eqtl' target=\"_blank\">Weights & Biases</a> (<a href='https://wandb.me/run' target=\"_blank\">docs</a>)<br/>"
      ],
      "text/plain": [
       "<IPython.core.display.HTML object>"
      ]
     },
     "metadata": {},
     "output_type": "display_data"
    },
    {
     "data": {
      "text/html": [
       " View project at <a href='https://wandb.ai/cmm-t1/lm-eqtl' target=\"_blank\">https://wandb.ai/cmm-t1/lm-eqtl</a>"
      ],
      "text/plain": [
       "<IPython.core.display.HTML object>"
      ]
     },
     "metadata": {},
     "output_type": "display_data"
    },
    {
     "data": {
      "text/html": [
       " View run at <a href='https://wandb.ai/cmm-t1/lm-eqtl/runs/7jzbdl7r' target=\"_blank\">https://wandb.ai/cmm-t1/lm-eqtl/runs/7jzbdl7r</a>"
      ],
      "text/plain": [
       "<IPython.core.display.HTML object>"
      ]
     },
     "metadata": {},
     "output_type": "display_data"
    },
    {
     "data": {
      "text/html": [
       "<button onClick=\"this.nextSibling.style.display='block';this.style.display='none';\">Display W&B run</button><iframe src='https://wandb.ai/cmm-t1/lm-eqtl/runs/7jzbdl7r?jupyter=true' style='border:none;width:100%;height:420px;display:none;'></iframe>"
      ],
      "text/plain": [
       "<wandb.sdk.wandb_run.Run at 0x7f1493ab1fd0>"
      ]
     },
     "execution_count": 44,
     "metadata": {},
     "output_type": "execute_result"
    }
   ],
   "source": [
    "wandb.init(project=\"lm-eqtl\")"
   ]
  },
  {
   "cell_type": "code",
   "execution_count": 45,
   "metadata": {},
   "outputs": [
    {
     "name": "stdout",
     "output_type": "stream",
     "text": [
      "Total samples in train set:  5130\n",
      "EPOCH 1: Training...\n"
     ]
    },
    {
     "name": "stderr",
     "output_type": "stream",
     "text": [
      "/home/klumpi/miniconda3/envs/sysgen_proj/lib/python3.11/site-packages/torch/nn/functional.py:1352: UserWarning: dropout2d: Received a 3D input to dropout2d and assuming that channel-wise 1D dropout behavior is desired - input is interpreted as shape (N, C, L), where C is the channel dim. This behavior will change in a future release to interpret the input as one without a batch dimension, i.e. shape (C, H, W). To maintain the 1D channel-wise dropout behavior, please switch to using dropout1d instead.\n",
      "  warnings.warn(\"dropout2d: Received a 3D input to dropout2d and assuming that channel-wise \"\n",
      "/home/klumpi/miniconda3/envs/sysgen_proj/lib/python3.11/site-packages/torch/nn/modules/loss.py:535: UserWarning: Using a target size (torch.Size([4])) that is different to the input size (torch.Size([4, 1])). This will likely lead to incorrect results due to broadcasting. Please ensure they have the same size.\n",
      "  return F.mse_loss(input, target, reduction=self.reduction)\n",
      "loss: 7.716e+03, acc: 0.4761, masked recall: R=nan;A=nan;AVG=nan, masked acc: nan, masked IQS: nan, loss: nan:  19%|██████████████████████████████████████████████████████████████████████████████████████████████████████████████▊                                                                                                                                                                                                                                                                                                                                                                                                                                                                                                      | 476/2565 [15:06<1:06:18,  1.90s/it]\n"
     ]
    },
    {
     "ename": "KeyboardInterrupt",
     "evalue": "",
     "output_type": "error",
     "traceback": [
      "\u001b[0;31m---------------------------------------------------------------------------\u001b[0m",
      "\u001b[0;31mKeyboardInterrupt\u001b[0m                         Traceback (most recent call last)",
      "Cell \u001b[0;32mIn[45], line 32\u001b[0m\n\u001b[1;32m     26\u001b[0m \u001b[38;5;66;03m#if input_params.masking == 'stratified_maf':\u001b[39;00m\n\u001b[1;32m     27\u001b[0m \n\u001b[1;32m     28\u001b[0m \u001b[38;5;66;03m#    meta = get_random_mask()\u001b[39;00m\n\u001b[1;32m     30\u001b[0m train_dataset\u001b[38;5;241m.\u001b[39mseq_df \u001b[38;5;241m=\u001b[39m train_df[train_df\u001b[38;5;241m.\u001b[39mtrain_fold \u001b[38;5;241m==\u001b[39m (epoch\u001b[38;5;241m-\u001b[39m\u001b[38;5;241m1\u001b[39m) \u001b[38;5;241m%\u001b[39m input_params\u001b[38;5;241m.\u001b[39mtrain_splits]\n\u001b[0;32m---> 32\u001b[0m train_metrics \u001b[38;5;241m=\u001b[39m \u001b[43mtrain_reg_model\u001b[49m\u001b[43m(\u001b[49m\u001b[43mmodel\u001b[49m\u001b[43m,\u001b[49m\u001b[43m \u001b[49m\u001b[43moptimizer\u001b[49m\u001b[43m,\u001b[49m\u001b[43m \u001b[49m\u001b[43mtrain_dataloader\u001b[49m\u001b[43m,\u001b[49m\u001b[43m \u001b[49m\u001b[43mdevice\u001b[49m\u001b[43m,\u001b[49m\n\u001b[1;32m     33\u001b[0m \u001b[43m                    \u001b[49m\u001b[43msilent\u001b[49m\u001b[43m \u001b[49m\u001b[38;5;241;43m=\u001b[39;49m\u001b[43m \u001b[49m\u001b[38;5;28;43;01mFalse\u001b[39;49;00m\u001b[43m)\u001b[49m\n\u001b[1;32m     35\u001b[0m \u001b[38;5;66;03m# print(f'epoch {epoch} - train, {metrics_to_str(train_metrics)}')\u001b[39;00m\n\u001b[1;32m     37\u001b[0m \u001b[38;5;28;01mif\u001b[39;00m epoch \u001b[38;5;129;01min\u001b[39;00m input_params\u001b[38;5;241m.\u001b[39msave_at: \u001b[38;5;66;03m#save model weights\u001b[39;00m\n",
      "Cell \u001b[0;32mIn[42], line 32\u001b[0m, in \u001b[0;36mtrain_reg_model\u001b[0;34m(model, optimizer, dataloader, device, silent)\u001b[0m\n\u001b[1;32m     29\u001b[0m targets_masked \u001b[38;5;241m=\u001b[39m targets_masked\u001b[38;5;241m.\u001b[39mto(device)\n\u001b[1;32m     30\u001b[0m targets \u001b[38;5;241m=\u001b[39m targets\u001b[38;5;241m.\u001b[39mto(device)\n\u001b[0;32m---> 32\u001b[0m logits, _, expr_pred \u001b[38;5;241m=\u001b[39m \u001b[43mmodel\u001b[49m\u001b[43m(\u001b[49m\u001b[43mmasked_sequence\u001b[49m\u001b[43m,\u001b[49m\u001b[43m \u001b[49m\u001b[43mspecies_label\u001b[49m\u001b[43m)\u001b[49m\n\u001b[1;32m     34\u001b[0m masked_loss \u001b[38;5;241m=\u001b[39m criterion(logits, targets_masked)\n\u001b[1;32m     35\u001b[0m expr_loss \u001b[38;5;241m=\u001b[39m reg_criterion(expr_pred, expr)\n",
      "File \u001b[0;32m~/miniconda3/envs/sysgen_proj/lib/python3.11/site-packages/torch/nn/modules/module.py:1518\u001b[0m, in \u001b[0;36mModule._wrapped_call_impl\u001b[0;34m(self, *args, **kwargs)\u001b[0m\n\u001b[1;32m   1516\u001b[0m     \u001b[38;5;28;01mreturn\u001b[39;00m \u001b[38;5;28mself\u001b[39m\u001b[38;5;241m.\u001b[39m_compiled_call_impl(\u001b[38;5;241m*\u001b[39margs, \u001b[38;5;241m*\u001b[39m\u001b[38;5;241m*\u001b[39mkwargs)  \u001b[38;5;66;03m# type: ignore[misc]\u001b[39;00m\n\u001b[1;32m   1517\u001b[0m \u001b[38;5;28;01melse\u001b[39;00m:\n\u001b[0;32m-> 1518\u001b[0m     \u001b[38;5;28;01mreturn\u001b[39;00m \u001b[38;5;28;43mself\u001b[39;49m\u001b[38;5;241;43m.\u001b[39;49m\u001b[43m_call_impl\u001b[49m\u001b[43m(\u001b[49m\u001b[38;5;241;43m*\u001b[39;49m\u001b[43margs\u001b[49m\u001b[43m,\u001b[49m\u001b[43m \u001b[49m\u001b[38;5;241;43m*\u001b[39;49m\u001b[38;5;241;43m*\u001b[39;49m\u001b[43mkwargs\u001b[49m\u001b[43m)\u001b[49m\n",
      "File \u001b[0;32m~/miniconda3/envs/sysgen_proj/lib/python3.11/site-packages/torch/nn/modules/module.py:1527\u001b[0m, in \u001b[0;36mModule._call_impl\u001b[0;34m(self, *args, **kwargs)\u001b[0m\n\u001b[1;32m   1522\u001b[0m \u001b[38;5;66;03m# If we don't have any hooks, we want to skip the rest of the logic in\u001b[39;00m\n\u001b[1;32m   1523\u001b[0m \u001b[38;5;66;03m# this function, and just call forward.\u001b[39;00m\n\u001b[1;32m   1524\u001b[0m \u001b[38;5;28;01mif\u001b[39;00m \u001b[38;5;129;01mnot\u001b[39;00m (\u001b[38;5;28mself\u001b[39m\u001b[38;5;241m.\u001b[39m_backward_hooks \u001b[38;5;129;01mor\u001b[39;00m \u001b[38;5;28mself\u001b[39m\u001b[38;5;241m.\u001b[39m_backward_pre_hooks \u001b[38;5;129;01mor\u001b[39;00m \u001b[38;5;28mself\u001b[39m\u001b[38;5;241m.\u001b[39m_forward_hooks \u001b[38;5;129;01mor\u001b[39;00m \u001b[38;5;28mself\u001b[39m\u001b[38;5;241m.\u001b[39m_forward_pre_hooks\n\u001b[1;32m   1525\u001b[0m         \u001b[38;5;129;01mor\u001b[39;00m _global_backward_pre_hooks \u001b[38;5;129;01mor\u001b[39;00m _global_backward_hooks\n\u001b[1;32m   1526\u001b[0m         \u001b[38;5;129;01mor\u001b[39;00m _global_forward_hooks \u001b[38;5;129;01mor\u001b[39;00m _global_forward_pre_hooks):\n\u001b[0;32m-> 1527\u001b[0m     \u001b[38;5;28;01mreturn\u001b[39;00m \u001b[43mforward_call\u001b[49m\u001b[43m(\u001b[49m\u001b[38;5;241;43m*\u001b[39;49m\u001b[43margs\u001b[49m\u001b[43m,\u001b[49m\u001b[43m \u001b[49m\u001b[38;5;241;43m*\u001b[39;49m\u001b[38;5;241;43m*\u001b[39;49m\u001b[43mkwargs\u001b[49m\u001b[43m)\u001b[49m\n\u001b[1;32m   1529\u001b[0m \u001b[38;5;28;01mtry\u001b[39;00m:\n\u001b[1;32m   1530\u001b[0m     result \u001b[38;5;241m=\u001b[39m \u001b[38;5;28;01mNone\u001b[39;00m\n",
      "File \u001b[0;32m~/Uni/courses/SysGen/lm-eqtl/model/my_notebooks/../models/spec_dss.py:410\u001b[0m, in \u001b[0;36mDSSResNetExpression.forward\u001b[0;34m(self, x, xs)\u001b[0m\n\u001b[1;32m    407\u001b[0m u \u001b[38;5;241m=\u001b[39m x\n\u001b[1;32m    408\u001b[0m x \u001b[38;5;241m=\u001b[39m \u001b[38;5;28mself\u001b[39m\u001b[38;5;241m.\u001b[39mencoder(x)  \u001b[38;5;66;03m# (B, d_input, L) -> (B, d_model, L)\u001b[39;00m\n\u001b[0;32m--> 410\u001b[0m \u001b[38;5;28;01mif\u001b[39;00m \u001b[38;5;28many\u001b[39m(torch\u001b[38;5;241m.\u001b[39misnan(x)\u001b[38;5;241m.\u001b[39mflatten()):\n\u001b[1;32m    411\u001b[0m     debug_data \u001b[38;5;241m=\u001b[39m {\n\u001b[1;32m    412\u001b[0m         \u001b[38;5;124m\"\u001b[39m\u001b[38;5;124mpre_encoder\u001b[39m\u001b[38;5;124m\"\u001b[39m: u, \n\u001b[1;32m    413\u001b[0m         \u001b[38;5;124m\"\u001b[39m\u001b[38;5;124mpost_encoder\u001b[39m\u001b[38;5;124m\"\u001b[39m: x, \n\u001b[1;32m    414\u001b[0m         \u001b[38;5;124m\"\u001b[39m\u001b[38;5;124mencoder\u001b[39m\u001b[38;5;124m\"\u001b[39m: \u001b[38;5;28mself\u001b[39m\u001b[38;5;241m.\u001b[39mencoder\n\u001b[1;32m    415\u001b[0m     }\n\u001b[1;32m    416\u001b[0m     \u001b[38;5;28;01mwith\u001b[39;00m \u001b[38;5;28mopen\u001b[39m(\u001b[38;5;124m\"\u001b[39m\u001b[38;5;124mdebug.pkl\u001b[39m\u001b[38;5;124m\"\u001b[39m, \u001b[38;5;124m\"\u001b[39m\u001b[38;5;124mwb\u001b[39m\u001b[38;5;124m\"\u001b[39m) \u001b[38;5;28;01mas\u001b[39;00m f:\n",
      "File \u001b[0;32m~/miniconda3/envs/sysgen_proj/lib/python3.11/site-packages/torch/_tensor.py:1000\u001b[0m, in \u001b[0;36mTensor.__iter__\u001b[0;34m(self)\u001b[0m\n\u001b[1;32m    991\u001b[0m \u001b[38;5;28;01mif\u001b[39;00m torch\u001b[38;5;241m.\u001b[39m_C\u001b[38;5;241m.\u001b[39m_get_tracing_state():\n\u001b[1;32m    992\u001b[0m     warnings\u001b[38;5;241m.\u001b[39mwarn(\n\u001b[1;32m    993\u001b[0m         \u001b[38;5;124m\"\u001b[39m\u001b[38;5;124mIterating over a tensor might cause the trace to be incorrect. \u001b[39m\u001b[38;5;124m\"\u001b[39m\n\u001b[1;32m    994\u001b[0m         \u001b[38;5;124m\"\u001b[39m\u001b[38;5;124mPassing a tensor of different shape won\u001b[39m\u001b[38;5;124m'\u001b[39m\u001b[38;5;124mt change the number of \u001b[39m\u001b[38;5;124m\"\u001b[39m\n\u001b[0;32m   (...)\u001b[0m\n\u001b[1;32m    998\u001b[0m         stacklevel\u001b[38;5;241m=\u001b[39m\u001b[38;5;241m2\u001b[39m,\n\u001b[1;32m    999\u001b[0m     )\n\u001b[0;32m-> 1000\u001b[0m \u001b[38;5;28;01mreturn\u001b[39;00m \u001b[38;5;28miter\u001b[39m(\u001b[38;5;28;43mself\u001b[39;49m\u001b[38;5;241;43m.\u001b[39;49m\u001b[43munbind\u001b[49m\u001b[43m(\u001b[49m\u001b[38;5;241;43m0\u001b[39;49m\u001b[43m)\u001b[49m)\n",
      "\u001b[0;31mKeyboardInterrupt\u001b[0m: "
     ]
    }
   ],
   "source": [
    "from helpers import misc\n",
    "import wandb\n",
    "\n",
    "from IPython.display import clear_output\n",
    "last_epoch = 0\n",
    "\n",
    "clear_output()\n",
    "\n",
    "with open(\"train_dataloader.pkl\", \"wb\") as f:\n",
    "    pickle.dump(train_dataloader, f)\n",
    "with open(\"test_dataloader.pkl\", \"wb\") as f:\n",
    "    pickle.dump(test_dataloader, f)\n",
    "\n",
    "#from helpers.misc import print    #print function that displays time\n",
    "    \n",
    "wandb.watch(model, log_freq=100)\n",
    "\n",
    "if not input_params.test:\n",
    "\n",
    "    print(\"Total samples in train set: \", len(train_df))\n",
    "\n",
    "    for epoch in range(last_epoch+1, input_params.tot_epochs+1):\n",
    "\n",
    "        print(f'EPOCH {epoch}: Training...')\n",
    "\n",
    "        #if input_params.masking == 'stratified_maf':\n",
    "\n",
    "        #    meta = get_random_mask()\n",
    "\n",
    "        train_dataset.seq_df = train_df[train_df.train_fold == (epoch-1) % input_params.train_splits]\n",
    "\n",
    "        train_metrics = train_reg_model(model, optimizer, train_dataloader, device,\n",
    "                            silent = False)\n",
    "            \n",
    "        # print(f'epoch {epoch} - train, {metrics_to_str(train_metrics)}')\n",
    "\n",
    "        if epoch in input_params.save_at: #save model weights\n",
    "\n",
    "            misc.save_model_weights(model, optimizer, weights_dir, epoch)\n",
    "\n",
    "        # if test_df is not None  and ( epoch==input_params.tot_epochs or\n",
    "        #                     (input_params.validate_every and epoch%input_params.validate_every==0)):\n",
    "\n",
    "        #     print(f'EPOCH {epoch}: Validating...')\n",
    "\n",
    "        #     val_metrics, *_ =  train_eval.model_eval(model, optimizer, test_dataloader, device,\n",
    "        #             silent = False)\n",
    "\n",
    "        #     print(f'epoch {epoch} - validation, {metrics_to_str(val_metrics)}')\n",
    "            \n",
    "        #lr_scheduler.step()\n",
    "else:\n",
    "\n",
    "    print(f'EPOCH {last_epoch}: Test/Inference...')\n",
    "\n",
    "    test_metrics, test_embeddings, motif_probas =  train_eval.model_eval(model, test_dataloader, device, \n",
    "                                                          get_embeddings = input_params.get_embeddings, diploid=input_params.diploid,\n",
    "                                                          silent = False)\n",
    "    \n",
    "    \n",
    "\n",
    "    print(f'epoch {last_epoch} - test, {metrics_to_str(test_metrics)}')\n",
    "\n",
    "    if input_params.get_embeddings:\n",
    "        \n",
    "        os.makedirs(input_params.output_dir, exist_ok = True)\n",
    "\n",
    "        with open(input_params.output_dir + '/embeddings.pickle', 'wb') as f:\n",
    "            #test_embeddings = np.vstack(test_embeddings)\n",
    "            #np.save(f,test_embeddings)\n",
    "            pickle.dump(test_embeddings,f)\n",
    "            #pickle.dump(seq_df.seq_name.tolist(),f)\n",
    "            \n",
    "print()\n",
    "print(f'peak GPU memory allocation: {round(torch.cuda.max_memory_allocated(device)/1024/1024)} Mb')\n",
    "print('Done')"
   ]
  },
  {
   "cell_type": "code",
   "execution_count": 66,
   "metadata": {},
   "outputs": [],
   "source": [
    "with open(\"debug.pkl\", \"rb\") as f: \n",
    "    debug_data = pickle.load(f)\n",
    "    pre_encoder = debug_data[\"pre_encoder\"]\n",
    "    post_encoder = debug_data[\"post_encoder\"]\n",
    "    encoder = debug_data[\"encoder\"]\n",
    "\n",
    "with open(\"debug_x.pkl\", \"rb\") as f: \n",
    "    test_x = pickle.load(f)"
   ]
  },
  {
   "cell_type": "code",
   "execution_count": 62,
   "metadata": {},
   "outputs": [],
   "source": [
    "random_x = torch.Tensor(np.random.randint(0, 2, size=pre_encoder.shape))\n"
   ]
  },
  {
   "cell_type": "code",
   "execution_count": 63,
   "metadata": {},
   "outputs": [
    {
     "data": {
      "text/plain": [
       "torch.Size([8, 3, 500])"
      ]
     },
     "execution_count": 63,
     "metadata": {},
     "output_type": "execute_result"
    }
   ],
   "source": [
    "random_x.shape"
   ]
  },
  {
   "cell_type": "code",
   "execution_count": 67,
   "metadata": {},
   "outputs": [
    {
     "data": {
      "text/plain": [
       "tensor([[[nan, nan, nan,  ..., nan, nan, nan],\n",
       "         [nan, nan, nan,  ..., nan, nan, nan],\n",
       "         [nan, nan, nan,  ..., nan, nan, nan],\n",
       "         ...,\n",
       "         [nan, nan, nan,  ..., nan, nan, nan],\n",
       "         [nan, nan, nan,  ..., nan, nan, nan],\n",
       "         [nan, nan, nan,  ..., nan, nan, nan]],\n",
       "\n",
       "        [[nan, nan, nan,  ..., nan, nan, nan],\n",
       "         [nan, nan, nan,  ..., nan, nan, nan],\n",
       "         [nan, nan, nan,  ..., nan, nan, nan],\n",
       "         ...,\n",
       "         [nan, nan, nan,  ..., nan, nan, nan],\n",
       "         [nan, nan, nan,  ..., nan, nan, nan],\n",
       "         [nan, nan, nan,  ..., nan, nan, nan]],\n",
       "\n",
       "        [[nan, nan, nan,  ..., nan, nan, nan],\n",
       "         [nan, nan, nan,  ..., nan, nan, nan],\n",
       "         [nan, nan, nan,  ..., nan, nan, nan],\n",
       "         ...,\n",
       "         [nan, nan, nan,  ..., nan, nan, nan],\n",
       "         [nan, nan, nan,  ..., nan, nan, nan],\n",
       "         [nan, nan, nan,  ..., nan, nan, nan]],\n",
       "\n",
       "        ...,\n",
       "\n",
       "        [[nan, nan, nan,  ..., nan, nan, nan],\n",
       "         [nan, nan, nan,  ..., nan, nan, nan],\n",
       "         [nan, nan, nan,  ..., nan, nan, nan],\n",
       "         ...,\n",
       "         [nan, nan, nan,  ..., nan, nan, nan],\n",
       "         [nan, nan, nan,  ..., nan, nan, nan],\n",
       "         [nan, nan, nan,  ..., nan, nan, nan]],\n",
       "\n",
       "        [[nan, nan, nan,  ..., nan, nan, nan],\n",
       "         [nan, nan, nan,  ..., nan, nan, nan],\n",
       "         [nan, nan, nan,  ..., nan, nan, nan],\n",
       "         ...,\n",
       "         [nan, nan, nan,  ..., nan, nan, nan],\n",
       "         [nan, nan, nan,  ..., nan, nan, nan],\n",
       "         [nan, nan, nan,  ..., nan, nan, nan]],\n",
       "\n",
       "        [[nan, nan, nan,  ..., nan, nan, nan],\n",
       "         [nan, nan, nan,  ..., nan, nan, nan],\n",
       "         [nan, nan, nan,  ..., nan, nan, nan],\n",
       "         ...,\n",
       "         [nan, nan, nan,  ..., nan, nan, nan],\n",
       "         [nan, nan, nan,  ..., nan, nan, nan],\n",
       "         [nan, nan, nan,  ..., nan, nan, nan]]],\n",
       "       grad_fn=<ConvolutionBackward0>)"
      ]
     },
     "execution_count": 67,
     "metadata": {},
     "output_type": "execute_result"
    }
   ],
   "source": [
    "encoder(test_x)"
   ]
  },
  {
   "cell_type": "code",
   "execution_count": 69,
   "metadata": {},
   "outputs": [
    {
     "data": {
      "text/plain": [
       "Parameter containing:\n",
       "tensor([[[nan, nan, nan,  ..., nan, nan, nan],\n",
       "         [nan, nan, nan,  ..., nan, nan, nan],\n",
       "         [nan, nan, nan,  ..., nan, nan, nan]],\n",
       "\n",
       "        [[nan, nan, nan,  ..., nan, nan, nan],\n",
       "         [nan, nan, nan,  ..., nan, nan, nan],\n",
       "         [nan, nan, nan,  ..., nan, nan, nan]],\n",
       "\n",
       "        [[nan, nan, nan,  ..., nan, nan, nan],\n",
       "         [nan, nan, nan,  ..., nan, nan, nan],\n",
       "         [nan, nan, nan,  ..., nan, nan, nan]],\n",
       "\n",
       "        ...,\n",
       "\n",
       "        [[nan, nan, nan,  ..., nan, nan, nan],\n",
       "         [nan, nan, nan,  ..., nan, nan, nan],\n",
       "         [nan, nan, nan,  ..., nan, nan, nan]],\n",
       "\n",
       "        [[nan, nan, nan,  ..., nan, nan, nan],\n",
       "         [nan, nan, nan,  ..., nan, nan, nan],\n",
       "         [nan, nan, nan,  ..., nan, nan, nan]],\n",
       "\n",
       "        [[nan, nan, nan,  ..., nan, nan, nan],\n",
       "         [nan, nan, nan,  ..., nan, nan, nan],\n",
       "         [nan, nan, nan,  ..., nan, nan, nan]]], requires_grad=True)"
      ]
     },
     "execution_count": 69,
     "metadata": {},
     "output_type": "execute_result"
    }
   ],
   "source": [
    "encoder"
   ]
  },
  {
   "cell_type": "code",
   "execution_count": 9,
   "metadata": {},
   "outputs": [],
   "source": [
    "from torch.functional import F"
   ]
  },
  {
   "cell_type": "code",
   "execution_count": 22,
   "metadata": {},
   "outputs": [
    {
     "data": {
      "text/plain": [
       "torch.Size([16, 256, 510])"
      ]
     },
     "execution_count": 22,
     "metadata": {},
     "output_type": "execute_result"
    }
   ],
   "source": [
    "weights = torch.randn(256, 3, 5)\n",
    "F.conv1d(debug_x, weights, padding=int((15-1)/2)).shape"
   ]
  },
  {
   "cell_type": "code",
   "execution_count": 24,
   "metadata": {},
   "outputs": [],
   "source": [
    "\n",
    "conv = nn.Conv1d(in_channels=3,out_channels=256,padding=int((15-1)/2),kernel_size=15,bias=True)"
   ]
  },
  {
   "cell_type": "code",
   "execution_count": 21,
   "metadata": {},
   "outputs": [
    {
     "data": {
      "text/plain": [
       "torch.Size([256, 16, 5])"
      ]
     },
     "execution_count": 21,
     "metadata": {},
     "output_type": "execute_result"
    }
   ],
   "source": [
    "torch.randn(256, 16, 5).shape"
   ]
  },
  {
   "cell_type": "code",
   "execution_count": 27,
   "metadata": {},
   "outputs": [
    {
     "data": {
      "text/plain": [
       "tensor([[[-0.2720, -0.0660,  0.0992,  ...,  0.0964,  0.0253,  0.0646],\n",
       "         [-0.2971, -0.0209, -0.0725,  ..., -0.3556, -0.1917,  0.2895],\n",
       "         [ 0.0270,  0.4130,  0.6566,  ..., -0.1245,  0.0718, -0.0956],\n",
       "         ...,\n",
       "         [-0.3847, -0.7098, -0.5146,  ...,  0.3219, -0.2450, -0.2260],\n",
       "         [ 0.2712,  0.2367,  0.0239,  ...,  0.1905,  0.0729, -0.2356],\n",
       "         [-0.0473,  0.0387, -0.3265,  ..., -0.0301,  0.1991, -0.1900]],\n",
       "\n",
       "        [[-0.2720, -0.0660,  0.0992,  ...,  0.0964,  0.0253,  0.0646],\n",
       "         [-0.2971, -0.0209, -0.0725,  ..., -0.3556, -0.1917,  0.2895],\n",
       "         [ 0.0270,  0.4130,  0.6566,  ..., -0.1245,  0.0718, -0.0956],\n",
       "         ...,\n",
       "         [-0.3847, -0.7098, -0.5146,  ...,  0.3219, -0.2450, -0.2260],\n",
       "         [ 0.2712,  0.2367,  0.0239,  ...,  0.1905,  0.0729, -0.2356],\n",
       "         [-0.0473,  0.0387, -0.3265,  ..., -0.0301,  0.1991, -0.1900]],\n",
       "\n",
       "        [[-0.0770, -0.0696,  0.0272,  ..., -0.0732,  0.0342,  0.0115],\n",
       "         [-0.0332, -0.0268,  0.0296,  ...,  0.1164,  0.2258,  0.0837],\n",
       "         [ 0.2843,  0.3851,  0.5190,  ...,  0.2557,  0.1937,  0.2098],\n",
       "         ...,\n",
       "         [-0.7056, -0.6258, -0.7510,  ..., -0.2571, -0.1684, -0.1131],\n",
       "         [ 0.3735,  0.3892,  0.3428,  ...,  0.5085,  0.4613,  0.3658],\n",
       "         [-0.2769, -0.2281, -0.2454,  ...,  0.0971, -0.0018,  0.1128]],\n",
       "\n",
       "        ...,\n",
       "\n",
       "        [[-0.0770, -0.0696,  0.0272,  ...,  0.0678, -0.1080,  0.1695],\n",
       "         [-0.0332, -0.0268,  0.0296,  ..., -0.2782,  0.1319,  0.1360],\n",
       "         [ 0.2843,  0.3851,  0.5190,  ...,  0.1634, -0.2471,  0.3218],\n",
       "         ...,\n",
       "         [-0.7056, -0.6258, -0.7510,  ..., -0.1875, -0.0209, -0.4050],\n",
       "         [ 0.3735,  0.3892,  0.3428,  ...,  0.1570,  0.1476, -0.2318],\n",
       "         [-0.2769, -0.2281, -0.2454,  ...,  0.3326, -0.0561, -0.0086]],\n",
       "\n",
       "        [[-0.0581, -0.0219, -0.1155,  ..., -0.1003,  0.1641,  0.2216],\n",
       "         [-0.2413,  0.0985, -0.1246,  ...,  0.1467,  0.0095,  0.3346],\n",
       "         [ 0.0405,  0.1341,  0.5685,  ...,  0.3568,  0.2781,  0.1240],\n",
       "         ...,\n",
       "         [-0.3630, -0.6632, -0.6542,  ..., -0.0709, -0.2139, -0.1129],\n",
       "         [ 0.2486,  0.3856,  0.2302,  ...,  0.3293,  0.1644,  0.1701],\n",
       "         [-0.2115, -0.0681, -0.3861,  ...,  0.1423, -0.0449, -0.1348]],\n",
       "\n",
       "        [[-0.0770, -0.0696,  0.0272,  ...,  0.0678, -0.1080,  0.1695],\n",
       "         [-0.0332, -0.0268,  0.0296,  ..., -0.2782,  0.1319,  0.1360],\n",
       "         [ 0.2843,  0.3851,  0.5190,  ...,  0.1634, -0.2471,  0.3218],\n",
       "         ...,\n",
       "         [-0.7056, -0.6258, -0.7510,  ..., -0.1875, -0.0209, -0.4050],\n",
       "         [ 0.3735,  0.3892,  0.3428,  ...,  0.1570,  0.1476, -0.2318],\n",
       "         [-0.2769, -0.2281, -0.2454,  ...,  0.3326, -0.0561, -0.0086]]],\n",
       "       grad_fn=<ConvolutionBackward0>)"
      ]
     },
     "execution_count": 27,
     "metadata": {},
     "output_type": "execute_result"
    }
   ],
   "source": [
    "conv(debug_x)"
   ]
  },
  {
   "cell_type": "code",
   "execution_count": null,
   "metadata": {},
   "outputs": [
    {
     "name": "stdout",
     "output_type": "stream",
     "text": [
      "With loaded model weights:\n",
      "Using GPU...\n"
     ]
    },
    {
     "ename": "RuntimeError",
     "evalue": "Error(s) in loading state_dict for DSSResNetExpression:\n\tMissing key(s) in state_dict: \"regression_head.0.weight\", \"regression_head.0.bias\", \"regression_head.2.weight\", \"regression_head.2.bias\", \"regression_head.4.weight\", \"regression_head.4.bias\". ",
     "output_type": "error",
     "traceback": [
      "\u001b[0;31m---------------------------------------------------------------------------\u001b[0m\n",
      "\u001b[0;31mRuntimeError\u001b[0m                              Traceback (most recent call last)\n",
      "Cell \u001b[0;32mIn[31], line 9\u001b[0m\n",
      "\u001b[1;32m      7\u001b[0m \u001b[38;5;28mprint\u001b[39m(\u001b[38;5;124m\"\u001b[39m\u001b[38;5;124mUsing GPU...\u001b[39m\u001b[38;5;124m\"\u001b[39m)\n",
      "\u001b[1;32m      8\u001b[0m \u001b[38;5;66;03m#load on gpu\u001b[39;00m\n",
      "\u001b[0;32m----> 9\u001b[0m \u001b[43mmodel\u001b[49m\u001b[38;5;241;43m.\u001b[39;49m\u001b[43mload_state_dict\u001b[49m\u001b[43m(\u001b[49m\u001b[43mtorch\u001b[49m\u001b[38;5;241;43m.\u001b[39;49m\u001b[43mload\u001b[49m\u001b[43m(\u001b[49m\u001b[43minput_params\u001b[49m\u001b[38;5;241;43m.\u001b[39;49m\u001b[43mmodel_weight\u001b[49m\u001b[43m)\u001b[49m\u001b[43m)\u001b[49m\n",
      "\u001b[1;32m     10\u001b[0m \u001b[38;5;28;01mif\u001b[39;00m input_params\u001b[38;5;241m.\u001b[39moptimizer_weight:\n",
      "\u001b[1;32m     11\u001b[0m     optimizer\u001b[38;5;241m.\u001b[39mload_state_dict(torch\u001b[38;5;241m.\u001b[39mload(input_params\u001b[38;5;241m.\u001b[39moptimizer_weight))\n",
      "\n",
      "File \u001b[0;32m~/miniconda3/envs/sysgen_proj/lib/python3.11/site-packages/torch/nn/modules/module.py:2152\u001b[0m, in \u001b[0;36mModule.load_state_dict\u001b[0;34m(self, state_dict, strict, assign)\u001b[0m\n",
      "\u001b[1;32m   2147\u001b[0m         error_msgs\u001b[38;5;241m.\u001b[39minsert(\n",
      "\u001b[1;32m   2148\u001b[0m             \u001b[38;5;241m0\u001b[39m, \u001b[38;5;124m'\u001b[39m\u001b[38;5;124mMissing key(s) in state_dict: \u001b[39m\u001b[38;5;132;01m{}\u001b[39;00m\u001b[38;5;124m. \u001b[39m\u001b[38;5;124m'\u001b[39m\u001b[38;5;241m.\u001b[39mformat(\n",
      "\u001b[1;32m   2149\u001b[0m                 \u001b[38;5;124m'\u001b[39m\u001b[38;5;124m, \u001b[39m\u001b[38;5;124m'\u001b[39m\u001b[38;5;241m.\u001b[39mjoin(\u001b[38;5;124mf\u001b[39m\u001b[38;5;124m'\u001b[39m\u001b[38;5;124m\"\u001b[39m\u001b[38;5;132;01m{\u001b[39;00mk\u001b[38;5;132;01m}\u001b[39;00m\u001b[38;5;124m\"\u001b[39m\u001b[38;5;124m'\u001b[39m \u001b[38;5;28;01mfor\u001b[39;00m k \u001b[38;5;129;01min\u001b[39;00m missing_keys)))\n",
      "\u001b[1;32m   2151\u001b[0m \u001b[38;5;28;01mif\u001b[39;00m \u001b[38;5;28mlen\u001b[39m(error_msgs) \u001b[38;5;241m>\u001b[39m \u001b[38;5;241m0\u001b[39m:\n",
      "\u001b[0;32m-> 2152\u001b[0m     \u001b[38;5;28;01mraise\u001b[39;00m \u001b[38;5;167;01mRuntimeError\u001b[39;00m(\u001b[38;5;124m'\u001b[39m\u001b[38;5;124mError(s) in loading state_dict for \u001b[39m\u001b[38;5;132;01m{}\u001b[39;00m\u001b[38;5;124m:\u001b[39m\u001b[38;5;130;01m\\n\u001b[39;00m\u001b[38;5;130;01m\\t\u001b[39;00m\u001b[38;5;132;01m{}\u001b[39;00m\u001b[38;5;124m'\u001b[39m\u001b[38;5;241m.\u001b[39mformat(\n",
      "\u001b[1;32m   2153\u001b[0m                        \u001b[38;5;28mself\u001b[39m\u001b[38;5;241m.\u001b[39m\u001b[38;5;18m__class__\u001b[39m\u001b[38;5;241m.\u001b[39m\u001b[38;5;18m__name__\u001b[39m, \u001b[38;5;124m\"\u001b[39m\u001b[38;5;130;01m\\n\u001b[39;00m\u001b[38;5;130;01m\\t\u001b[39;00m\u001b[38;5;124m\"\u001b[39m\u001b[38;5;241m.\u001b[39mjoin(error_msgs)))\n",
      "\u001b[1;32m   2154\u001b[0m \u001b[38;5;28;01mreturn\u001b[39;00m _IncompatibleKeys(missing_keys, unexpected_keys)\n",
      "\n",
      "\u001b[0;31mRuntimeError\u001b[0m: Error(s) in loading state_dict for DSSResNetExpression:\n",
      "\tMissing key(s) in state_dict: \"regression_head.0.weight\", \"regression_head.0.bias\", \"regression_head.2.weight\", \"regression_head.2.bias\", \"regression_head.4.weight\", \"regression_head.4.bias\". "
     ]
    }
   ],
   "source": [
    "last_epoch = 0\n",
    "\n",
    "if input_params.model_weight:\n",
    "    print(\"With loaded model weights:\")\n",
    "\n",
    "    if torch.cuda.is_available():\n",
    "        print(\"Using GPU...\")\n",
    "        #load on gpu\n",
    "        model.load_state_dict(torch.load(input_params.model_weight))\n",
    "        if input_params.optimizer_weight:\n",
    "            optimizer.load_state_dict(torch.load(input_params.optimizer_weight))\n",
    "    else:\n",
    "        #load on cpu\n",
    "        model.load_state_dict(torch.load(input_params.model_weight, map_location=torch.device('cpu')))\n",
    "        if input_params.optimizer_weight:\n",
    "            optimizer.load_state_dict(torch.load(input_params.optimizer_weight, map_location=torch.device('cpu')))\n",
    "\n",
    "    last_epoch = int(input_params.model_weight.split('_')[-3]) #infer previous epoch from input_params.model_weight\n",
    "\n",
    "weights_dir = os.path.join(input_params.output_dir, 'weights') #dir to save model weights at save_at epochs\n",
    "\n",
    "if input_params.save_at:\n",
    "    os.makedirs(weights_dir, exist_ok = True)\n",
    "\n",
    "#lr_scheduler = torch.optim.lr_scheduler.MultiStepLR(optimizer,\n",
    "#        milestones=input_params.lr_sch_milestones, gamma=input_params.lr_sch_gamma, verbose=False) "
   ]
  }
 ],
 "metadata": {
  "kernelspec": {
   "display_name": "sysgen_proj",
   "language": "python",
   "name": "python3"
  },
  "language_info": {
   "codemirror_mode": {
    "name": "ipython",
    "version": 3
   },
   "file_extension": ".py",
   "mimetype": "text/x-python",
   "name": "python",
   "nbconvert_exporter": "python",
   "pygments_lexer": "ipython3",
   "version": "3.11.5"
  }
 },
 "nbformat": 4,
 "nbformat_minor": 2
}
