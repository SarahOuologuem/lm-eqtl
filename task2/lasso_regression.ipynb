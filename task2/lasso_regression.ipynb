{
 "cells": [
  {
   "cell_type": "code",
   "execution_count": 1,
   "metadata": {},
   "outputs": [],
   "source": [
    "import numpy as np\n",
    "import pandas as pd\n",
    "from sklearn.linear_model import Lasso\n",
    "from sklearn.model_selection import train_test_split\n",
    "from sklearn.model_selection import RandomizedSearchCV\n",
    "from scipy.stats import uniform\n",
    "from sklearn.metrics import mean_squared_error\n",
    "import matplotlib.pyplot as plt\n",
    "import warnings\n",
    "warnings.filterwarnings(\"ignore\")\n",
    "import seaborn as sns "
   ]
  },
  {
   "cell_type": "markdown",
   "metadata": {},
   "source": [
    "# Lasso Regression"
   ]
  },
  {
   "cell_type": "markdown",
   "metadata": {},
   "source": [
    "<u> Parameters to tune: </u>\n",
    "- alpha non-negative float i.e. in [0, inf)"
   ]
  },
  {
   "cell_type": "markdown",
   "metadata": {},
   "source": [
    "Read in data: "
   ]
  },
  {
   "cell_type": "code",
   "execution_count": 2,
   "metadata": {},
   "outputs": [],
   "source": [
    "embeddings = pd.read_pickle('/vol/data/ouologuems/systems_genetics/data/datasets/phase3_top10/embeddings_complete.pickle') \n",
    "sample_id = []\n",
    "gene_id = []\n",
    "embedding = []\n",
    "for i in range(0, len(embeddings), 2):\n",
    "    sid = embeddings[i][0].split(':')[1]\n",
    "    gid = embeddings[i][0].split(':')[2]\n",
    "    sample_id.append(sid)\n",
    "    gene_id.append(gid)\n",
    "    combined_embedding = embeddings[i][1] + embeddings[i+1][1]  # sum embedding\n",
    "    embedding.append(combined_embedding)\n",
    "df = pd.DataFrame({\"sample_id\": sample_id, \"gene_id\": gene_id, \"embedding\": embedding})\n",
    "expression = pd.read_csv(\"/vol/data/ouologuems/systems_genetics/data/datasets/GD660.GeneQuantRPKM.txt\", sep=\"\\t\")\n",
    "expression = expression[expression[\"Gene_Symbol\"].isin(df[\"gene_id\"].values)]\n",
    "expression = pd.melt(expression, id_vars=[\"TargetID\", \"Gene_Symbol\", \"Chr\", \"Coord\"], var_name=\"sample_id\", value_name=\"expression\")\n",
    "expression[\"sample_id\"] = expression[\"sample_id\"].str.split(\".\", expand=True)[0]\n",
    "data = pd.merge(df, expression, left_on=[\"sample_id\", \"gene_id\"], right_on=[\"sample_id\", \"Gene_Symbol\"])"
   ]
  },
  {
   "cell_type": "code",
   "execution_count": 3,
   "metadata": {},
   "outputs": [
    {
     "data": {
      "text/html": [
       "<div>\n",
       "<style scoped>\n",
       "    .dataframe tbody tr th:only-of-type {\n",
       "        vertical-align: middle;\n",
       "    }\n",
       "\n",
       "    .dataframe tbody tr th {\n",
       "        vertical-align: top;\n",
       "    }\n",
       "\n",
       "    .dataframe thead th {\n",
       "        text-align: right;\n",
       "    }\n",
       "</style>\n",
       "<table border=\"1\" class=\"dataframe\">\n",
       "  <thead>\n",
       "    <tr style=\"text-align: right;\">\n",
       "      <th></th>\n",
       "      <th>sample_id</th>\n",
       "      <th>gene_id</th>\n",
       "      <th>embedding</th>\n",
       "      <th>TargetID</th>\n",
       "      <th>Gene_Symbol</th>\n",
       "      <th>Chr</th>\n",
       "      <th>Coord</th>\n",
       "      <th>expression</th>\n",
       "    </tr>\n",
       "  </thead>\n",
       "  <tbody>\n",
       "    <tr>\n",
       "      <th>0</th>\n",
       "      <td>NA20795</td>\n",
       "      <td>ENSG00000198502.5</td>\n",
       "      <td>[0.020763932, -0.0043599964, 0.018072195, -0.0...</td>\n",
       "      <td>ENSG00000198502.5</td>\n",
       "      <td>ENSG00000198502.5</td>\n",
       "      <td>6</td>\n",
       "      <td>32498064</td>\n",
       "      <td>177.86778</td>\n",
       "    </tr>\n",
       "    <tr>\n",
       "      <th>1</th>\n",
       "      <td>HG00260</td>\n",
       "      <td>ENSG00000214425.1</td>\n",
       "      <td>[0.034569502, 0.024124226, -0.06553179, -0.017...</td>\n",
       "      <td>ENSG00000214425.1</td>\n",
       "      <td>ENSG00000214425.1</td>\n",
       "      <td>17</td>\n",
       "      <td>43595264</td>\n",
       "      <td>0.48644</td>\n",
       "    </tr>\n",
       "    <tr>\n",
       "      <th>2</th>\n",
       "      <td>HG00173</td>\n",
       "      <td>ENSG00000238083.3</td>\n",
       "      <td>[0.08705197, 0.056551743, 0.033424325, -0.0829...</td>\n",
       "      <td>ENSG00000238083.3</td>\n",
       "      <td>ENSG00000238083.3</td>\n",
       "      <td>17</td>\n",
       "      <td>44588877</td>\n",
       "      <td>6.83944</td>\n",
       "    </tr>\n",
       "    <tr>\n",
       "      <th>3</th>\n",
       "      <td>HG00178</td>\n",
       "      <td>ENSG00000229450.2</td>\n",
       "      <td>[0.14517619, -0.016366798, -0.0096497275, -0.0...</td>\n",
       "      <td>ENSG00000229450.2</td>\n",
       "      <td>ENSG00000229450.2</td>\n",
       "      <td>4</td>\n",
       "      <td>120299287</td>\n",
       "      <td>0.08522</td>\n",
       "    </tr>\n",
       "    <tr>\n",
       "      <th>4</th>\n",
       "      <td>HG00158</td>\n",
       "      <td>ENSG00000179344.11</td>\n",
       "      <td>[0.05826454, 0.0701687, 0.11973057, -0.0561387...</td>\n",
       "      <td>ENSG00000179344.11</td>\n",
       "      <td>ENSG00000179344.11</td>\n",
       "      <td>6</td>\n",
       "      <td>32636160</td>\n",
       "      <td>318.19590</td>\n",
       "    </tr>\n",
       "  </tbody>\n",
       "</table>\n",
       "</div>"
      ],
      "text/plain": [
       "  sample_id             gene_id  \\\n",
       "0   NA20795   ENSG00000198502.5   \n",
       "1   HG00260   ENSG00000214425.1   \n",
       "2   HG00173   ENSG00000238083.3   \n",
       "3   HG00178   ENSG00000229450.2   \n",
       "4   HG00158  ENSG00000179344.11   \n",
       "\n",
       "                                           embedding            TargetID  \\\n",
       "0  [0.020763932, -0.0043599964, 0.018072195, -0.0...   ENSG00000198502.5   \n",
       "1  [0.034569502, 0.024124226, -0.06553179, -0.017...   ENSG00000214425.1   \n",
       "2  [0.08705197, 0.056551743, 0.033424325, -0.0829...   ENSG00000238083.3   \n",
       "3  [0.14517619, -0.016366798, -0.0096497275, -0.0...   ENSG00000229450.2   \n",
       "4  [0.05826454, 0.0701687, 0.11973057, -0.0561387...  ENSG00000179344.11   \n",
       "\n",
       "          Gene_Symbol Chr      Coord  expression  \n",
       "0   ENSG00000198502.5   6   32498064   177.86778  \n",
       "1   ENSG00000214425.1  17   43595264     0.48644  \n",
       "2   ENSG00000238083.3  17   44588877     6.83944  \n",
       "3   ENSG00000229450.2   4  120299287     0.08522  \n",
       "4  ENSG00000179344.11   6   32636160   318.19590  "
      ]
     },
     "execution_count": 3,
     "metadata": {},
     "output_type": "execute_result"
    }
   ],
   "source": [
    "data.head()"
   ]
  },
  {
   "cell_type": "code",
   "execution_count": 4,
   "metadata": {},
   "outputs": [
    {
     "data": {
      "text/plain": [
       "array(['ENSG00000198502.5', 'ENSG00000214425.1', 'ENSG00000238083.3',\n",
       "       'ENSG00000229450.2', 'ENSG00000179344.11', 'ENSG00000237541.3',\n",
       "       'ENSG00000196126.6', 'ENSG00000196735.6', 'ENSG00000176681.9',\n",
       "       'ENSG00000232629.4'], dtype=object)"
      ]
     },
     "execution_count": 4,
     "metadata": {},
     "output_type": "execute_result"
    }
   ],
   "source": [
    "data.gene_id.unique()"
   ]
  },
  {
   "cell_type": "code",
   "execution_count": 5,
   "metadata": {},
   "outputs": [
    {
     "data": {
      "text/html": [
       "<div>\n",
       "<style scoped>\n",
       "    .dataframe tbody tr th:only-of-type {\n",
       "        vertical-align: middle;\n",
       "    }\n",
       "\n",
       "    .dataframe tbody tr th {\n",
       "        vertical-align: top;\n",
       "    }\n",
       "\n",
       "    .dataframe thead th {\n",
       "        text-align: right;\n",
       "    }\n",
       "</style>\n",
       "<table border=\"1\" class=\"dataframe\">\n",
       "  <thead>\n",
       "    <tr style=\"text-align: right;\">\n",
       "      <th></th>\n",
       "      <th>SNP_ID</th>\n",
       "      <th>ID</th>\n",
       "      <th>GENE_ID</th>\n",
       "      <th>PROBE_ID</th>\n",
       "      <th>CHR_SNP</th>\n",
       "      <th>CHR_GENE</th>\n",
       "      <th>SNPpos</th>\n",
       "      <th>TSSpos</th>\n",
       "      <th>distance</th>\n",
       "      <th>rvalue</th>\n",
       "      <th>pvalue</th>\n",
       "      <th>log10pvalue</th>\n",
       "    </tr>\n",
       "  </thead>\n",
       "  <tbody>\n",
       "    <tr>\n",
       "      <th>0</th>\n",
       "      <td>rs1566523</td>\n",
       "      <td>-</td>\n",
       "      <td>ENSG00000142794.11</td>\n",
       "      <td>ENSG00000142794.11</td>\n",
       "      <td>1</td>\n",
       "      <td>1</td>\n",
       "      <td>21766663.0</td>\n",
       "      <td>21766621</td>\n",
       "      <td>42.0</td>\n",
       "      <td>-0.782786</td>\n",
       "      <td>3.883913e-78</td>\n",
       "      <td>77.410730</td>\n",
       "    </tr>\n",
       "    <tr>\n",
       "      <th>1</th>\n",
       "      <td>rs66732917</td>\n",
       "      <td>-</td>\n",
       "      <td>ENSG00000142794.11</td>\n",
       "      <td>ENSG00000142794.11</td>\n",
       "      <td>1</td>\n",
       "      <td>1</td>\n",
       "      <td>21766608.0</td>\n",
       "      <td>21766621</td>\n",
       "      <td>13.0</td>\n",
       "      <td>-0.775971</td>\n",
       "      <td>5.736684e-76</td>\n",
       "      <td>75.241339</td>\n",
       "    </tr>\n",
       "    <tr>\n",
       "      <th>2</th>\n",
       "      <td>rs12734589</td>\n",
       "      <td>-</td>\n",
       "      <td>ENSG00000142794.11</td>\n",
       "      <td>ENSG00000142794.11</td>\n",
       "      <td>1</td>\n",
       "      <td>1</td>\n",
       "      <td>21760127.0</td>\n",
       "      <td>21766621</td>\n",
       "      <td>6494.0</td>\n",
       "      <td>-0.753190</td>\n",
       "      <td>3.094123e-69</td>\n",
       "      <td>68.509462</td>\n",
       "    </tr>\n",
       "    <tr>\n",
       "      <th>3</th>\n",
       "      <td>rs4654745</td>\n",
       "      <td>-</td>\n",
       "      <td>ENSG00000142794.11</td>\n",
       "      <td>ENSG00000142794.11</td>\n",
       "      <td>1</td>\n",
       "      <td>1</td>\n",
       "      <td>21767096.0</td>\n",
       "      <td>21766621</td>\n",
       "      <td>475.0</td>\n",
       "      <td>-0.753071</td>\n",
       "      <td>3.339200e-69</td>\n",
       "      <td>68.476358</td>\n",
       "    </tr>\n",
       "    <tr>\n",
       "      <th>4</th>\n",
       "      <td>rs10916990</td>\n",
       "      <td>-</td>\n",
       "      <td>ENSG00000142794.11</td>\n",
       "      <td>ENSG00000142794.11</td>\n",
       "      <td>1</td>\n",
       "      <td>1</td>\n",
       "      <td>21763132.0</td>\n",
       "      <td>21766621</td>\n",
       "      <td>3489.0</td>\n",
       "      <td>-0.750913</td>\n",
       "      <td>1.327049e-68</td>\n",
       "      <td>67.877113</td>\n",
       "    </tr>\n",
       "  </tbody>\n",
       "</table>\n",
       "</div>"
      ],
      "text/plain": [
       "       SNP_ID ID             GENE_ID            PROBE_ID  CHR_SNP  CHR_GENE  \\\n",
       "0   rs1566523  -  ENSG00000142794.11  ENSG00000142794.11        1         1   \n",
       "1  rs66732917  -  ENSG00000142794.11  ENSG00000142794.11        1         1   \n",
       "2  rs12734589  -  ENSG00000142794.11  ENSG00000142794.11        1         1   \n",
       "3   rs4654745  -  ENSG00000142794.11  ENSG00000142794.11        1         1   \n",
       "4  rs10916990  -  ENSG00000142794.11  ENSG00000142794.11        1         1   \n",
       "\n",
       "       SNPpos    TSSpos  distance    rvalue        pvalue  log10pvalue  \n",
       "0  21766663.0  21766621      42.0 -0.782786  3.883913e-78    77.410730  \n",
       "1  21766608.0  21766621      13.0 -0.775971  5.736684e-76    75.241339  \n",
       "2  21760127.0  21766621    6494.0 -0.753190  3.094123e-69    68.509462  \n",
       "3  21767096.0  21766621     475.0 -0.753071  3.339200e-69    68.476358  \n",
       "4  21763132.0  21766621    3489.0 -0.750913  1.327049e-68    67.877113  "
      ]
     },
     "execution_count": 5,
     "metadata": {},
     "output_type": "execute_result"
    }
   ],
   "source": [
    "snp_data = pd.read_csv(\"/vol/data/ouologuems/systems_genetics/data/datasets/EUR373.gene.cis.FDR5.all.rs137.txt.gz\", sep=\"\\t\")\n",
    "snp_data.head()"
   ]
  },
  {
   "cell_type": "markdown",
   "metadata": {},
   "source": [
    "## Gene: ENSG00000198502.5"
   ]
  },
  {
   "cell_type": "code",
   "execution_count": 6,
   "metadata": {},
   "outputs": [],
   "source": [
    "gene1 = data[data.gene_id == \"ENSG00000198502.5\"]"
   ]
  },
  {
   "cell_type": "code",
   "execution_count": 7,
   "metadata": {},
   "outputs": [],
   "source": [
    "X = np.array(gene1[\"embedding\"].values.tolist())\n",
    "y = np.array(gene1.expression)\n",
    "X_train, X_test, y_train, y_test = train_test_split(X, y, test_size=0.3, random_state=42)"
   ]
  },
  {
   "cell_type": "code",
   "execution_count": 8,
   "metadata": {},
   "outputs": [],
   "source": [
    "lasso = Lasso()\n",
    "params = {\"alpha\": uniform(1e-10, 10)}"
   ]
  },
  {
   "cell_type": "code",
   "execution_count": 9,
   "metadata": {},
   "outputs": [],
   "source": [
    "clf = RandomizedSearchCV(lasso, param_distributions = params, n_iter=20, scoring =\"neg_mean_squared_error\",\n",
    "                         cv = 5,random_state=42, return_train_score=True)\n",
    "search = clf.fit(X_train, y_train)"
   ]
  },
  {
   "cell_type": "code",
   "execution_count": 10,
   "metadata": {},
   "outputs": [
    {
     "data": {
      "text/plain": [
       "{'alpha': 0.20584494305802448}"
      ]
     },
     "execution_count": 10,
     "metadata": {},
     "output_type": "execute_result"
    }
   ],
   "source": [
    "search.best_params_"
   ]
  },
  {
   "cell_type": "code",
   "execution_count": 11,
   "metadata": {},
   "outputs": [
    {
     "data": {
      "text/plain": [
       "-11349.768485905664"
      ]
     },
     "execution_count": 11,
     "metadata": {},
     "output_type": "execute_result"
    }
   ],
   "source": [
    "search.best_score_"
   ]
  },
  {
   "cell_type": "code",
   "execution_count": 12,
   "metadata": {},
   "outputs": [
    {
     "data": {
      "text/plain": [
       "0.15154062101695553"
      ]
     },
     "execution_count": 12,
     "metadata": {},
     "output_type": "execute_result"
    }
   ],
   "source": [
    "lasso = search.best_estimator_\n",
    "r2 = lasso.score(X_train, y_train)\n",
    "r2"
   ]
  },
  {
   "cell_type": "code",
   "execution_count": 13,
   "metadata": {},
   "outputs": [
    {
     "data": {
      "text/plain": [
       "10753.823109795734"
      ]
     },
     "execution_count": 13,
     "metadata": {},
     "output_type": "execute_result"
    }
   ],
   "source": [
    "y_pred = lasso.predict(X_train)\n",
    "mean_squared_error(y_train, y_pred)"
   ]
  },
  {
   "cell_type": "code",
   "execution_count": 14,
   "metadata": {},
   "outputs": [
    {
     "data": {
      "image/png": "[encoded data removed]",
      "text/plain": [
       "<Figure size 640x480 with 1 Axes>"
      ]
     },
     "metadata": {},
     "output_type": "display_data"
    }
   ],
   "source": [
    "plt.scatter(y_train, y_pred)\n",
    "plt.show()"
   ]
  },
  {
   "cell_type": "code",
   "execution_count": 15,
   "metadata": {},
   "outputs": [
    {
     "data": {
      "image/png": "[encoded data removed]",
      "text/plain": [
       "<Figure size 640x480 with 1 Axes>"
      ]
     },
     "metadata": {},
     "output_type": "display_data"
    }
   ],
   "source": [
    "snp_gene1 = snp_data[snp_data.GENE_ID == \"ENSG00000198502.5\"]\n",
    "snp_gene1.loc[len(snp_gene1.index)] = [None, None, \"ENSG00000198502.5\", None, None, None, None, None, None, r2, None, None]\n",
    "\n",
    "# creating boxplot \n",
    "sns.boxplot(x = \"GENE_ID\", y =\"rvalue\", data=snp_gene1) \n",
    "# adding data points \n",
    "sns.stripplot(x = \"GENE_ID\", y =\"rvalue\",data=snp_gene1[snp_gene1.ID.notnull()]) \n",
    "sns.stripplot(x = \"GENE_ID\", y =\"rvalue\",data=snp_gene1[~snp_gene1.ID.notnull()], color=\"red\") \n",
    "# display plot \n",
    "plt.show() "
   ]
  },
  {
   "cell_type": "code",
   "execution_count": 50,
   "metadata": {},
   "outputs": [
    {
     "data": {
      "text/plain": [
       "11143.75902525764"
      ]
     },
     "execution_count": 50,
     "metadata": {},
     "output_type": "execute_result"
    }
   ],
   "source": [
    "#y_pred = lasso.predict(X_test)\n",
    "#mean_squared_error(y_test, y_pred)"
   ]
  },
  {
   "cell_type": "markdown",
   "metadata": {},
   "source": [
    "## Gene: ENSG00000196735.6"
   ]
  },
  {
   "cell_type": "code",
   "execution_count": 16,
   "metadata": {},
   "outputs": [],
   "source": [
    "gene2 = data[data.gene_id == \"ENSG00000196735.6\"]"
   ]
  },
  {
   "cell_type": "code",
   "execution_count": 17,
   "metadata": {},
   "outputs": [],
   "source": [
    "X = np.array(gene2[\"embedding\"].values.tolist())\n",
    "y = np.array(gene2.expression)\n",
    "X_train, X_test, y_train, y_test = train_test_split(X, y, test_size=0.3, random_state=42)\n",
    "lasso= Lasso()\n",
    "params = {\"alpha\": uniform(1e-10, 10)}\n",
    "clf = RandomizedSearchCV(lasso, param_distributions = params, n_iter=20, scoring =\"neg_mean_squared_error\",\n",
    "                         cv = 5,random_state=42, return_train_score=True)\n",
    "search = clf.fit(X_train, y_train)"
   ]
  },
  {
   "cell_type": "code",
   "execution_count": 18,
   "metadata": {},
   "outputs": [
    {
     "data": {
      "text/plain": [
       "({'alpha': 0.20584494305802448}, -21883.383769154676)"
      ]
     },
     "execution_count": 18,
     "metadata": {},
     "output_type": "execute_result"
    }
   ],
   "source": [
    "search.best_params_, search.best_score_"
   ]
  },
  {
   "cell_type": "code",
   "execution_count": 19,
   "metadata": {},
   "outputs": [
    {
     "data": {
      "text/plain": [
       "0.4064202680171899"
      ]
     },
     "execution_count": 19,
     "metadata": {},
     "output_type": "execute_result"
    }
   ],
   "source": [
    "lasso= search.best_estimator_\n",
    "r2 = lasso.score(X_train, y_train)\n",
    "r2"
   ]
  },
  {
   "cell_type": "code",
   "execution_count": 20,
   "metadata": {},
   "outputs": [
    {
     "data": {
      "text/plain": [
       "19329.6741287456"
      ]
     },
     "execution_count": 20,
     "metadata": {},
     "output_type": "execute_result"
    }
   ],
   "source": [
    "y_pred = lasso.predict(X_train)\n",
    "mean_squared_error(y_train, y_pred)"
   ]
  },
  {
   "cell_type": "code",
   "execution_count": 21,
   "metadata": {},
   "outputs": [
    {
     "data": {
      "image/png": "[encoded data removed]",
      "text/plain": [
       "<Figure size 640x480 with 1 Axes>"
      ]
     },
     "metadata": {},
     "output_type": "display_data"
    }
   ],
   "source": [
    "plt.scatter(y_train, y_pred)\n",
    "plt.show()"
   ]
  },
  {
   "cell_type": "code",
   "execution_count": 22,
   "metadata": {},
   "outputs": [
    {
     "data": {
      "image/png": "[encoded data removed]",
      "text/plain": [
       "<Figure size 640x480 with 1 Axes>"
      ]
     },
     "metadata": {},
     "output_type": "display_data"
    }
   ],
   "source": [
    "snp_gene2 = snp_data[snp_data.GENE_ID == \"ENSG00000196735.6\"]\n",
    "snp_gene2.loc[len(snp_gene2.index)] = [None, None, \"ENSG00000196735.6\", None, None, None, None, None, None, r2, None, None]\n",
    "# creating boxplot \n",
    "sns.boxplot(x = \"GENE_ID\", y =\"rvalue\", data=snp_gene2) \n",
    "  \n",
    "# adding data points \n",
    "sns.stripplot(x = \"GENE_ID\", y =\"rvalue\",data=snp_gene2[snp_gene2.ID.notnull()]) \n",
    "sns.stripplot(x = \"GENE_ID\", y =\"rvalue\",data=snp_gene2[~snp_gene2.ID.notnull()], color=\"red\") \n",
    "# display plot \n",
    "plt.show() "
   ]
  },
  {
   "cell_type": "code",
   "execution_count": null,
   "metadata": {},
   "outputs": [],
   "source": []
  }
 ],
 "metadata": {
  "kernelspec": {
   "display_name": "gaushvi",
   "language": "python",
   "name": "python3"
  },
  "language_info": {
   "codemirror_mode": {
    "name": "ipython",
    "version": 3
   },
   "file_extension": ".py",
   "mimetype": "text/x-python",
   "name": "python",
   "nbconvert_exporter": "python",
   "pygments_lexer": "ipython3",
   "version": "3.10.13"
  }
 },
 "nbformat": 4,
 "nbformat_minor": 2
}
